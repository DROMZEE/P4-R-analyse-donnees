{
 "cells": [
  {
   "cell_type": "markdown",
   "metadata": {},
   "source": [
    "# Projet R - Analyse des données"
   ]
  },
  {
   "cell_type": "markdown",
   "metadata": {
    "toc": true
   },
   "source": [
    "<h1>Table of Contents<span class=\"tocSkip\"></span></h1>\n",
    "<div class=\"toc\"><ul class=\"toc-item\"><li><span><a href=\"#Projet-R---Analyse-des-données\" data-toc-modified-id=\"Projet-R---Analyse-des-données-1\"><span class=\"toc-item-num\">1&nbsp;&nbsp;</span>Projet R - Analyse des données</a></span><ul class=\"toc-item\"><li><span><a href=\"#Premiers-traitements\" data-toc-modified-id=\"Premiers-traitements-1.1\"><span class=\"toc-item-num\">1.1&nbsp;&nbsp;</span>Premiers traitements</a></span><ul class=\"toc-item\"><li><span><a href=\"#Parcourez-la-base-flights-en-affichant-les-noms-et-les-types-des-variables-présentes.\" data-toc-modified-id=\"Parcourez-la-base-flights-en-affichant-les-noms-et-les-types-des-variables-présentes.-1.1.1\"><span class=\"toc-item-num\">1.1.1&nbsp;&nbsp;</span>Parcourez la base flights en affichant les noms et les types des variables présentes.</a></span></li><li><span><a href=\"#les-vols\" data-toc-modified-id=\"les-vols-1.1.2\"><span class=\"toc-item-num\">1.1.2&nbsp;&nbsp;</span>les vols</a></span><ul class=\"toc-item\"><li><span><a href=\"#distance-du-vol\" data-toc-modified-id=\"distance-du-vol-1.1.2.1\"><span class=\"toc-item-num\">1.1.2.1&nbsp;&nbsp;</span>distance du vol</a></span></li><li><span><a href=\"#sa-durée\" data-toc-modified-id=\"sa-durée-1.1.2.2\"><span class=\"toc-item-num\">1.1.2.2&nbsp;&nbsp;</span>sa durée</a></span></li><li><span><a href=\"#retard-au-départ\" data-toc-modified-id=\"retard-au-départ-1.1.2.3\"><span class=\"toc-item-num\">1.1.2.3&nbsp;&nbsp;</span>retard au départ</a></span></li><li><span><a href=\"#retard-à-l’arrivée\" data-toc-modified-id=\"retard-à-l’arrivée-1.1.2.4\"><span class=\"toc-item-num\">1.1.2.4&nbsp;&nbsp;</span>retard à l’arrivée</a></span></li><li><span><a href=\"#À-quoi-sont-dûs-ces-valeurs-manquantes?\" data-toc-modified-id=\"À-quoi-sont-dûs-ces-valeurs-manquantes?-1.1.2.5\"><span class=\"toc-item-num\">1.1.2.5&nbsp;&nbsp;</span>À quoi sont dûs ces valeurs manquantes?</a></span></li><li><span><a href=\"#Comment-les-traiter\" data-toc-modified-id=\"Comment-les-traiter-1.1.2.6\"><span class=\"toc-item-num\">1.1.2.6&nbsp;&nbsp;</span>Comment les traiter</a></span></li></ul></li><li><span><a href=\"#Statistiques\" data-toc-modified-id=\"Statistiques-1.1.3\"><span class=\"toc-item-num\">1.1.3&nbsp;&nbsp;</span>Statistiques</a></span><ul class=\"toc-item\"><li><span><a href=\"#Moyenne\" data-toc-modified-id=\"Moyenne-1.1.3.1\"><span class=\"toc-item-num\">1.1.3.1&nbsp;&nbsp;</span>Moyenne</a></span></li><li><span><a href=\"#écart-type-(sd)\" data-toc-modified-id=\"écart-type-(sd)-1.1.3.2\"><span class=\"toc-item-num\">1.1.3.2&nbsp;&nbsp;</span>écart-type (sd)</a></span></li><li><span><a href=\"#min\" data-toc-modified-id=\"min-1.1.3.3\"><span class=\"toc-item-num\">1.1.3.3&nbsp;&nbsp;</span>min</a></span></li><li><span><a href=\"#max\" data-toc-modified-id=\"max-1.1.3.4\"><span class=\"toc-item-num\">1.1.3.4&nbsp;&nbsp;</span>max</a></span></li></ul></li></ul></li><li><span><a href=\"#Rapprochement-avec-des-données-météo\" data-toc-modified-id=\"Rapprochement-avec-des-données-météo-1.2\"><span class=\"toc-item-num\">1.2&nbsp;&nbsp;</span>Rapprochement avec des données météo</a></span><ul class=\"toc-item\"><li><span><a href=\"#base-weather\" data-toc-modified-id=\"base-weather-1.2.1\"><span class=\"toc-item-num\">1.2.1&nbsp;&nbsp;</span>base weather</a></span></li><li><span><a href=\"#Sortez-des-statistiques-sur-les-variables-qui-vous-semblent-pouvoir-impacter-le-retard-des-avions,-sur-toute-la-base-puis-selon-l’aéroport.\" data-toc-modified-id=\"Sortez-des-statistiques-sur-les-variables-qui-vous-semblent-pouvoir-impacter-le-retard-des-avions,-sur-toute-la-base-puis-selon-l’aéroport.-1.2.2\"><span class=\"toc-item-num\">1.2.2&nbsp;&nbsp;</span>Sortez des statistiques sur les variables qui vous semblent pouvoir impacter le retard des avions, sur toute la base puis selon l’aéroport.</a></span><ul class=\"toc-item\"><li><span><a href=\"#day\" data-toc-modified-id=\"day-1.2.2.1\"><span class=\"toc-item-num\">1.2.2.1&nbsp;&nbsp;</span>day</a></span></li><li><span><a href=\"#temp\" data-toc-modified-id=\"temp-1.2.2.2\"><span class=\"toc-item-num\">1.2.2.2&nbsp;&nbsp;</span>temp</a></span></li><li><span><a href=\"#Point-de-rosée-:-dewp-(dewpoint-in-F)\" data-toc-modified-id=\"Point-de-rosée-:-dewp-(dewpoint-in-F)-1.2.2.3\"><span class=\"toc-item-num\">1.2.2.3&nbsp;&nbsp;</span>Point de rosée : dewp (dewpoint in F)</a></span></li><li><span><a href=\"#humid\" data-toc-modified-id=\"humid-1.2.2.4\"><span class=\"toc-item-num\">1.2.2.4&nbsp;&nbsp;</span>humid</a></span></li><li><span><a href=\"#wind_dir\" data-toc-modified-id=\"wind_dir-1.2.2.5\"><span class=\"toc-item-num\">1.2.2.5&nbsp;&nbsp;</span>wind_dir</a></span></li><li><span><a href=\"#wind_speed\" data-toc-modified-id=\"wind_speed-1.2.2.6\"><span class=\"toc-item-num\">1.2.2.6&nbsp;&nbsp;</span>wind_speed</a></span></li><li><span><a href=\"#wind_gust\" data-toc-modified-id=\"wind_gust-1.2.2.7\"><span class=\"toc-item-num\">1.2.2.7&nbsp;&nbsp;</span>wind_gust</a></span></li><li><span><a href=\"#pluie-:-precip\" data-toc-modified-id=\"pluie-:-precip-1.2.2.8\"><span class=\"toc-item-num\">1.2.2.8&nbsp;&nbsp;</span>pluie : precip</a></span></li><li><span><a href=\"#pressure\" data-toc-modified-id=\"pressure-1.2.2.9\"><span class=\"toc-item-num\">1.2.2.9&nbsp;&nbsp;</span>pressure</a></span></li><li><span><a href=\"#visib\" data-toc-modified-id=\"visib-1.2.2.10\"><span class=\"toc-item-num\">1.2.2.10&nbsp;&nbsp;</span>visib</a></span></li><li><span><a href=\"#time_hour\" data-toc-modified-id=\"time_hour-1.2.2.11\"><span class=\"toc-item-num\">1.2.2.11&nbsp;&nbsp;</span>time_hour</a></span></li></ul></li><li><span><a href=\"#Quel-traitement-reste-t-il-à-faire-sur-la-base-de-données-flights-pour-pouvoir-la-rapprocher-des-données-météo?\" data-toc-modified-id=\"Quel-traitement-reste-t-il-à-faire-sur-la-base-de-données-flights-pour-pouvoir-la-rapprocher-des-données-météo?-1.2.3\"><span class=\"toc-item-num\">1.2.3&nbsp;&nbsp;</span>Quel traitement reste-t-il à faire sur la base de données flights pour pouvoir la rapprocher des données météo?</a></span></li><li><span><a href=\"#Fusion-de-tables\" data-toc-modified-id=\"Fusion-de-tables-1.2.4\"><span class=\"toc-item-num\">1.2.4&nbsp;&nbsp;</span>Fusion de tables</a></span></li><li><span><a href=\"#Vérifiez-que-de-nouvelles-valeurs-manquantes-ne-sont-pas-apparues-dans-cette-nouvelle-table,-si-oui-traitez-les.\" data-toc-modified-id=\"Vérifiez-que-de-nouvelles-valeurs-manquantes-ne-sont-pas-apparues-dans-cette-nouvelle-table,-si-oui-traitez-les.-1.2.5\"><span class=\"toc-item-num\">1.2.5&nbsp;&nbsp;</span>Vérifiez que de nouvelles valeurs manquantes ne sont pas apparues dans cette nouvelle table, si oui traitez-les.</a></span></li></ul></li><li><span><a href=\"#Analyse\" data-toc-modified-id=\"Analyse-1.3\"><span class=\"toc-item-num\">1.3&nbsp;&nbsp;</span>Analyse</a></span></li></ul></li></ul></div>"
   ]
  },
  {
   "cell_type": "markdown",
   "metadata": {},
   "source": [
    "Imports"
   ]
  },
  {
   "cell_type": "code",
   "execution_count": null,
   "metadata": {},
   "outputs": [],
   "source": [
    "# install.packages(\"corrplot\")"
   ]
  },
  {
   "cell_type": "code",
   "execution_count": 2,
   "metadata": {},
   "outputs": [
    {
     "data": {
      "text/plain": [
       "\n",
       "To cite corrplot in publications use:\n",
       "\n",
       "  Taiyun Wei and Viliam Simko (2017). R package \"corrplot\":\n",
       "  Visualization of a Correlation Matrix (Version 0.84). Available from\n",
       "  https://github.com/taiyun/corrplot\n",
       "\n",
       "A BibTeX entry for LaTeX users is\n",
       "\n",
       "  @Manual{corrplot2017,\n",
       "    title = {R package \"corrplot\": Visualization of a Correlation Matrix},\n",
       "    author = {Taiyun Wei and Viliam Simko},\n",
       "    year = {2017},\n",
       "    note = {(Version 0.84)},\n",
       "    url = {https://github.com/taiyun/corrplot},\n",
       "  }\n"
      ]
     },
     "metadata": {},
     "output_type": "display_data"
    }
   ],
   "source": [
    "library(tidyr)\n",
    "library(ggplot2)\n",
    "library(dplyr)\n",
    "library(nycflights13)\n",
    "library(knitr)\n",
    "library(corrplot)\n",
    "citation(\"corrplot\")\n",
    "#conda install -c conda-forge r-performanceanalytics\n",
    "library(\"PerformanceAnalytics\")"
   ]
  },
  {
   "cell_type": "markdown",
   "metadata": {},
   "source": [
    " five datasets saved as “data frames"
   ]
  },
  {
   "cell_type": "markdown",
   "metadata": {},
   "source": [
    "## Premiers traitements"
   ]
  },
  {
   "cell_type": "markdown",
   "metadata": {},
   "source": [
    "### Parcourez la base flights en affichant les noms et les types des variables présentes. \n",
    "Vous pouvez aussi accéder à un dictionnaire des variables en tapant ?nycflights13::flights dans votre console."
   ]
  },
  {
   "cell_type": "code",
   "execution_count": 4,
   "metadata": {},
   "outputs": [
    {
     "name": "stdout",
     "output_type": "stream",
     "text": [
      "Classes 'tbl_df', 'tbl' and 'data.frame':\t336776 obs. of  19 variables:\n",
      " $ year          : int  2013 2013 2013 2013 2013 2013 2013 2013 2013 2013 ...\n",
      " $ month         : int  1 1 1 1 1 1 1 1 1 1 ...\n",
      " $ day           : int  1 1 1 1 1 1 1 1 1 1 ...\n",
      " $ dep_time      : int  517 533 542 544 554 554 555 557 557 558 ...\n",
      " $ sched_dep_time: int  515 529 540 545 600 558 600 600 600 600 ...\n",
      " $ dep_delay     : num  2 4 2 -1 -6 -4 -5 -3 -3 -2 ...\n",
      " $ arr_time      : int  830 850 923 1004 812 740 913 709 838 753 ...\n",
      " $ sched_arr_time: int  819 830 850 1022 837 728 854 723 846 745 ...\n",
      " $ arr_delay     : num  11 20 33 -18 -25 12 19 -14 -8 8 ...\n",
      " $ carrier       : chr  \"UA\" \"UA\" \"AA\" \"B6\" ...\n",
      " $ flight        : int  1545 1714 1141 725 461 1696 507 5708 79 301 ...\n",
      " $ tailnum       : chr  \"N14228\" \"N24211\" \"N619AA\" \"N804JB\" ...\n",
      " $ origin        : chr  \"EWR\" \"LGA\" \"JFK\" \"JFK\" ...\n",
      " $ dest          : chr  \"IAH\" \"IAH\" \"MIA\" \"BQN\" ...\n",
      " $ air_time      : num  227 227 160 183 116 150 158 53 140 138 ...\n",
      " $ distance      : num  1400 1416 1089 1576 762 ...\n",
      " $ hour          : num  5 5 5 5 6 5 6 6 6 6 ...\n",
      " $ minute        : num  15 29 40 45 0 58 0 0 0 0 ...\n",
      " $ time_hour     : POSIXct, format: \"2013-01-01 05:00:00\" \"2013-01-01 05:00:00\" ...\n"
     ]
    }
   ],
   "source": [
    "str(flights)"
   ]
  },
  {
   "cell_type": "code",
   "execution_count": 3,
   "metadata": {},
   "outputs": [
    {
     "data": {
      "text/html": [
       "'list'"
      ],
      "text/latex": [
       "'list'"
      ],
      "text/markdown": [
       "'list'"
      ],
      "text/plain": [
       "[1] \"list\""
      ]
     },
     "metadata": {},
     "output_type": "display_data"
    }
   ],
   "source": [
    "mode(flights)"
   ]
  },
  {
   "cell_type": "code",
   "execution_count": 4,
   "metadata": {},
   "outputs": [
    {
     "data": {
      "text/html": [
       "<ol class=list-inline>\n",
       "\t<li>'tbl_df'</li>\n",
       "\t<li>'tbl'</li>\n",
       "\t<li>'data.frame'</li>\n",
       "</ol>\n"
      ],
      "text/latex": [
       "\\begin{enumerate*}\n",
       "\\item 'tbl\\_df'\n",
       "\\item 'tbl'\n",
       "\\item 'data.frame'\n",
       "\\end{enumerate*}\n"
      ],
      "text/markdown": [
       "1. 'tbl_df'\n",
       "2. 'tbl'\n",
       "3. 'data.frame'\n",
       "\n",
       "\n"
      ],
      "text/plain": [
       "[1] \"tbl_df\"     \"tbl\"        \"data.frame\""
      ]
     },
     "metadata": {},
     "output_type": "display_data"
    }
   ],
   "source": [
    "class(flights)"
   ]
  },
  {
   "cell_type": "code",
   "execution_count": 5,
   "metadata": {},
   "outputs": [
    {
     "ename": "ERROR",
     "evalue": "Error in introduce(flights): impossible de trouver la fonction \"introduce\"\n",
     "output_type": "error",
     "traceback": [
      "Error in introduce(flights): impossible de trouver la fonction \"introduce\"\nTraceback:\n"
     ]
    }
   ],
   "source": [
    "introduce(flights)"
   ]
  },
  {
   "cell_type": "code",
   "execution_count": 5,
   "metadata": {},
   "outputs": [
    {
     "data": {
      "text/html": [
       "<table>\n",
       "<thead><tr><th scope=col>year</th><th scope=col>month</th><th scope=col>day</th><th scope=col>dep_time</th><th scope=col>sched_dep_time</th><th scope=col>dep_delay</th><th scope=col>arr_time</th><th scope=col>sched_arr_time</th><th scope=col>arr_delay</th><th scope=col>carrier</th><th scope=col>flight</th><th scope=col>tailnum</th><th scope=col>origin</th><th scope=col>dest</th><th scope=col>air_time</th><th scope=col>distance</th><th scope=col>hour</th><th scope=col>minute</th><th scope=col>time_hour</th></tr></thead>\n",
       "<tbody>\n",
       "\t<tr><td>2013               </td><td>1                  </td><td>1                  </td><td>517                </td><td>515                </td><td> 2                 </td><td> 830               </td><td> 819               </td><td> 11                </td><td>UA                 </td><td>1545               </td><td>N14228             </td><td>EWR                </td><td>IAH                </td><td>227                </td><td>1400               </td><td>5                  </td><td>15                 </td><td>2013-01-01 05:00:00</td></tr>\n",
       "\t<tr><td>2013               </td><td>1                  </td><td>1                  </td><td>533                </td><td>529                </td><td> 4                 </td><td> 850               </td><td> 830               </td><td> 20                </td><td>UA                 </td><td>1714               </td><td>N24211             </td><td>LGA                </td><td>IAH                </td><td>227                </td><td>1416               </td><td>5                  </td><td>29                 </td><td>2013-01-01 05:00:00</td></tr>\n",
       "\t<tr><td>2013               </td><td>1                  </td><td>1                  </td><td>542                </td><td>540                </td><td> 2                 </td><td> 923               </td><td> 850               </td><td> 33                </td><td>AA                 </td><td>1141               </td><td>N619AA             </td><td>JFK                </td><td>MIA                </td><td>160                </td><td>1089               </td><td>5                  </td><td>40                 </td><td>2013-01-01 05:00:00</td></tr>\n",
       "\t<tr><td>2013               </td><td>1                  </td><td>1                  </td><td>544                </td><td>545                </td><td>-1                 </td><td>1004               </td><td>1022               </td><td>-18                </td><td>B6                 </td><td> 725               </td><td>N804JB             </td><td>JFK                </td><td>BQN                </td><td>183                </td><td>1576               </td><td>5                  </td><td>45                 </td><td>2013-01-01 05:00:00</td></tr>\n",
       "\t<tr><td>2013               </td><td>1                  </td><td>1                  </td><td>554                </td><td>600                </td><td>-6                 </td><td> 812               </td><td> 837               </td><td>-25                </td><td>DL                 </td><td> 461               </td><td>N668DN             </td><td>LGA                </td><td>ATL                </td><td>116                </td><td> 762               </td><td>6                  </td><td> 0                 </td><td>2013-01-01 06:00:00</td></tr>\n",
       "\t<tr><td>2013               </td><td>1                  </td><td>1                  </td><td>554                </td><td>558                </td><td>-4                 </td><td> 740               </td><td> 728               </td><td> 12                </td><td>UA                 </td><td>1696               </td><td>N39463             </td><td>EWR                </td><td>ORD                </td><td>150                </td><td> 719               </td><td>5                  </td><td>58                 </td><td>2013-01-01 05:00:00</td></tr>\n",
       "</tbody>\n",
       "</table>\n"
      ],
      "text/latex": [
       "\\begin{tabular}{r|lllllllllllllllllll}\n",
       " year & month & day & dep\\_time & sched\\_dep\\_time & dep\\_delay & arr\\_time & sched\\_arr\\_time & arr\\_delay & carrier & flight & tailnum & origin & dest & air\\_time & distance & hour & minute & time\\_hour\\\\\n",
       "\\hline\n",
       "\t 2013                & 1                   & 1                   & 517                 & 515                 &  2                  &  830                &  819                &  11                 & UA                  & 1545                & N14228              & EWR                 & IAH                 & 227                 & 1400                & 5                   & 15                  & 2013-01-01 05:00:00\\\\\n",
       "\t 2013                & 1                   & 1                   & 533                 & 529                 &  4                  &  850                &  830                &  20                 & UA                  & 1714                & N24211              & LGA                 & IAH                 & 227                 & 1416                & 5                   & 29                  & 2013-01-01 05:00:00\\\\\n",
       "\t 2013                & 1                   & 1                   & 542                 & 540                 &  2                  &  923                &  850                &  33                 & AA                  & 1141                & N619AA              & JFK                 & MIA                 & 160                 & 1089                & 5                   & 40                  & 2013-01-01 05:00:00\\\\\n",
       "\t 2013                & 1                   & 1                   & 544                 & 545                 & -1                  & 1004                & 1022                & -18                 & B6                  &  725                & N804JB              & JFK                 & BQN                 & 183                 & 1576                & 5                   & 45                  & 2013-01-01 05:00:00\\\\\n",
       "\t 2013                & 1                   & 1                   & 554                 & 600                 & -6                  &  812                &  837                & -25                 & DL                  &  461                & N668DN              & LGA                 & ATL                 & 116                 &  762                & 6                   &  0                  & 2013-01-01 06:00:00\\\\\n",
       "\t 2013                & 1                   & 1                   & 554                 & 558                 & -4                  &  740                &  728                &  12                 & UA                  & 1696                & N39463              & EWR                 & ORD                 & 150                 &  719                & 5                   & 58                  & 2013-01-01 05:00:00\\\\\n",
       "\\end{tabular}\n"
      ],
      "text/markdown": [
       "\n",
       "| year | month | day | dep_time | sched_dep_time | dep_delay | arr_time | sched_arr_time | arr_delay | carrier | flight | tailnum | origin | dest | air_time | distance | hour | minute | time_hour |\n",
       "|---|---|---|---|---|---|---|---|---|---|---|---|---|---|---|---|---|---|---|\n",
       "| 2013                | 1                   | 1                   | 517                 | 515                 |  2                  |  830                |  819                |  11                 | UA                  | 1545                | N14228              | EWR                 | IAH                 | 227                 | 1400                | 5                   | 15                  | 2013-01-01 05:00:00 |\n",
       "| 2013                | 1                   | 1                   | 533                 | 529                 |  4                  |  850                |  830                |  20                 | UA                  | 1714                | N24211              | LGA                 | IAH                 | 227                 | 1416                | 5                   | 29                  | 2013-01-01 05:00:00 |\n",
       "| 2013                | 1                   | 1                   | 542                 | 540                 |  2                  |  923                |  850                |  33                 | AA                  | 1141                | N619AA              | JFK                 | MIA                 | 160                 | 1089                | 5                   | 40                  | 2013-01-01 05:00:00 |\n",
       "| 2013                | 1                   | 1                   | 544                 | 545                 | -1                  | 1004                | 1022                | -18                 | B6                  |  725                | N804JB              | JFK                 | BQN                 | 183                 | 1576                | 5                   | 45                  | 2013-01-01 05:00:00 |\n",
       "| 2013                | 1                   | 1                   | 554                 | 600                 | -6                  |  812                |  837                | -25                 | DL                  |  461                | N668DN              | LGA                 | ATL                 | 116                 |  762                | 6                   |  0                  | 2013-01-01 06:00:00 |\n",
       "| 2013                | 1                   | 1                   | 554                 | 558                 | -4                  |  740                |  728                |  12                 | UA                  | 1696                | N39463              | EWR                 | ORD                 | 150                 |  719                | 5                   | 58                  | 2013-01-01 05:00:00 |\n",
       "\n"
      ],
      "text/plain": [
       "  year month day dep_time sched_dep_time dep_delay arr_time sched_arr_time\n",
       "1 2013 1     1   517      515             2         830      819          \n",
       "2 2013 1     1   533      529             4         850      830          \n",
       "3 2013 1     1   542      540             2         923      850          \n",
       "4 2013 1     1   544      545            -1        1004     1022          \n",
       "5 2013 1     1   554      600            -6         812      837          \n",
       "6 2013 1     1   554      558            -4         740      728          \n",
       "  arr_delay carrier flight tailnum origin dest air_time distance hour minute\n",
       "1  11       UA      1545   N14228  EWR    IAH  227      1400     5    15    \n",
       "2  20       UA      1714   N24211  LGA    IAH  227      1416     5    29    \n",
       "3  33       AA      1141   N619AA  JFK    MIA  160      1089     5    40    \n",
       "4 -18       B6       725   N804JB  JFK    BQN  183      1576     5    45    \n",
       "5 -25       DL       461   N668DN  LGA    ATL  116       762     6     0    \n",
       "6  12       UA      1696   N39463  EWR    ORD  150       719     5    58    \n",
       "  time_hour          \n",
       "1 2013-01-01 05:00:00\n",
       "2 2013-01-01 05:00:00\n",
       "3 2013-01-01 05:00:00\n",
       "4 2013-01-01 05:00:00\n",
       "5 2013-01-01 06:00:00\n",
       "6 2013-01-01 05:00:00"
      ]
     },
     "metadata": {},
     "output_type": "display_data"
    }
   ],
   "source": [
    "head(flights)"
   ]
  },
  {
   "cell_type": "code",
   "execution_count": 6,
   "metadata": {},
   "outputs": [
    {
     "data": {
      "text/html": [
       "<table>\n",
       "<thead><tr><th scope=col>year</th><th scope=col>month</th><th scope=col>day</th><th scope=col>dep_time</th><th scope=col>sched_dep_time</th><th scope=col>dep_delay</th><th scope=col>arr_time</th><th scope=col>sched_arr_time</th><th scope=col>arr_delay</th><th scope=col>carrier</th><th scope=col>flight</th><th scope=col>tailnum</th><th scope=col>origin</th><th scope=col>dest</th><th scope=col>air_time</th><th scope=col>distance</th><th scope=col>hour</th><th scope=col>minute</th><th scope=col>time_hour</th></tr></thead>\n",
       "<tbody>\n",
       "\t<tr><td>2013               </td><td>1                  </td><td>1                  </td><td>517                </td><td>515                </td><td> 2                 </td><td> 830               </td><td> 819               </td><td> 11                </td><td>UA                 </td><td>1545               </td><td>N14228             </td><td>EWR                </td><td>IAH                </td><td>227                </td><td>1400               </td><td>5                  </td><td>15                 </td><td>2013-01-01 05:00:00</td></tr>\n",
       "\t<tr><td>2013               </td><td>1                  </td><td>1                  </td><td>533                </td><td>529                </td><td> 4                 </td><td> 850               </td><td> 830               </td><td> 20                </td><td>UA                 </td><td>1714               </td><td>N24211             </td><td>LGA                </td><td>IAH                </td><td>227                </td><td>1416               </td><td>5                  </td><td>29                 </td><td>2013-01-01 05:00:00</td></tr>\n",
       "\t<tr><td>2013               </td><td>1                  </td><td>1                  </td><td>542                </td><td>540                </td><td> 2                 </td><td> 923               </td><td> 850               </td><td> 33                </td><td>AA                 </td><td>1141               </td><td>N619AA             </td><td>JFK                </td><td>MIA                </td><td>160                </td><td>1089               </td><td>5                  </td><td>40                 </td><td>2013-01-01 05:00:00</td></tr>\n",
       "\t<tr><td>2013               </td><td>1                  </td><td>1                  </td><td>544                </td><td>545                </td><td>-1                 </td><td>1004               </td><td>1022               </td><td>-18                </td><td>B6                 </td><td> 725               </td><td>N804JB             </td><td>JFK                </td><td>BQN                </td><td>183                </td><td>1576               </td><td>5                  </td><td>45                 </td><td>2013-01-01 05:00:00</td></tr>\n",
       "\t<tr><td>2013               </td><td>1                  </td><td>1                  </td><td>554                </td><td>600                </td><td>-6                 </td><td> 812               </td><td> 837               </td><td>-25                </td><td>DL                 </td><td> 461               </td><td>N668DN             </td><td>LGA                </td><td>ATL                </td><td>116                </td><td> 762               </td><td>6                  </td><td> 0                 </td><td>2013-01-01 06:00:00</td></tr>\n",
       "\t<tr><td>2013               </td><td>1                  </td><td>1                  </td><td>554                </td><td>558                </td><td>-4                 </td><td> 740               </td><td> 728               </td><td> 12                </td><td>UA                 </td><td>1696               </td><td>N39463             </td><td>EWR                </td><td>ORD                </td><td>150                </td><td> 719               </td><td>5                  </td><td>58                 </td><td>2013-01-01 05:00:00</td></tr>\n",
       "\t<tr><td>2013               </td><td>1                  </td><td>1                  </td><td>555                </td><td>600                </td><td>-5                 </td><td> 913               </td><td> 854               </td><td> 19                </td><td>B6                 </td><td> 507               </td><td>N516JB             </td><td>EWR                </td><td>FLL                </td><td>158                </td><td>1065               </td><td>6                  </td><td> 0                 </td><td>2013-01-01 06:00:00</td></tr>\n",
       "\t<tr><td>2013               </td><td>1                  </td><td>1                  </td><td>557                </td><td>600                </td><td>-3                 </td><td> 709               </td><td> 723               </td><td>-14                </td><td>EV                 </td><td>5708               </td><td>N829AS             </td><td>LGA                </td><td>IAD                </td><td> 53                </td><td> 229               </td><td>6                  </td><td> 0                 </td><td>2013-01-01 06:00:00</td></tr>\n",
       "\t<tr><td>2013               </td><td>1                  </td><td>1                  </td><td>557                </td><td>600                </td><td>-3                 </td><td> 838               </td><td> 846               </td><td> -8                </td><td>B6                 </td><td>  79               </td><td>N593JB             </td><td>JFK                </td><td>MCO                </td><td>140                </td><td> 944               </td><td>6                  </td><td> 0                 </td><td>2013-01-01 06:00:00</td></tr>\n",
       "\t<tr><td>2013               </td><td>1                  </td><td>1                  </td><td>558                </td><td>600                </td><td>-2                 </td><td> 753               </td><td> 745               </td><td>  8                </td><td>AA                 </td><td> 301               </td><td>N3ALAA             </td><td>LGA                </td><td>ORD                </td><td>138                </td><td> 733               </td><td>6                  </td><td> 0                 </td><td>2013-01-01 06:00:00</td></tr>\n",
       "\t<tr><td>2013               </td><td>1                  </td><td>1                  </td><td>558                </td><td>600                </td><td>-2                 </td><td> 849               </td><td> 851               </td><td> -2                </td><td>B6                 </td><td>  49               </td><td>N793JB             </td><td>JFK                </td><td>PBI                </td><td>149                </td><td>1028               </td><td>6                  </td><td> 0                 </td><td>2013-01-01 06:00:00</td></tr>\n",
       "\t<tr><td>2013               </td><td>1                  </td><td>1                  </td><td>558                </td><td>600                </td><td>-2                 </td><td> 853               </td><td> 856               </td><td> -3                </td><td>B6                 </td><td>  71               </td><td>N657JB             </td><td>JFK                </td><td>TPA                </td><td>158                </td><td>1005               </td><td>6                  </td><td> 0                 </td><td>2013-01-01 06:00:00</td></tr>\n",
       "\t<tr><td>2013               </td><td>1                  </td><td>1                  </td><td>558                </td><td>600                </td><td>-2                 </td><td> 924               </td><td> 917               </td><td>  7                </td><td>UA                 </td><td> 194               </td><td>N29129             </td><td>JFK                </td><td>LAX                </td><td>345                </td><td>2475               </td><td>6                  </td><td> 0                 </td><td>2013-01-01 06:00:00</td></tr>\n",
       "\t<tr><td>2013               </td><td>1                  </td><td>1                  </td><td>558                </td><td>600                </td><td>-2                 </td><td> 923               </td><td> 937               </td><td>-14                </td><td>UA                 </td><td>1124               </td><td>N53441             </td><td>EWR                </td><td>SFO                </td><td>361                </td><td>2565               </td><td>6                  </td><td> 0                 </td><td>2013-01-01 06:00:00</td></tr>\n",
       "\t<tr><td>2013               </td><td>1                  </td><td>1                  </td><td>559                </td><td>600                </td><td>-1                 </td><td> 941               </td><td> 910               </td><td> 31                </td><td>AA                 </td><td> 707               </td><td>N3DUAA             </td><td>LGA                </td><td>DFW                </td><td>257                </td><td>1389               </td><td>6                  </td><td> 0                 </td><td>2013-01-01 06:00:00</td></tr>\n",
       "\t<tr><td>2013               </td><td>1                  </td><td>1                  </td><td>559                </td><td>559                </td><td> 0                 </td><td> 702               </td><td> 706               </td><td> -4                </td><td>B6                 </td><td>1806               </td><td>N708JB             </td><td>JFK                </td><td>BOS                </td><td> 44                </td><td> 187               </td><td>5                  </td><td>59                 </td><td>2013-01-01 05:00:00</td></tr>\n",
       "\t<tr><td>2013               </td><td>1                  </td><td>1                  </td><td>559                </td><td>600                </td><td>-1                 </td><td> 854               </td><td> 902               </td><td> -8                </td><td>UA                 </td><td>1187               </td><td>N76515             </td><td>EWR                </td><td>LAS                </td><td>337                </td><td>2227               </td><td>6                  </td><td> 0                 </td><td>2013-01-01 06:00:00</td></tr>\n",
       "\t<tr><td>2013               </td><td>1                  </td><td>1                  </td><td>600                </td><td>600                </td><td> 0                 </td><td> 851               </td><td> 858               </td><td> -7                </td><td>B6                 </td><td> 371               </td><td>N595JB             </td><td>LGA                </td><td>FLL                </td><td>152                </td><td>1076               </td><td>6                  </td><td> 0                 </td><td>2013-01-01 06:00:00</td></tr>\n",
       "\t<tr><td>2013               </td><td>1                  </td><td>1                  </td><td>600                </td><td>600                </td><td> 0                 </td><td> 837               </td><td> 825               </td><td> 12                </td><td>MQ                 </td><td>4650               </td><td>N542MQ             </td><td>LGA                </td><td>ATL                </td><td>134                </td><td> 762               </td><td>6                  </td><td> 0                 </td><td>2013-01-01 06:00:00</td></tr>\n",
       "\t<tr><td>2013               </td><td>1                  </td><td>1                  </td><td>601                </td><td>600                </td><td> 1                 </td><td> 844               </td><td> 850               </td><td> -6                </td><td>B6                 </td><td> 343               </td><td>N644JB             </td><td>EWR                </td><td>PBI                </td><td>147                </td><td>1023               </td><td>6                  </td><td> 0                 </td><td>2013-01-01 06:00:00</td></tr>\n",
       "\t<tr><td>2013               </td><td>1                  </td><td>1                  </td><td>602                </td><td>610                </td><td>-8                 </td><td> 812               </td><td> 820               </td><td> -8                </td><td>DL                 </td><td>1919               </td><td>N971DL             </td><td>LGA                </td><td>MSP                </td><td>170                </td><td>1020               </td><td>6                  </td><td>10                 </td><td>2013-01-01 06:00:00</td></tr>\n",
       "\t<tr><td>2013               </td><td>1                  </td><td>1                  </td><td>602                </td><td>605                </td><td>-3                 </td><td> 821               </td><td> 805               </td><td> 16                </td><td>MQ                 </td><td>4401               </td><td>N730MQ             </td><td>LGA                </td><td>DTW                </td><td>105                </td><td> 502               </td><td>6                  </td><td> 5                 </td><td>2013-01-01 06:00:00</td></tr>\n",
       "\t<tr><td>2013               </td><td>1                  </td><td>1                  </td><td>606                </td><td>610                </td><td>-4                 </td><td> 858               </td><td> 910               </td><td>-12                </td><td>AA                 </td><td>1895               </td><td>N633AA             </td><td>EWR                </td><td>MIA                </td><td>152                </td><td>1085               </td><td>6                  </td><td>10                 </td><td>2013-01-01 06:00:00</td></tr>\n",
       "\t<tr><td>2013               </td><td>1                  </td><td>1                  </td><td>606                </td><td>610                </td><td>-4                 </td><td> 837               </td><td> 845               </td><td> -8                </td><td>DL                 </td><td>1743               </td><td>N3739P             </td><td>JFK                </td><td>ATL                </td><td>128                </td><td> 760               </td><td>6                  </td><td>10                 </td><td>2013-01-01 06:00:00</td></tr>\n",
       "\t<tr><td>2013               </td><td>1                  </td><td>1                  </td><td>607                </td><td>607                </td><td> 0                 </td><td> 858               </td><td> 915               </td><td>-17                </td><td>UA                 </td><td>1077               </td><td>N53442             </td><td>EWR                </td><td>MIA                </td><td>157                </td><td>1085               </td><td>6                  </td><td> 7                 </td><td>2013-01-01 06:00:00</td></tr>\n",
       "\t<tr><td>2013               </td><td>1                  </td><td>1                  </td><td>608                </td><td>600                </td><td> 8                 </td><td> 807               </td><td> 735               </td><td> 32                </td><td>MQ                 </td><td>3768               </td><td>N9EAMQ             </td><td>EWR                </td><td>ORD                </td><td>139                </td><td> 719               </td><td>6                  </td><td> 0                 </td><td>2013-01-01 06:00:00</td></tr>\n",
       "\t<tr><td>2013               </td><td>1                  </td><td>1                  </td><td>611                </td><td>600                </td><td>11                 </td><td> 945               </td><td> 931               </td><td> 14                </td><td>UA                 </td><td> 303               </td><td>N532UA             </td><td>JFK                </td><td>SFO                </td><td>366                </td><td>2586               </td><td>6                  </td><td> 0                 </td><td>2013-01-01 06:00:00</td></tr>\n",
       "\t<tr><td>2013               </td><td>1                  </td><td>1                  </td><td>613                </td><td>610                </td><td> 3                 </td><td> 925               </td><td> 921               </td><td>  4                </td><td>B6                 </td><td> 135               </td><td>N635JB             </td><td>JFK                </td><td>RSW                </td><td>175                </td><td>1074               </td><td>6                  </td><td>10                 </td><td>2013-01-01 06:00:00</td></tr>\n",
       "\t<tr><td>2013               </td><td>1                  </td><td>1                  </td><td>615                </td><td>615                </td><td> 0                 </td><td>1039               </td><td>1100               </td><td>-21                </td><td>B6                 </td><td> 709               </td><td>N794JB             </td><td>JFK                </td><td>SJU                </td><td>182                </td><td>1598               </td><td>6                  </td><td>15                 </td><td>2013-01-01 06:00:00</td></tr>\n",
       "\t<tr><td>2013               </td><td>1                  </td><td>1                  </td><td>615                </td><td>615                </td><td> 0                 </td><td> 833               </td><td> 842               </td><td> -9                </td><td>DL                 </td><td> 575               </td><td>N326NB             </td><td>EWR                </td><td>ATL                </td><td>120                </td><td> 746               </td><td>6                  </td><td>15                 </td><td>2013-01-01 06:00:00</td></tr>\n",
       "\t<tr><td>...</td><td>...</td><td>...</td><td>...</td><td>...</td><td>...</td><td>...</td><td>...</td><td>...</td><td>...</td><td>...</td><td>...</td><td>...</td><td>...</td><td>...</td><td>...</td><td>...</td><td>...</td><td>...</td></tr>\n",
       "\t<tr><td>2013               </td><td>9                  </td><td>30                 </td><td>2123               </td><td>2125               </td><td> -2                </td><td>2223               </td><td>2247               </td><td>-24                </td><td>EV                 </td><td>5489               </td><td>N712EV             </td><td>LGA                </td><td>CHO                </td><td> 45                </td><td> 305               </td><td>21                 </td><td>25                 </td><td>2013-09-30 21:00:00</td></tr>\n",
       "\t<tr><td>2013               </td><td>9                  </td><td>30                 </td><td>2127               </td><td>2129               </td><td> -2                </td><td>2314               </td><td>2323               </td><td> -9                </td><td>EV                 </td><td>3833               </td><td>N16546             </td><td>EWR                </td><td>CLT                </td><td> 72                </td><td> 529               </td><td>21                 </td><td>29                 </td><td>2013-09-30 21:00:00</td></tr>\n",
       "\t<tr><td>2013               </td><td>9                  </td><td>30                 </td><td>2128               </td><td>2130               </td><td> -2                </td><td>2328               </td><td>2359               </td><td>-31                </td><td>B6                 </td><td>  97               </td><td>N807JB             </td><td>JFK                </td><td>DEN                </td><td>213                </td><td>1626               </td><td>21                 </td><td>30                 </td><td>2013-09-30 21:00:00</td></tr>\n",
       "\t<tr><td>2013               </td><td>9                  </td><td>30                 </td><td>2129               </td><td>2059               </td><td> 30                </td><td>2230               </td><td>2232               </td><td> -2                </td><td>EV                 </td><td>5048               </td><td>N751EV             </td><td>LGA                </td><td>RIC                </td><td> 45                </td><td> 292               </td><td>20                 </td><td>59                 </td><td>2013-09-30 20:00:00</td></tr>\n",
       "\t<tr><td>2013               </td><td>9                  </td><td>30                 </td><td>2131               </td><td>2140               </td><td> -9                </td><td>2225               </td><td>2255               </td><td>-30                </td><td>MQ                 </td><td>3621               </td><td>N807MQ             </td><td>JFK                </td><td>DCA                </td><td> 36                </td><td> 213               </td><td>21                 </td><td>40                 </td><td>2013-09-30 21:00:00</td></tr>\n",
       "\t<tr><td>2013               </td><td>9                  </td><td>30                 </td><td>2140               </td><td>2140               </td><td>  0                </td><td>  10               </td><td>  40               </td><td>-30                </td><td>AA                 </td><td> 185               </td><td>N335AA             </td><td>JFK                </td><td>LAX                </td><td>298                </td><td>2475               </td><td>21                 </td><td>40                 </td><td>2013-09-30 21:00:00</td></tr>\n",
       "\t<tr><td>2013               </td><td>9                  </td><td>30                 </td><td>2142               </td><td>2129               </td><td> 13                </td><td>2250               </td><td>2239               </td><td> 11                </td><td>EV                 </td><td>4509               </td><td>N12957             </td><td>EWR                </td><td>PWM                </td><td> 47                </td><td> 284               </td><td>21                 </td><td>29                 </td><td>2013-09-30 21:00:00</td></tr>\n",
       "\t<tr><td>2013               </td><td>9                  </td><td>30                 </td><td>2145               </td><td>2145               </td><td>  0                </td><td> 115               </td><td> 140               </td><td>-25                </td><td>B6                 </td><td>1103               </td><td>N633JB             </td><td>JFK                </td><td>SJU                </td><td>192                </td><td>1598               </td><td>21                 </td><td>45                 </td><td>2013-09-30 21:00:00</td></tr>\n",
       "\t<tr><td>2013               </td><td>9                  </td><td>30                 </td><td>2147               </td><td>2137               </td><td> 10                </td><td>  30               </td><td>  27               </td><td>  3                </td><td>B6                 </td><td>1371               </td><td>N627JB             </td><td>LGA                </td><td>FLL                </td><td>139                </td><td>1076               </td><td>21                 </td><td>37                 </td><td>2013-09-30 21:00:00</td></tr>\n",
       "\t<tr><td>2013               </td><td>9                  </td><td>30                 </td><td>2149               </td><td>2156               </td><td> -7                </td><td>2245               </td><td>2308               </td><td>-23                </td><td>UA                 </td><td> 523               </td><td>N813UA             </td><td>EWR                </td><td>BOS                </td><td> 37                </td><td> 200               </td><td>21                 </td><td>56                 </td><td>2013-09-30 21:00:00</td></tr>\n",
       "\t<tr><td>2013               </td><td>9                  </td><td>30                 </td><td>2150               </td><td>2159               </td><td> -9                </td><td>2250               </td><td>2306               </td><td>-16                </td><td>EV                 </td><td>3842               </td><td>N10575             </td><td>EWR                </td><td>MHT                </td><td> 39                </td><td> 209               </td><td>21                 </td><td>59                 </td><td>2013-09-30 21:00:00</td></tr>\n",
       "\t<tr><td>2013               </td><td>9                  </td><td>30                 </td><td>2159               </td><td>1845               </td><td>194                </td><td>2344               </td><td>2030               </td><td>194                </td><td>9E                 </td><td>3320               </td><td>N906XJ             </td><td>JFK                </td><td>BUF                </td><td> 50                </td><td> 301               </td><td>18                 </td><td>45                 </td><td>2013-09-30 18:00:00</td></tr>\n",
       "\t<tr><td>2013               </td><td>9                  </td><td>30                 </td><td>2203               </td><td>2205               </td><td> -2                </td><td>2339               </td><td>2331               </td><td>  8                </td><td>EV                 </td><td>5311               </td><td>N722EV             </td><td>LGA                </td><td>BGR                </td><td> 61                </td><td> 378               </td><td>22                 </td><td> 5                 </td><td>2013-09-30 22:00:00</td></tr>\n",
       "\t<tr><td>2013               </td><td>9                  </td><td>30                 </td><td>2207               </td><td>2140               </td><td> 27                </td><td>2257               </td><td>2250               </td><td>  7                </td><td>MQ                 </td><td>3660               </td><td>N532MQ             </td><td>LGA                </td><td>BNA                </td><td> 97                </td><td> 764               </td><td>21                 </td><td>40                 </td><td>2013-09-30 21:00:00</td></tr>\n",
       "\t<tr><td>2013               </td><td>9                  </td><td>30                 </td><td>2211               </td><td>2059               </td><td> 72                </td><td>2339               </td><td>2242               </td><td> 57                </td><td>EV                 </td><td>4672               </td><td>N12145             </td><td>EWR                </td><td>STL                </td><td>120                </td><td> 872               </td><td>20                 </td><td>59                 </td><td>2013-09-30 20:00:00</td></tr>\n",
       "\t<tr><td>2013               </td><td>9                  </td><td>30                 </td><td>2231               </td><td>2245               </td><td>-14                </td><td>2335               </td><td>2356               </td><td>-21                </td><td>B6                 </td><td> 108               </td><td>N193JB             </td><td>JFK                </td><td>PWM                </td><td> 48                </td><td> 273               </td><td>22                 </td><td>45                 </td><td>2013-09-30 22:00:00</td></tr>\n",
       "\t<tr><td>2013               </td><td>9                  </td><td>30                 </td><td>2233               </td><td>2113               </td><td> 80                </td><td> 112               </td><td>  30               </td><td> 42                </td><td>UA                 </td><td> 471               </td><td>N578UA             </td><td>EWR                </td><td>SFO                </td><td>318                </td><td>2565               </td><td>21                 </td><td>13                 </td><td>2013-09-30 21:00:00</td></tr>\n",
       "\t<tr><td>2013               </td><td>9                  </td><td>30                 </td><td>2235               </td><td>2001               </td><td>154                </td><td>  59               </td><td>2249               </td><td>130                </td><td>B6                 </td><td>1083               </td><td>N804JB             </td><td>JFK                </td><td>MCO                </td><td>123                </td><td> 944               </td><td>20                 </td><td> 1                 </td><td>2013-09-30 20:00:00</td></tr>\n",
       "\t<tr><td>2013               </td><td>9                  </td><td>30                 </td><td>2237               </td><td>2245               </td><td> -8                </td><td>2345               </td><td>2353               </td><td> -8                </td><td>B6                 </td><td> 234               </td><td>N318JB             </td><td>JFK                </td><td>BTV                </td><td> 43                </td><td> 266               </td><td>22                 </td><td>45                 </td><td>2013-09-30 22:00:00</td></tr>\n",
       "\t<tr><td>2013               </td><td>9                  </td><td>30                 </td><td>2240               </td><td>2245               </td><td> -5                </td><td>2334               </td><td>2351               </td><td>-17                </td><td>B6                 </td><td>1816               </td><td>N354JB             </td><td>JFK                </td><td>SYR                </td><td> 41                </td><td> 209               </td><td>22                 </td><td>45                 </td><td>2013-09-30 22:00:00</td></tr>\n",
       "\t<tr><td>2013               </td><td>9                  </td><td>30                 </td><td>2240               </td><td>2250               </td><td>-10                </td><td>2347               </td><td>   7               </td><td>-20                </td><td>B6                 </td><td>2002               </td><td>N281JB             </td><td>JFK                </td><td>BUF                </td><td> 52                </td><td> 301               </td><td>22                 </td><td>50                 </td><td>2013-09-30 22:00:00</td></tr>\n",
       "\t<tr><td>2013               </td><td>9                  </td><td>30                 </td><td>2241               </td><td>2246               </td><td> -5                </td><td>2345               </td><td>   1               </td><td>-16                </td><td>B6                 </td><td> 486               </td><td>N346JB             </td><td>JFK                </td><td>ROC                </td><td> 47                </td><td> 264               </td><td>22                 </td><td>46                 </td><td>2013-09-30 22:00:00</td></tr>\n",
       "\t<tr><td>2013               </td><td>9                  </td><td>30                 </td><td>2307               </td><td>2255               </td><td> 12                </td><td>2359               </td><td>2358               </td><td>  1                </td><td>B6                 </td><td> 718               </td><td>N565JB             </td><td>JFK                </td><td>BOS                </td><td> 33                </td><td> 187               </td><td>22                 </td><td>55                 </td><td>2013-09-30 22:00:00</td></tr>\n",
       "\t<tr><td>2013               </td><td>9                  </td><td>30                 </td><td>2349               </td><td>2359               </td><td>-10                </td><td> 325               </td><td> 350               </td><td>-25                </td><td>B6                 </td><td> 745               </td><td>N516JB             </td><td>JFK                </td><td>PSE                </td><td>196                </td><td>1617               </td><td>23                 </td><td>59                 </td><td>2013-09-30 23:00:00</td></tr>\n",
       "\t<tr><td>2013               </td><td>9                  </td><td>30                 </td><td>  NA               </td><td>1842               </td><td> NA                </td><td>  NA               </td><td>2019               </td><td> NA                </td><td>EV                 </td><td>5274               </td><td>N740EV             </td><td>LGA                </td><td>BNA                </td><td> NA                </td><td> 764               </td><td>18                 </td><td>42                 </td><td>2013-09-30 18:00:00</td></tr>\n",
       "\t<tr><td>2013               </td><td>9                  </td><td>30                 </td><td>  NA               </td><td>1455               </td><td> NA                </td><td>  NA               </td><td>1634               </td><td> NA                </td><td>9E                 </td><td>3393               </td><td>NA                 </td><td>JFK                </td><td>DCA                </td><td> NA                </td><td> 213               </td><td>14                 </td><td>55                 </td><td>2013-09-30 14:00:00</td></tr>\n",
       "\t<tr><td>2013               </td><td>9                  </td><td>30                 </td><td>  NA               </td><td>2200               </td><td> NA                </td><td>  NA               </td><td>2312               </td><td> NA                </td><td>9E                 </td><td>3525               </td><td>NA                 </td><td>LGA                </td><td>SYR                </td><td> NA                </td><td> 198               </td><td>22                 </td><td> 0                 </td><td>2013-09-30 22:00:00</td></tr>\n",
       "\t<tr><td>2013               </td><td>9                  </td><td>30                 </td><td>  NA               </td><td>1210               </td><td> NA                </td><td>  NA               </td><td>1330               </td><td> NA                </td><td>MQ                 </td><td>3461               </td><td>N535MQ             </td><td>LGA                </td><td>BNA                </td><td> NA                </td><td> 764               </td><td>12                 </td><td>10                 </td><td>2013-09-30 12:00:00</td></tr>\n",
       "\t<tr><td>2013               </td><td>9                  </td><td>30                 </td><td>  NA               </td><td>1159               </td><td> NA                </td><td>  NA               </td><td>1344               </td><td> NA                </td><td>MQ                 </td><td>3572               </td><td>N511MQ             </td><td>LGA                </td><td>CLE                </td><td> NA                </td><td> 419               </td><td>11                 </td><td>59                 </td><td>2013-09-30 11:00:00</td></tr>\n",
       "\t<tr><td>2013               </td><td>9                  </td><td>30                 </td><td>  NA               </td><td> 840               </td><td> NA                </td><td>  NA               </td><td>1020               </td><td> NA                </td><td>MQ                 </td><td>3531               </td><td>N839MQ             </td><td>LGA                </td><td>RDU                </td><td> NA                </td><td> 431               </td><td> 8                 </td><td>40                 </td><td>2013-09-30 08:00:00</td></tr>\n",
       "</tbody>\n",
       "</table>\n"
      ],
      "text/latex": [
       "\\begin{tabular}{r|lllllllllllllllllll}\n",
       " year & month & day & dep\\_time & sched\\_dep\\_time & dep\\_delay & arr\\_time & sched\\_arr\\_time & arr\\_delay & carrier & flight & tailnum & origin & dest & air\\_time & distance & hour & minute & time\\_hour\\\\\n",
       "\\hline\n",
       "\t 2013                & 1                   & 1                   & 517                 & 515                 &  2                  &  830                &  819                &  11                 & UA                  & 1545                & N14228              & EWR                 & IAH                 & 227                 & 1400                & 5                   & 15                  & 2013-01-01 05:00:00\\\\\n",
       "\t 2013                & 1                   & 1                   & 533                 & 529                 &  4                  &  850                &  830                &  20                 & UA                  & 1714                & N24211              & LGA                 & IAH                 & 227                 & 1416                & 5                   & 29                  & 2013-01-01 05:00:00\\\\\n",
       "\t 2013                & 1                   & 1                   & 542                 & 540                 &  2                  &  923                &  850                &  33                 & AA                  & 1141                & N619AA              & JFK                 & MIA                 & 160                 & 1089                & 5                   & 40                  & 2013-01-01 05:00:00\\\\\n",
       "\t 2013                & 1                   & 1                   & 544                 & 545                 & -1                  & 1004                & 1022                & -18                 & B6                  &  725                & N804JB              & JFK                 & BQN                 & 183                 & 1576                & 5                   & 45                  & 2013-01-01 05:00:00\\\\\n",
       "\t 2013                & 1                   & 1                   & 554                 & 600                 & -6                  &  812                &  837                & -25                 & DL                  &  461                & N668DN              & LGA                 & ATL                 & 116                 &  762                & 6                   &  0                  & 2013-01-01 06:00:00\\\\\n",
       "\t 2013                & 1                   & 1                   & 554                 & 558                 & -4                  &  740                &  728                &  12                 & UA                  & 1696                & N39463              & EWR                 & ORD                 & 150                 &  719                & 5                   & 58                  & 2013-01-01 05:00:00\\\\\n",
       "\t 2013                & 1                   & 1                   & 555                 & 600                 & -5                  &  913                &  854                &  19                 & B6                  &  507                & N516JB              & EWR                 & FLL                 & 158                 & 1065                & 6                   &  0                  & 2013-01-01 06:00:00\\\\\n",
       "\t 2013                & 1                   & 1                   & 557                 & 600                 & -3                  &  709                &  723                & -14                 & EV                  & 5708                & N829AS              & LGA                 & IAD                 &  53                 &  229                & 6                   &  0                  & 2013-01-01 06:00:00\\\\\n",
       "\t 2013                & 1                   & 1                   & 557                 & 600                 & -3                  &  838                &  846                &  -8                 & B6                  &   79                & N593JB              & JFK                 & MCO                 & 140                 &  944                & 6                   &  0                  & 2013-01-01 06:00:00\\\\\n",
       "\t 2013                & 1                   & 1                   & 558                 & 600                 & -2                  &  753                &  745                &   8                 & AA                  &  301                & N3ALAA              & LGA                 & ORD                 & 138                 &  733                & 6                   &  0                  & 2013-01-01 06:00:00\\\\\n",
       "\t 2013                & 1                   & 1                   & 558                 & 600                 & -2                  &  849                &  851                &  -2                 & B6                  &   49                & N793JB              & JFK                 & PBI                 & 149                 & 1028                & 6                   &  0                  & 2013-01-01 06:00:00\\\\\n",
       "\t 2013                & 1                   & 1                   & 558                 & 600                 & -2                  &  853                &  856                &  -3                 & B6                  &   71                & N657JB              & JFK                 & TPA                 & 158                 & 1005                & 6                   &  0                  & 2013-01-01 06:00:00\\\\\n",
       "\t 2013                & 1                   & 1                   & 558                 & 600                 & -2                  &  924                &  917                &   7                 & UA                  &  194                & N29129              & JFK                 & LAX                 & 345                 & 2475                & 6                   &  0                  & 2013-01-01 06:00:00\\\\\n",
       "\t 2013                & 1                   & 1                   & 558                 & 600                 & -2                  &  923                &  937                & -14                 & UA                  & 1124                & N53441              & EWR                 & SFO                 & 361                 & 2565                & 6                   &  0                  & 2013-01-01 06:00:00\\\\\n",
       "\t 2013                & 1                   & 1                   & 559                 & 600                 & -1                  &  941                &  910                &  31                 & AA                  &  707                & N3DUAA              & LGA                 & DFW                 & 257                 & 1389                & 6                   &  0                  & 2013-01-01 06:00:00\\\\\n",
       "\t 2013                & 1                   & 1                   & 559                 & 559                 &  0                  &  702                &  706                &  -4                 & B6                  & 1806                & N708JB              & JFK                 & BOS                 &  44                 &  187                & 5                   & 59                  & 2013-01-01 05:00:00\\\\\n",
       "\t 2013                & 1                   & 1                   & 559                 & 600                 & -1                  &  854                &  902                &  -8                 & UA                  & 1187                & N76515              & EWR                 & LAS                 & 337                 & 2227                & 6                   &  0                  & 2013-01-01 06:00:00\\\\\n",
       "\t 2013                & 1                   & 1                   & 600                 & 600                 &  0                  &  851                &  858                &  -7                 & B6                  &  371                & N595JB              & LGA                 & FLL                 & 152                 & 1076                & 6                   &  0                  & 2013-01-01 06:00:00\\\\\n",
       "\t 2013                & 1                   & 1                   & 600                 & 600                 &  0                  &  837                &  825                &  12                 & MQ                  & 4650                & N542MQ              & LGA                 & ATL                 & 134                 &  762                & 6                   &  0                  & 2013-01-01 06:00:00\\\\\n",
       "\t 2013                & 1                   & 1                   & 601                 & 600                 &  1                  &  844                &  850                &  -6                 & B6                  &  343                & N644JB              & EWR                 & PBI                 & 147                 & 1023                & 6                   &  0                  & 2013-01-01 06:00:00\\\\\n",
       "\t 2013                & 1                   & 1                   & 602                 & 610                 & -8                  &  812                &  820                &  -8                 & DL                  & 1919                & N971DL              & LGA                 & MSP                 & 170                 & 1020                & 6                   & 10                  & 2013-01-01 06:00:00\\\\\n",
       "\t 2013                & 1                   & 1                   & 602                 & 605                 & -3                  &  821                &  805                &  16                 & MQ                  & 4401                & N730MQ              & LGA                 & DTW                 & 105                 &  502                & 6                   &  5                  & 2013-01-01 06:00:00\\\\\n",
       "\t 2013                & 1                   & 1                   & 606                 & 610                 & -4                  &  858                &  910                & -12                 & AA                  & 1895                & N633AA              & EWR                 & MIA                 & 152                 & 1085                & 6                   & 10                  & 2013-01-01 06:00:00\\\\\n",
       "\t 2013                & 1                   & 1                   & 606                 & 610                 & -4                  &  837                &  845                &  -8                 & DL                  & 1743                & N3739P              & JFK                 & ATL                 & 128                 &  760                & 6                   & 10                  & 2013-01-01 06:00:00\\\\\n",
       "\t 2013                & 1                   & 1                   & 607                 & 607                 &  0                  &  858                &  915                & -17                 & UA                  & 1077                & N53442              & EWR                 & MIA                 & 157                 & 1085                & 6                   &  7                  & 2013-01-01 06:00:00\\\\\n",
       "\t 2013                & 1                   & 1                   & 608                 & 600                 &  8                  &  807                &  735                &  32                 & MQ                  & 3768                & N9EAMQ              & EWR                 & ORD                 & 139                 &  719                & 6                   &  0                  & 2013-01-01 06:00:00\\\\\n",
       "\t 2013                & 1                   & 1                   & 611                 & 600                 & 11                  &  945                &  931                &  14                 & UA                  &  303                & N532UA              & JFK                 & SFO                 & 366                 & 2586                & 6                   &  0                  & 2013-01-01 06:00:00\\\\\n",
       "\t 2013                & 1                   & 1                   & 613                 & 610                 &  3                  &  925                &  921                &   4                 & B6                  &  135                & N635JB              & JFK                 & RSW                 & 175                 & 1074                & 6                   & 10                  & 2013-01-01 06:00:00\\\\\n",
       "\t 2013                & 1                   & 1                   & 615                 & 615                 &  0                  & 1039                & 1100                & -21                 & B6                  &  709                & N794JB              & JFK                 & SJU                 & 182                 & 1598                & 6                   & 15                  & 2013-01-01 06:00:00\\\\\n",
       "\t 2013                & 1                   & 1                   & 615                 & 615                 &  0                  &  833                &  842                &  -9                 & DL                  &  575                & N326NB              & EWR                 & ATL                 & 120                 &  746                & 6                   & 15                  & 2013-01-01 06:00:00\\\\\n",
       "\t ... & ... & ... & ... & ... & ... & ... & ... & ... & ... & ... & ... & ... & ... & ... & ... & ... & ... & ...\\\\\n",
       "\t 2013                & 9                   & 30                  & 2123                & 2125                &  -2                 & 2223                & 2247                & -24                 & EV                  & 5489                & N712EV              & LGA                 & CHO                 &  45                 &  305                & 21                  & 25                  & 2013-09-30 21:00:00\\\\\n",
       "\t 2013                & 9                   & 30                  & 2127                & 2129                &  -2                 & 2314                & 2323                &  -9                 & EV                  & 3833                & N16546              & EWR                 & CLT                 &  72                 &  529                & 21                  & 29                  & 2013-09-30 21:00:00\\\\\n",
       "\t 2013                & 9                   & 30                  & 2128                & 2130                &  -2                 & 2328                & 2359                & -31                 & B6                  &   97                & N807JB              & JFK                 & DEN                 & 213                 & 1626                & 21                  & 30                  & 2013-09-30 21:00:00\\\\\n",
       "\t 2013                & 9                   & 30                  & 2129                & 2059                &  30                 & 2230                & 2232                &  -2                 & EV                  & 5048                & N751EV              & LGA                 & RIC                 &  45                 &  292                & 20                  & 59                  & 2013-09-30 20:00:00\\\\\n",
       "\t 2013                & 9                   & 30                  & 2131                & 2140                &  -9                 & 2225                & 2255                & -30                 & MQ                  & 3621                & N807MQ              & JFK                 & DCA                 &  36                 &  213                & 21                  & 40                  & 2013-09-30 21:00:00\\\\\n",
       "\t 2013                & 9                   & 30                  & 2140                & 2140                &   0                 &   10                &   40                & -30                 & AA                  &  185                & N335AA              & JFK                 & LAX                 & 298                 & 2475                & 21                  & 40                  & 2013-09-30 21:00:00\\\\\n",
       "\t 2013                & 9                   & 30                  & 2142                & 2129                &  13                 & 2250                & 2239                &  11                 & EV                  & 4509                & N12957              & EWR                 & PWM                 &  47                 &  284                & 21                  & 29                  & 2013-09-30 21:00:00\\\\\n",
       "\t 2013                & 9                   & 30                  & 2145                & 2145                &   0                 &  115                &  140                & -25                 & B6                  & 1103                & N633JB              & JFK                 & SJU                 & 192                 & 1598                & 21                  & 45                  & 2013-09-30 21:00:00\\\\\n",
       "\t 2013                & 9                   & 30                  & 2147                & 2137                &  10                 &   30                &   27                &   3                 & B6                  & 1371                & N627JB              & LGA                 & FLL                 & 139                 & 1076                & 21                  & 37                  & 2013-09-30 21:00:00\\\\\n",
       "\t 2013                & 9                   & 30                  & 2149                & 2156                &  -7                 & 2245                & 2308                & -23                 & UA                  &  523                & N813UA              & EWR                 & BOS                 &  37                 &  200                & 21                  & 56                  & 2013-09-30 21:00:00\\\\\n",
       "\t 2013                & 9                   & 30                  & 2150                & 2159                &  -9                 & 2250                & 2306                & -16                 & EV                  & 3842                & N10575              & EWR                 & MHT                 &  39                 &  209                & 21                  & 59                  & 2013-09-30 21:00:00\\\\\n",
       "\t 2013                & 9                   & 30                  & 2159                & 1845                & 194                 & 2344                & 2030                & 194                 & 9E                  & 3320                & N906XJ              & JFK                 & BUF                 &  50                 &  301                & 18                  & 45                  & 2013-09-30 18:00:00\\\\\n",
       "\t 2013                & 9                   & 30                  & 2203                & 2205                &  -2                 & 2339                & 2331                &   8                 & EV                  & 5311                & N722EV              & LGA                 & BGR                 &  61                 &  378                & 22                  &  5                  & 2013-09-30 22:00:00\\\\\n",
       "\t 2013                & 9                   & 30                  & 2207                & 2140                &  27                 & 2257                & 2250                &   7                 & MQ                  & 3660                & N532MQ              & LGA                 & BNA                 &  97                 &  764                & 21                  & 40                  & 2013-09-30 21:00:00\\\\\n",
       "\t 2013                & 9                   & 30                  & 2211                & 2059                &  72                 & 2339                & 2242                &  57                 & EV                  & 4672                & N12145              & EWR                 & STL                 & 120                 &  872                & 20                  & 59                  & 2013-09-30 20:00:00\\\\\n",
       "\t 2013                & 9                   & 30                  & 2231                & 2245                & -14                 & 2335                & 2356                & -21                 & B6                  &  108                & N193JB              & JFK                 & PWM                 &  48                 &  273                & 22                  & 45                  & 2013-09-30 22:00:00\\\\\n",
       "\t 2013                & 9                   & 30                  & 2233                & 2113                &  80                 &  112                &   30                &  42                 & UA                  &  471                & N578UA              & EWR                 & SFO                 & 318                 & 2565                & 21                  & 13                  & 2013-09-30 21:00:00\\\\\n",
       "\t 2013                & 9                   & 30                  & 2235                & 2001                & 154                 &   59                & 2249                & 130                 & B6                  & 1083                & N804JB              & JFK                 & MCO                 & 123                 &  944                & 20                  &  1                  & 2013-09-30 20:00:00\\\\\n",
       "\t 2013                & 9                   & 30                  & 2237                & 2245                &  -8                 & 2345                & 2353                &  -8                 & B6                  &  234                & N318JB              & JFK                 & BTV                 &  43                 &  266                & 22                  & 45                  & 2013-09-30 22:00:00\\\\\n",
       "\t 2013                & 9                   & 30                  & 2240                & 2245                &  -5                 & 2334                & 2351                & -17                 & B6                  & 1816                & N354JB              & JFK                 & SYR                 &  41                 &  209                & 22                  & 45                  & 2013-09-30 22:00:00\\\\\n",
       "\t 2013                & 9                   & 30                  & 2240                & 2250                & -10                 & 2347                &    7                & -20                 & B6                  & 2002                & N281JB              & JFK                 & BUF                 &  52                 &  301                & 22                  & 50                  & 2013-09-30 22:00:00\\\\\n",
       "\t 2013                & 9                   & 30                  & 2241                & 2246                &  -5                 & 2345                &    1                & -16                 & B6                  &  486                & N346JB              & JFK                 & ROC                 &  47                 &  264                & 22                  & 46                  & 2013-09-30 22:00:00\\\\\n",
       "\t 2013                & 9                   & 30                  & 2307                & 2255                &  12                 & 2359                & 2358                &   1                 & B6                  &  718                & N565JB              & JFK                 & BOS                 &  33                 &  187                & 22                  & 55                  & 2013-09-30 22:00:00\\\\\n",
       "\t 2013                & 9                   & 30                  & 2349                & 2359                & -10                 &  325                &  350                & -25                 & B6                  &  745                & N516JB              & JFK                 & PSE                 & 196                 & 1617                & 23                  & 59                  & 2013-09-30 23:00:00\\\\\n",
       "\t 2013                & 9                   & 30                  &   NA                & 1842                &  NA                 &   NA                & 2019                &  NA                 & EV                  & 5274                & N740EV              & LGA                 & BNA                 &  NA                 &  764                & 18                  & 42                  & 2013-09-30 18:00:00\\\\\n",
       "\t 2013                & 9                   & 30                  &   NA                & 1455                &  NA                 &   NA                & 1634                &  NA                 & 9E                  & 3393                & NA                  & JFK                 & DCA                 &  NA                 &  213                & 14                  & 55                  & 2013-09-30 14:00:00\\\\\n",
       "\t 2013                & 9                   & 30                  &   NA                & 2200                &  NA                 &   NA                & 2312                &  NA                 & 9E                  & 3525                & NA                  & LGA                 & SYR                 &  NA                 &  198                & 22                  &  0                  & 2013-09-30 22:00:00\\\\\n",
       "\t 2013                & 9                   & 30                  &   NA                & 1210                &  NA                 &   NA                & 1330                &  NA                 & MQ                  & 3461                & N535MQ              & LGA                 & BNA                 &  NA                 &  764                & 12                  & 10                  & 2013-09-30 12:00:00\\\\\n",
       "\t 2013                & 9                   & 30                  &   NA                & 1159                &  NA                 &   NA                & 1344                &  NA                 & MQ                  & 3572                & N511MQ              & LGA                 & CLE                 &  NA                 &  419                & 11                  & 59                  & 2013-09-30 11:00:00\\\\\n",
       "\t 2013                & 9                   & 30                  &   NA                &  840                &  NA                 &   NA                & 1020                &  NA                 & MQ                  & 3531                & N839MQ              & LGA                 & RDU                 &  NA                 &  431                &  8                  & 40                  & 2013-09-30 08:00:00\\\\\n",
       "\\end{tabular}\n"
      ],
      "text/markdown": [
       "\n",
       "| year | month | day | dep_time | sched_dep_time | dep_delay | arr_time | sched_arr_time | arr_delay | carrier | flight | tailnum | origin | dest | air_time | distance | hour | minute | time_hour |\n",
       "|---|---|---|---|---|---|---|---|---|---|---|---|---|---|---|---|---|---|---|\n",
       "| 2013                | 1                   | 1                   | 517                 | 515                 |  2                  |  830                |  819                |  11                 | UA                  | 1545                | N14228              | EWR                 | IAH                 | 227                 | 1400                | 5                   | 15                  | 2013-01-01 05:00:00 |\n",
       "| 2013                | 1                   | 1                   | 533                 | 529                 |  4                  |  850                |  830                |  20                 | UA                  | 1714                | N24211              | LGA                 | IAH                 | 227                 | 1416                | 5                   | 29                  | 2013-01-01 05:00:00 |\n",
       "| 2013                | 1                   | 1                   | 542                 | 540                 |  2                  |  923                |  850                |  33                 | AA                  | 1141                | N619AA              | JFK                 | MIA                 | 160                 | 1089                | 5                   | 40                  | 2013-01-01 05:00:00 |\n",
       "| 2013                | 1                   | 1                   | 544                 | 545                 | -1                  | 1004                | 1022                | -18                 | B6                  |  725                | N804JB              | JFK                 | BQN                 | 183                 | 1576                | 5                   | 45                  | 2013-01-01 05:00:00 |\n",
       "| 2013                | 1                   | 1                   | 554                 | 600                 | -6                  |  812                |  837                | -25                 | DL                  |  461                | N668DN              | LGA                 | ATL                 | 116                 |  762                | 6                   |  0                  | 2013-01-01 06:00:00 |\n",
       "| 2013                | 1                   | 1                   | 554                 | 558                 | -4                  |  740                |  728                |  12                 | UA                  | 1696                | N39463              | EWR                 | ORD                 | 150                 |  719                | 5                   | 58                  | 2013-01-01 05:00:00 |\n",
       "| 2013                | 1                   | 1                   | 555                 | 600                 | -5                  |  913                |  854                |  19                 | B6                  |  507                | N516JB              | EWR                 | FLL                 | 158                 | 1065                | 6                   |  0                  | 2013-01-01 06:00:00 |\n",
       "| 2013                | 1                   | 1                   | 557                 | 600                 | -3                  |  709                |  723                | -14                 | EV                  | 5708                | N829AS              | LGA                 | IAD                 |  53                 |  229                | 6                   |  0                  | 2013-01-01 06:00:00 |\n",
       "| 2013                | 1                   | 1                   | 557                 | 600                 | -3                  |  838                |  846                |  -8                 | B6                  |   79                | N593JB              | JFK                 | MCO                 | 140                 |  944                | 6                   |  0                  | 2013-01-01 06:00:00 |\n",
       "| 2013                | 1                   | 1                   | 558                 | 600                 | -2                  |  753                |  745                |   8                 | AA                  |  301                | N3ALAA              | LGA                 | ORD                 | 138                 |  733                | 6                   |  0                  | 2013-01-01 06:00:00 |\n",
       "| 2013                | 1                   | 1                   | 558                 | 600                 | -2                  |  849                |  851                |  -2                 | B6                  |   49                | N793JB              | JFK                 | PBI                 | 149                 | 1028                | 6                   |  0                  | 2013-01-01 06:00:00 |\n",
       "| 2013                | 1                   | 1                   | 558                 | 600                 | -2                  |  853                |  856                |  -3                 | B6                  |   71                | N657JB              | JFK                 | TPA                 | 158                 | 1005                | 6                   |  0                  | 2013-01-01 06:00:00 |\n",
       "| 2013                | 1                   | 1                   | 558                 | 600                 | -2                  |  924                |  917                |   7                 | UA                  |  194                | N29129              | JFK                 | LAX                 | 345                 | 2475                | 6                   |  0                  | 2013-01-01 06:00:00 |\n",
       "| 2013                | 1                   | 1                   | 558                 | 600                 | -2                  |  923                |  937                | -14                 | UA                  | 1124                | N53441              | EWR                 | SFO                 | 361                 | 2565                | 6                   |  0                  | 2013-01-01 06:00:00 |\n",
       "| 2013                | 1                   | 1                   | 559                 | 600                 | -1                  |  941                |  910                |  31                 | AA                  |  707                | N3DUAA              | LGA                 | DFW                 | 257                 | 1389                | 6                   |  0                  | 2013-01-01 06:00:00 |\n",
       "| 2013                | 1                   | 1                   | 559                 | 559                 |  0                  |  702                |  706                |  -4                 | B6                  | 1806                | N708JB              | JFK                 | BOS                 |  44                 |  187                | 5                   | 59                  | 2013-01-01 05:00:00 |\n",
       "| 2013                | 1                   | 1                   | 559                 | 600                 | -1                  |  854                |  902                |  -8                 | UA                  | 1187                | N76515              | EWR                 | LAS                 | 337                 | 2227                | 6                   |  0                  | 2013-01-01 06:00:00 |\n",
       "| 2013                | 1                   | 1                   | 600                 | 600                 |  0                  |  851                |  858                |  -7                 | B6                  |  371                | N595JB              | LGA                 | FLL                 | 152                 | 1076                | 6                   |  0                  | 2013-01-01 06:00:00 |\n",
       "| 2013                | 1                   | 1                   | 600                 | 600                 |  0                  |  837                |  825                |  12                 | MQ                  | 4650                | N542MQ              | LGA                 | ATL                 | 134                 |  762                | 6                   |  0                  | 2013-01-01 06:00:00 |\n",
       "| 2013                | 1                   | 1                   | 601                 | 600                 |  1                  |  844                |  850                |  -6                 | B6                  |  343                | N644JB              | EWR                 | PBI                 | 147                 | 1023                | 6                   |  0                  | 2013-01-01 06:00:00 |\n",
       "| 2013                | 1                   | 1                   | 602                 | 610                 | -8                  |  812                |  820                |  -8                 | DL                  | 1919                | N971DL              | LGA                 | MSP                 | 170                 | 1020                | 6                   | 10                  | 2013-01-01 06:00:00 |\n",
       "| 2013                | 1                   | 1                   | 602                 | 605                 | -3                  |  821                |  805                |  16                 | MQ                  | 4401                | N730MQ              | LGA                 | DTW                 | 105                 |  502                | 6                   |  5                  | 2013-01-01 06:00:00 |\n",
       "| 2013                | 1                   | 1                   | 606                 | 610                 | -4                  |  858                |  910                | -12                 | AA                  | 1895                | N633AA              | EWR                 | MIA                 | 152                 | 1085                | 6                   | 10                  | 2013-01-01 06:00:00 |\n",
       "| 2013                | 1                   | 1                   | 606                 | 610                 | -4                  |  837                |  845                |  -8                 | DL                  | 1743                | N3739P              | JFK                 | ATL                 | 128                 |  760                | 6                   | 10                  | 2013-01-01 06:00:00 |\n",
       "| 2013                | 1                   | 1                   | 607                 | 607                 |  0                  |  858                |  915                | -17                 | UA                  | 1077                | N53442              | EWR                 | MIA                 | 157                 | 1085                | 6                   |  7                  | 2013-01-01 06:00:00 |\n",
       "| 2013                | 1                   | 1                   | 608                 | 600                 |  8                  |  807                |  735                |  32                 | MQ                  | 3768                | N9EAMQ              | EWR                 | ORD                 | 139                 |  719                | 6                   |  0                  | 2013-01-01 06:00:00 |\n",
       "| 2013                | 1                   | 1                   | 611                 | 600                 | 11                  |  945                |  931                |  14                 | UA                  |  303                | N532UA              | JFK                 | SFO                 | 366                 | 2586                | 6                   |  0                  | 2013-01-01 06:00:00 |\n",
       "| 2013                | 1                   | 1                   | 613                 | 610                 |  3                  |  925                |  921                |   4                 | B6                  |  135                | N635JB              | JFK                 | RSW                 | 175                 | 1074                | 6                   | 10                  | 2013-01-01 06:00:00 |\n",
       "| 2013                | 1                   | 1                   | 615                 | 615                 |  0                  | 1039                | 1100                | -21                 | B6                  |  709                | N794JB              | JFK                 | SJU                 | 182                 | 1598                | 6                   | 15                  | 2013-01-01 06:00:00 |\n",
       "| 2013                | 1                   | 1                   | 615                 | 615                 |  0                  |  833                |  842                |  -9                 | DL                  |  575                | N326NB              | EWR                 | ATL                 | 120                 |  746                | 6                   | 15                  | 2013-01-01 06:00:00 |\n",
       "| ... | ... | ... | ... | ... | ... | ... | ... | ... | ... | ... | ... | ... | ... | ... | ... | ... | ... | ... |\n",
       "| 2013                | 9                   | 30                  | 2123                | 2125                |  -2                 | 2223                | 2247                | -24                 | EV                  | 5489                | N712EV              | LGA                 | CHO                 |  45                 |  305                | 21                  | 25                  | 2013-09-30 21:00:00 |\n",
       "| 2013                | 9                   | 30                  | 2127                | 2129                |  -2                 | 2314                | 2323                |  -9                 | EV                  | 3833                | N16546              | EWR                 | CLT                 |  72                 |  529                | 21                  | 29                  | 2013-09-30 21:00:00 |\n",
       "| 2013                | 9                   | 30                  | 2128                | 2130                |  -2                 | 2328                | 2359                | -31                 | B6                  |   97                | N807JB              | JFK                 | DEN                 | 213                 | 1626                | 21                  | 30                  | 2013-09-30 21:00:00 |\n",
       "| 2013                | 9                   | 30                  | 2129                | 2059                |  30                 | 2230                | 2232                |  -2                 | EV                  | 5048                | N751EV              | LGA                 | RIC                 |  45                 |  292                | 20                  | 59                  | 2013-09-30 20:00:00 |\n",
       "| 2013                | 9                   | 30                  | 2131                | 2140                |  -9                 | 2225                | 2255                | -30                 | MQ                  | 3621                | N807MQ              | JFK                 | DCA                 |  36                 |  213                | 21                  | 40                  | 2013-09-30 21:00:00 |\n",
       "| 2013                | 9                   | 30                  | 2140                | 2140                |   0                 |   10                |   40                | -30                 | AA                  |  185                | N335AA              | JFK                 | LAX                 | 298                 | 2475                | 21                  | 40                  | 2013-09-30 21:00:00 |\n",
       "| 2013                | 9                   | 30                  | 2142                | 2129                |  13                 | 2250                | 2239                |  11                 | EV                  | 4509                | N12957              | EWR                 | PWM                 |  47                 |  284                | 21                  | 29                  | 2013-09-30 21:00:00 |\n",
       "| 2013                | 9                   | 30                  | 2145                | 2145                |   0                 |  115                |  140                | -25                 | B6                  | 1103                | N633JB              | JFK                 | SJU                 | 192                 | 1598                | 21                  | 45                  | 2013-09-30 21:00:00 |\n",
       "| 2013                | 9                   | 30                  | 2147                | 2137                |  10                 |   30                |   27                |   3                 | B6                  | 1371                | N627JB              | LGA                 | FLL                 | 139                 | 1076                | 21                  | 37                  | 2013-09-30 21:00:00 |\n",
       "| 2013                | 9                   | 30                  | 2149                | 2156                |  -7                 | 2245                | 2308                | -23                 | UA                  |  523                | N813UA              | EWR                 | BOS                 |  37                 |  200                | 21                  | 56                  | 2013-09-30 21:00:00 |\n",
       "| 2013                | 9                   | 30                  | 2150                | 2159                |  -9                 | 2250                | 2306                | -16                 | EV                  | 3842                | N10575              | EWR                 | MHT                 |  39                 |  209                | 21                  | 59                  | 2013-09-30 21:00:00 |\n",
       "| 2013                | 9                   | 30                  | 2159                | 1845                | 194                 | 2344                | 2030                | 194                 | 9E                  | 3320                | N906XJ              | JFK                 | BUF                 |  50                 |  301                | 18                  | 45                  | 2013-09-30 18:00:00 |\n",
       "| 2013                | 9                   | 30                  | 2203                | 2205                |  -2                 | 2339                | 2331                |   8                 | EV                  | 5311                | N722EV              | LGA                 | BGR                 |  61                 |  378                | 22                  |  5                  | 2013-09-30 22:00:00 |\n",
       "| 2013                | 9                   | 30                  | 2207                | 2140                |  27                 | 2257                | 2250                |   7                 | MQ                  | 3660                | N532MQ              | LGA                 | BNA                 |  97                 |  764                | 21                  | 40                  | 2013-09-30 21:00:00 |\n",
       "| 2013                | 9                   | 30                  | 2211                | 2059                |  72                 | 2339                | 2242                |  57                 | EV                  | 4672                | N12145              | EWR                 | STL                 | 120                 |  872                | 20                  | 59                  | 2013-09-30 20:00:00 |\n",
       "| 2013                | 9                   | 30                  | 2231                | 2245                | -14                 | 2335                | 2356                | -21                 | B6                  |  108                | N193JB              | JFK                 | PWM                 |  48                 |  273                | 22                  | 45                  | 2013-09-30 22:00:00 |\n",
       "| 2013                | 9                   | 30                  | 2233                | 2113                |  80                 |  112                |   30                |  42                 | UA                  |  471                | N578UA              | EWR                 | SFO                 | 318                 | 2565                | 21                  | 13                  | 2013-09-30 21:00:00 |\n",
       "| 2013                | 9                   | 30                  | 2235                | 2001                | 154                 |   59                | 2249                | 130                 | B6                  | 1083                | N804JB              | JFK                 | MCO                 | 123                 |  944                | 20                  |  1                  | 2013-09-30 20:00:00 |\n",
       "| 2013                | 9                   | 30                  | 2237                | 2245                |  -8                 | 2345                | 2353                |  -8                 | B6                  |  234                | N318JB              | JFK                 | BTV                 |  43                 |  266                | 22                  | 45                  | 2013-09-30 22:00:00 |\n",
       "| 2013                | 9                   | 30                  | 2240                | 2245                |  -5                 | 2334                | 2351                | -17                 | B6                  | 1816                | N354JB              | JFK                 | SYR                 |  41                 |  209                | 22                  | 45                  | 2013-09-30 22:00:00 |\n",
       "| 2013                | 9                   | 30                  | 2240                | 2250                | -10                 | 2347                |    7                | -20                 | B6                  | 2002                | N281JB              | JFK                 | BUF                 |  52                 |  301                | 22                  | 50                  | 2013-09-30 22:00:00 |\n",
       "| 2013                | 9                   | 30                  | 2241                | 2246                |  -5                 | 2345                |    1                | -16                 | B6                  |  486                | N346JB              | JFK                 | ROC                 |  47                 |  264                | 22                  | 46                  | 2013-09-30 22:00:00 |\n",
       "| 2013                | 9                   | 30                  | 2307                | 2255                |  12                 | 2359                | 2358                |   1                 | B6                  |  718                | N565JB              | JFK                 | BOS                 |  33                 |  187                | 22                  | 55                  | 2013-09-30 22:00:00 |\n",
       "| 2013                | 9                   | 30                  | 2349                | 2359                | -10                 |  325                |  350                | -25                 | B6                  |  745                | N516JB              | JFK                 | PSE                 | 196                 | 1617                | 23                  | 59                  | 2013-09-30 23:00:00 |\n",
       "| 2013                | 9                   | 30                  |   NA                | 1842                |  NA                 |   NA                | 2019                |  NA                 | EV                  | 5274                | N740EV              | LGA                 | BNA                 |  NA                 |  764                | 18                  | 42                  | 2013-09-30 18:00:00 |\n",
       "| 2013                | 9                   | 30                  |   NA                | 1455                |  NA                 |   NA                | 1634                |  NA                 | 9E                  | 3393                | NA                  | JFK                 | DCA                 |  NA                 |  213                | 14                  | 55                  | 2013-09-30 14:00:00 |\n",
       "| 2013                | 9                   | 30                  |   NA                | 2200                |  NA                 |   NA                | 2312                |  NA                 | 9E                  | 3525                | NA                  | LGA                 | SYR                 |  NA                 |  198                | 22                  |  0                  | 2013-09-30 22:00:00 |\n",
       "| 2013                | 9                   | 30                  |   NA                | 1210                |  NA                 |   NA                | 1330                |  NA                 | MQ                  | 3461                | N535MQ              | LGA                 | BNA                 |  NA                 |  764                | 12                  | 10                  | 2013-09-30 12:00:00 |\n",
       "| 2013                | 9                   | 30                  |   NA                | 1159                |  NA                 |   NA                | 1344                |  NA                 | MQ                  | 3572                | N511MQ              | LGA                 | CLE                 |  NA                 |  419                | 11                  | 59                  | 2013-09-30 11:00:00 |\n",
       "| 2013                | 9                   | 30                  |   NA                |  840                |  NA                 |   NA                | 1020                |  NA                 | MQ                  | 3531                | N839MQ              | LGA                 | RDU                 |  NA                 |  431                |  8                  | 40                  | 2013-09-30 08:00:00 |\n",
       "\n"
      ],
      "text/plain": [
       "       year month day dep_time sched_dep_time dep_delay arr_time sched_arr_time\n",
       "1      2013 1     1   517      515             2         830      819          \n",
       "2      2013 1     1   533      529             4         850      830          \n",
       "3      2013 1     1   542      540             2         923      850          \n",
       "4      2013 1     1   544      545            -1        1004     1022          \n",
       "5      2013 1     1   554      600            -6         812      837          \n",
       "6      2013 1     1   554      558            -4         740      728          \n",
       "7      2013 1     1   555      600            -5         913      854          \n",
       "8      2013 1     1   557      600            -3         709      723          \n",
       "9      2013 1     1   557      600            -3         838      846          \n",
       "10     2013 1     1   558      600            -2         753      745          \n",
       "11     2013 1     1   558      600            -2         849      851          \n",
       "12     2013 1     1   558      600            -2         853      856          \n",
       "13     2013 1     1   558      600            -2         924      917          \n",
       "14     2013 1     1   558      600            -2         923      937          \n",
       "15     2013 1     1   559      600            -1         941      910          \n",
       "16     2013 1     1   559      559             0         702      706          \n",
       "17     2013 1     1   559      600            -1         854      902          \n",
       "18     2013 1     1   600      600             0         851      858          \n",
       "19     2013 1     1   600      600             0         837      825          \n",
       "20     2013 1     1   601      600             1         844      850          \n",
       "21     2013 1     1   602      610            -8         812      820          \n",
       "22     2013 1     1   602      605            -3         821      805          \n",
       "23     2013 1     1   606      610            -4         858      910          \n",
       "24     2013 1     1   606      610            -4         837      845          \n",
       "25     2013 1     1   607      607             0         858      915          \n",
       "26     2013 1     1   608      600             8         807      735          \n",
       "27     2013 1     1   611      600            11         945      931          \n",
       "28     2013 1     1   613      610             3         925      921          \n",
       "29     2013 1     1   615      615             0        1039     1100          \n",
       "30     2013 1     1   615      615             0         833      842          \n",
       "...    ...  ...   ... ...      ...            ...       ...      ...           \n",
       "336747 2013 9     30  2123     2125            -2       2223     2247          \n",
       "336748 2013 9     30  2127     2129            -2       2314     2323          \n",
       "336749 2013 9     30  2128     2130            -2       2328     2359          \n",
       "336750 2013 9     30  2129     2059            30       2230     2232          \n",
       "336751 2013 9     30  2131     2140            -9       2225     2255          \n",
       "336752 2013 9     30  2140     2140             0         10       40          \n",
       "336753 2013 9     30  2142     2129            13       2250     2239          \n",
       "336754 2013 9     30  2145     2145             0        115      140          \n",
       "336755 2013 9     30  2147     2137            10         30       27          \n",
       "336756 2013 9     30  2149     2156            -7       2245     2308          \n",
       "336757 2013 9     30  2150     2159            -9       2250     2306          \n",
       "336758 2013 9     30  2159     1845           194       2344     2030          \n",
       "336759 2013 9     30  2203     2205            -2       2339     2331          \n",
       "336760 2013 9     30  2207     2140            27       2257     2250          \n",
       "336761 2013 9     30  2211     2059            72       2339     2242          \n",
       "336762 2013 9     30  2231     2245           -14       2335     2356          \n",
       "336763 2013 9     30  2233     2113            80        112       30          \n",
       "336764 2013 9     30  2235     2001           154         59     2249          \n",
       "336765 2013 9     30  2237     2245            -8       2345     2353          \n",
       "336766 2013 9     30  2240     2245            -5       2334     2351          \n",
       "336767 2013 9     30  2240     2250           -10       2347        7          \n",
       "336768 2013 9     30  2241     2246            -5       2345        1          \n",
       "336769 2013 9     30  2307     2255            12       2359     2358          \n",
       "336770 2013 9     30  2349     2359           -10        325      350          \n",
       "336771 2013 9     30    NA     1842            NA         NA     2019          \n",
       "336772 2013 9     30    NA     1455            NA         NA     1634          \n",
       "336773 2013 9     30    NA     2200            NA         NA     2312          \n",
       "336774 2013 9     30    NA     1210            NA         NA     1330          \n",
       "336775 2013 9     30    NA     1159            NA         NA     1344          \n",
       "336776 2013 9     30    NA      840            NA         NA     1020          \n",
       "       arr_delay carrier flight tailnum origin dest air_time distance hour\n",
       "1       11       UA      1545   N14228  EWR    IAH  227      1400     5   \n",
       "2       20       UA      1714   N24211  LGA    IAH  227      1416     5   \n",
       "3       33       AA      1141   N619AA  JFK    MIA  160      1089     5   \n",
       "4      -18       B6       725   N804JB  JFK    BQN  183      1576     5   \n",
       "5      -25       DL       461   N668DN  LGA    ATL  116       762     6   \n",
       "6       12       UA      1696   N39463  EWR    ORD  150       719     5   \n",
       "7       19       B6       507   N516JB  EWR    FLL  158      1065     6   \n",
       "8      -14       EV      5708   N829AS  LGA    IAD   53       229     6   \n",
       "9       -8       B6        79   N593JB  JFK    MCO  140       944     6   \n",
       "10       8       AA       301   N3ALAA  LGA    ORD  138       733     6   \n",
       "11      -2       B6        49   N793JB  JFK    PBI  149      1028     6   \n",
       "12      -3       B6        71   N657JB  JFK    TPA  158      1005     6   \n",
       "13       7       UA       194   N29129  JFK    LAX  345      2475     6   \n",
       "14     -14       UA      1124   N53441  EWR    SFO  361      2565     6   \n",
       "15      31       AA       707   N3DUAA  LGA    DFW  257      1389     6   \n",
       "16      -4       B6      1806   N708JB  JFK    BOS   44       187     5   \n",
       "17      -8       UA      1187   N76515  EWR    LAS  337      2227     6   \n",
       "18      -7       B6       371   N595JB  LGA    FLL  152      1076     6   \n",
       "19      12       MQ      4650   N542MQ  LGA    ATL  134       762     6   \n",
       "20      -6       B6       343   N644JB  EWR    PBI  147      1023     6   \n",
       "21      -8       DL      1919   N971DL  LGA    MSP  170      1020     6   \n",
       "22      16       MQ      4401   N730MQ  LGA    DTW  105       502     6   \n",
       "23     -12       AA      1895   N633AA  EWR    MIA  152      1085     6   \n",
       "24      -8       DL      1743   N3739P  JFK    ATL  128       760     6   \n",
       "25     -17       UA      1077   N53442  EWR    MIA  157      1085     6   \n",
       "26      32       MQ      3768   N9EAMQ  EWR    ORD  139       719     6   \n",
       "27      14       UA       303   N532UA  JFK    SFO  366      2586     6   \n",
       "28       4       B6       135   N635JB  JFK    RSW  175      1074     6   \n",
       "29     -21       B6       709   N794JB  JFK    SJU  182      1598     6   \n",
       "30      -9       DL       575   N326NB  EWR    ATL  120       746     6   \n",
       "...    ...       ...     ...    ...     ...    ...  ...      ...      ... \n",
       "336747 -24       EV      5489   N712EV  LGA    CHO   45       305     21  \n",
       "336748  -9       EV      3833   N16546  EWR    CLT   72       529     21  \n",
       "336749 -31       B6        97   N807JB  JFK    DEN  213      1626     21  \n",
       "336750  -2       EV      5048   N751EV  LGA    RIC   45       292     20  \n",
       "336751 -30       MQ      3621   N807MQ  JFK    DCA   36       213     21  \n",
       "336752 -30       AA       185   N335AA  JFK    LAX  298      2475     21  \n",
       "336753  11       EV      4509   N12957  EWR    PWM   47       284     21  \n",
       "336754 -25       B6      1103   N633JB  JFK    SJU  192      1598     21  \n",
       "336755   3       B6      1371   N627JB  LGA    FLL  139      1076     21  \n",
       "336756 -23       UA       523   N813UA  EWR    BOS   37       200     21  \n",
       "336757 -16       EV      3842   N10575  EWR    MHT   39       209     21  \n",
       "336758 194       9E      3320   N906XJ  JFK    BUF   50       301     18  \n",
       "336759   8       EV      5311   N722EV  LGA    BGR   61       378     22  \n",
       "336760   7       MQ      3660   N532MQ  LGA    BNA   97       764     21  \n",
       "336761  57       EV      4672   N12145  EWR    STL  120       872     20  \n",
       "336762 -21       B6       108   N193JB  JFK    PWM   48       273     22  \n",
       "336763  42       UA       471   N578UA  EWR    SFO  318      2565     21  \n",
       "336764 130       B6      1083   N804JB  JFK    MCO  123       944     20  \n",
       "336765  -8       B6       234   N318JB  JFK    BTV   43       266     22  \n",
       "336766 -17       B6      1816   N354JB  JFK    SYR   41       209     22  \n",
       "336767 -20       B6      2002   N281JB  JFK    BUF   52       301     22  \n",
       "336768 -16       B6       486   N346JB  JFK    ROC   47       264     22  \n",
       "336769   1       B6       718   N565JB  JFK    BOS   33       187     22  \n",
       "336770 -25       B6       745   N516JB  JFK    PSE  196      1617     23  \n",
       "336771  NA       EV      5274   N740EV  LGA    BNA   NA       764     18  \n",
       "336772  NA       9E      3393   NA      JFK    DCA   NA       213     14  \n",
       "336773  NA       9E      3525   NA      LGA    SYR   NA       198     22  \n",
       "336774  NA       MQ      3461   N535MQ  LGA    BNA   NA       764     12  \n",
       "336775  NA       MQ      3572   N511MQ  LGA    CLE   NA       419     11  \n",
       "336776  NA       MQ      3531   N839MQ  LGA    RDU   NA       431      8  \n",
       "       minute time_hour          \n",
       "1      15     2013-01-01 05:00:00\n",
       "2      29     2013-01-01 05:00:00\n",
       "3      40     2013-01-01 05:00:00\n",
       "4      45     2013-01-01 05:00:00\n",
       "5       0     2013-01-01 06:00:00\n",
       "6      58     2013-01-01 05:00:00\n",
       "7       0     2013-01-01 06:00:00\n",
       "8       0     2013-01-01 06:00:00\n",
       "9       0     2013-01-01 06:00:00\n",
       "10      0     2013-01-01 06:00:00\n",
       "11      0     2013-01-01 06:00:00\n",
       "12      0     2013-01-01 06:00:00\n",
       "13      0     2013-01-01 06:00:00\n",
       "14      0     2013-01-01 06:00:00\n",
       "15      0     2013-01-01 06:00:00\n",
       "16     59     2013-01-01 05:00:00\n",
       "17      0     2013-01-01 06:00:00\n",
       "18      0     2013-01-01 06:00:00\n",
       "19      0     2013-01-01 06:00:00\n",
       "20      0     2013-01-01 06:00:00\n",
       "21     10     2013-01-01 06:00:00\n",
       "22      5     2013-01-01 06:00:00\n",
       "23     10     2013-01-01 06:00:00\n",
       "24     10     2013-01-01 06:00:00\n",
       "25      7     2013-01-01 06:00:00\n",
       "26      0     2013-01-01 06:00:00\n",
       "27      0     2013-01-01 06:00:00\n",
       "28     10     2013-01-01 06:00:00\n",
       "29     15     2013-01-01 06:00:00\n",
       "30     15     2013-01-01 06:00:00\n",
       "...    ...    ...                \n",
       "336747 25     2013-09-30 21:00:00\n",
       "336748 29     2013-09-30 21:00:00\n",
       "336749 30     2013-09-30 21:00:00\n",
       "336750 59     2013-09-30 20:00:00\n",
       "336751 40     2013-09-30 21:00:00\n",
       "336752 40     2013-09-30 21:00:00\n",
       "336753 29     2013-09-30 21:00:00\n",
       "336754 45     2013-09-30 21:00:00\n",
       "336755 37     2013-09-30 21:00:00\n",
       "336756 56     2013-09-30 21:00:00\n",
       "336757 59     2013-09-30 21:00:00\n",
       "336758 45     2013-09-30 18:00:00\n",
       "336759  5     2013-09-30 22:00:00\n",
       "336760 40     2013-09-30 21:00:00\n",
       "336761 59     2013-09-30 20:00:00\n",
       "336762 45     2013-09-30 22:00:00\n",
       "336763 13     2013-09-30 21:00:00\n",
       "336764  1     2013-09-30 20:00:00\n",
       "336765 45     2013-09-30 22:00:00\n",
       "336766 45     2013-09-30 22:00:00\n",
       "336767 50     2013-09-30 22:00:00\n",
       "336768 46     2013-09-30 22:00:00\n",
       "336769 55     2013-09-30 22:00:00\n",
       "336770 59     2013-09-30 23:00:00\n",
       "336771 42     2013-09-30 18:00:00\n",
       "336772 55     2013-09-30 14:00:00\n",
       "336773  0     2013-09-30 22:00:00\n",
       "336774 10     2013-09-30 12:00:00\n",
       "336775 59     2013-09-30 11:00:00\n",
       "336776 40     2013-09-30 08:00:00"
      ]
     },
     "metadata": {},
     "output_type": "display_data"
    }
   ],
   "source": [
    "nycflights13::flights"
   ]
  },
  {
   "cell_type": "code",
   "execution_count": 20,
   "metadata": {},
   "outputs": [],
   "source": [
    "?flights"
   ]
  },
  {
   "cell_type": "code",
   "execution_count": 22,
   "metadata": {},
   "outputs": [],
   "source": [
    "?nycflights13::flights"
   ]
  },
  {
   "cell_type": "code",
   "execution_count": 7,
   "metadata": {},
   "outputs": [
    {
     "name": "stdout",
     "output_type": "stream",
     "text": [
      "# A tibble: 336,776 x 19\n",
      "    year month   day dep_time sched_dep_time dep_delay arr_time sched_arr_time\n",
      "   <int> <int> <int>    <int>          <int>     <dbl>    <int>          <int>\n",
      " 1  2013     1     1      517            515         2      830            819\n",
      " 2  2013     1     1      533            529         4      850            830\n",
      " 3  2013     1     1      542            540         2      923            850\n",
      " 4  2013     1     1      544            545        -1     1004           1022\n",
      " 5  2013     1     1      554            600        -6      812            837\n",
      " 6  2013     1     1      554            558        -4      740            728\n",
      " 7  2013     1     1      555            600        -5      913            854\n",
      " 8  2013     1     1      557            600        -3      709            723\n",
      " 9  2013     1     1      557            600        -3      838            846\n",
      "10  2013     1     1      558            600        -2      753            745\n",
      "# ... with 336,766 more rows, and 11 more variables: arr_delay <dbl>,\n",
      "#   carrier <chr>, flight <int>, tailnum <chr>, origin <chr>, dest <chr>,\n",
      "#   air_time <dbl>, distance <dbl>, hour <dbl>, minute <dbl>, time_hour <dttm>\n"
     ]
    }
   ],
   "source": [
    "print(nycflights13::flights)"
   ]
  },
  {
   "cell_type": "code",
   "execution_count": 10,
   "metadata": {},
   "outputs": [
    {
     "name": "stdout",
     "output_type": "stream",
     "text": [
      "Observations: 336,776\n",
      "Variables: 19\n",
      "$ year           <int> 2013, 2013, 2013, 2013, 2013, 2013, 2013, 2013, 2013...\n",
      "$ month          <int> 1, 1, 1, 1, 1, 1, 1, 1, 1, 1, 1, 1, 1, 1, 1, 1, 1, 1...\n",
      "$ day            <int> 1, 1, 1, 1, 1, 1, 1, 1, 1, 1, 1, 1, 1, 1, 1, 1, 1, 1...\n",
      "$ dep_time       <int> 517, 533, 542, 544, 554, 554, 555, 557, 557, 558, 55...\n",
      "$ sched_dep_time <int> 515, 529, 540, 545, 600, 558, 600, 600, 600, 600, 60...\n",
      "$ dep_delay      <dbl> 2, 4, 2, -1, -6, -4, -5, -3, -3, -2, -2, -2, -2, -2,...\n",
      "$ arr_time       <int> 830, 850, 923, 1004, 812, 740, 913, 709, 838, 753, 8...\n",
      "$ sched_arr_time <int> 819, 830, 850, 1022, 837, 728, 854, 723, 846, 745, 8...\n",
      "$ arr_delay      <dbl> 11, 20, 33, -18, -25, 12, 19, -14, -8, 8, -2, -3, 7,...\n",
      "$ carrier        <chr> \"UA\", \"UA\", \"AA\", \"B6\", \"DL\", \"UA\", \"B6\", \"EV\", \"B6\"...\n",
      "$ flight         <int> 1545, 1714, 1141, 725, 461, 1696, 507, 5708, 79, 301...\n",
      "$ tailnum        <chr> \"N14228\", \"N24211\", \"N619AA\", \"N804JB\", \"N668DN\", \"N...\n",
      "$ origin         <chr> \"EWR\", \"LGA\", \"JFK\", \"JFK\", \"LGA\", \"EWR\", \"EWR\", \"LG...\n",
      "$ dest           <chr> \"IAH\", \"IAH\", \"MIA\", \"BQN\", \"ATL\", \"ORD\", \"FLL\", \"IA...\n",
      "$ air_time       <dbl> 227, 227, 160, 183, 116, 150, 158, 53, 140, 138, 149...\n",
      "$ distance       <dbl> 1400, 1416, 1089, 1576, 762, 719, 1065, 229, 944, 73...\n",
      "$ hour           <dbl> 5, 5, 5, 5, 6, 5, 6, 6, 6, 6, 6, 6, 6, 6, 6, 5, 6, 6...\n",
      "$ minute         <dbl> 15, 29, 40, 45, 0, 58, 0, 0, 0, 0, 0, 0, 0, 0, 0, 59...\n",
      "$ time_hour      <dttm> 2013-01-01 05:00:00, 2013-01-01 05:00:00, 2013-01-0...\n"
     ]
    }
   ],
   "source": [
    "glimpse(flights)"
   ]
  },
  {
   "cell_type": "code",
   "execution_count": 12,
   "metadata": {},
   "outputs": [
    {
     "data": {
      "text/html": [
       "<ol class=list-inline>\n",
       "\t<li>'year'</li>\n",
       "\t<li>'month'</li>\n",
       "\t<li>'day'</li>\n",
       "\t<li>'dep_time'</li>\n",
       "\t<li>'sched_dep_time'</li>\n",
       "\t<li>'dep_delay'</li>\n",
       "\t<li>'arr_time'</li>\n",
       "\t<li>'sched_arr_time'</li>\n",
       "\t<li>'arr_delay'</li>\n",
       "\t<li>'carrier'</li>\n",
       "\t<li>'flight'</li>\n",
       "\t<li>'tailnum'</li>\n",
       "\t<li>'origin'</li>\n",
       "\t<li>'dest'</li>\n",
       "\t<li>'air_time'</li>\n",
       "\t<li>'distance'</li>\n",
       "\t<li>'hour'</li>\n",
       "\t<li>'minute'</li>\n",
       "\t<li>'time_hour'</li>\n",
       "</ol>\n"
      ],
      "text/latex": [
       "\\begin{enumerate*}\n",
       "\\item 'year'\n",
       "\\item 'month'\n",
       "\\item 'day'\n",
       "\\item 'dep\\_time'\n",
       "\\item 'sched\\_dep\\_time'\n",
       "\\item 'dep\\_delay'\n",
       "\\item 'arr\\_time'\n",
       "\\item 'sched\\_arr\\_time'\n",
       "\\item 'arr\\_delay'\n",
       "\\item 'carrier'\n",
       "\\item 'flight'\n",
       "\\item 'tailnum'\n",
       "\\item 'origin'\n",
       "\\item 'dest'\n",
       "\\item 'air\\_time'\n",
       "\\item 'distance'\n",
       "\\item 'hour'\n",
       "\\item 'minute'\n",
       "\\item 'time\\_hour'\n",
       "\\end{enumerate*}\n"
      ],
      "text/markdown": [
       "1. 'year'\n",
       "2. 'month'\n",
       "3. 'day'\n",
       "4. 'dep_time'\n",
       "5. 'sched_dep_time'\n",
       "6. 'dep_delay'\n",
       "7. 'arr_time'\n",
       "8. 'sched_arr_time'\n",
       "9. 'arr_delay'\n",
       "10. 'carrier'\n",
       "11. 'flight'\n",
       "12. 'tailnum'\n",
       "13. 'origin'\n",
       "14. 'dest'\n",
       "15. 'air_time'\n",
       "16. 'distance'\n",
       "17. 'hour'\n",
       "18. 'minute'\n",
       "19. 'time_hour'\n",
       "\n",
       "\n"
      ],
      "text/plain": [
       " [1] \"year\"           \"month\"          \"day\"            \"dep_time\"      \n",
       " [5] \"sched_dep_time\" \"dep_delay\"      \"arr_time\"       \"sched_arr_time\"\n",
       " [9] \"arr_delay\"      \"carrier\"        \"flight\"         \"tailnum\"       \n",
       "[13] \"origin\"         \"dest\"           \"air_time\"       \"distance\"      \n",
       "[17] \"hour\"           \"minute\"         \"time_hour\"     "
      ]
     },
     "metadata": {},
     "output_type": "display_data"
    }
   ],
   "source": [
    "colnames(flights)"
   ]
  },
  {
   "cell_type": "code",
   "execution_count": 24,
   "metadata": {},
   "outputs": [
    {
     "data": {
      "text/plain": [
       "      year          month             day           dep_time    sched_dep_time\n",
       " Min.   :2013   Min.   : 1.000   Min.   : 1.00   Min.   :   1   Min.   : 106  \n",
       " 1st Qu.:2013   1st Qu.: 4.000   1st Qu.: 8.00   1st Qu.: 907   1st Qu.: 906  \n",
       " Median :2013   Median : 7.000   Median :16.00   Median :1401   Median :1359  \n",
       " Mean   :2013   Mean   : 6.549   Mean   :15.71   Mean   :1349   Mean   :1344  \n",
       " 3rd Qu.:2013   3rd Qu.:10.000   3rd Qu.:23.00   3rd Qu.:1744   3rd Qu.:1729  \n",
       " Max.   :2013   Max.   :12.000   Max.   :31.00   Max.   :2400   Max.   :2359  \n",
       "                                                 NA's   :8255                 \n",
       "   dep_delay          arr_time    sched_arr_time   arr_delay       \n",
       " Min.   : -43.00   Min.   :   1   Min.   :   1   Min.   : -86.000  \n",
       " 1st Qu.:  -5.00   1st Qu.:1104   1st Qu.:1124   1st Qu.: -17.000  \n",
       " Median :  -2.00   Median :1535   Median :1556   Median :  -5.000  \n",
       " Mean   :  12.64   Mean   :1502   Mean   :1536   Mean   :   6.895  \n",
       " 3rd Qu.:  11.00   3rd Qu.:1940   3rd Qu.:1945   3rd Qu.:  14.000  \n",
       " Max.   :1301.00   Max.   :2400   Max.   :2359   Max.   :1272.000  \n",
       " NA's   :8255      NA's   :8713                  NA's   :9430      \n",
       "   carrier              flight       tailnum             origin         \n",
       " Length:336776      Min.   :   1   Length:336776      Length:336776     \n",
       " Class :character   1st Qu.: 553   Class :character   Class :character  \n",
       " Mode  :character   Median :1496   Mode  :character   Mode  :character  \n",
       "                    Mean   :1972                                        \n",
       "                    3rd Qu.:3465                                        \n",
       "                    Max.   :8500                                        \n",
       "                                                                        \n",
       "     dest              air_time        distance         hour      \n",
       " Length:336776      Min.   : 20.0   Min.   :  17   Min.   : 1.00  \n",
       " Class :character   1st Qu.: 82.0   1st Qu.: 502   1st Qu.: 9.00  \n",
       " Mode  :character   Median :129.0   Median : 872   Median :13.00  \n",
       "                    Mean   :150.7   Mean   :1040   Mean   :13.18  \n",
       "                    3rd Qu.:192.0   3rd Qu.:1389   3rd Qu.:17.00  \n",
       "                    Max.   :695.0   Max.   :4983   Max.   :23.00  \n",
       "                    NA's   :9430                                  \n",
       "     minute        time_hour                  \n",
       " Min.   : 0.00   Min.   :2013-01-01 05:00:00  \n",
       " 1st Qu.: 8.00   1st Qu.:2013-04-04 13:00:00  \n",
       " Median :29.00   Median :2013-07-03 10:00:00  \n",
       " Mean   :26.23   Mean   :2013-07-03 05:22:54  \n",
       " 3rd Qu.:44.00   3rd Qu.:2013-10-01 07:00:00  \n",
       " Max.   :59.00   Max.   :2013-12-31 23:00:00  \n",
       "                                              "
      ]
     },
     "metadata": {},
     "output_type": "display_data"
    }
   ],
   "source": [
    "summary(flights)"
   ]
  },
  {
   "cell_type": "markdown",
   "metadata": {},
   "source": [
    "### les vols\n",
    "On s’intéresse plus spécifiquement à la distance du vol, sa durée, son retard au départ et à l’arrivée. \n",
    "En utilisant la fonction is.na, regardez si ces variables ont des valeurs manquantes. \n",
    "Si oui, créez un dataframe où vous les regroupez. \n",
    "À quoi sont dûs ces valeurs manquantes? \n",
    "Comment les traiter (les sortir de la table ou remplacer la valeur manquante par une autre valeur)?"
   ]
  },
  {
   "cell_type": "markdown",
   "metadata": {},
   "source": [
    "#### distance du vol"
   ]
  },
  {
   "cell_type": "code",
   "execution_count": 11,
   "metadata": {},
   "outputs": [],
   "source": [
    "distance_na <- filter(flights, is.na(flights$distance) == TRUE)"
   ]
  },
  {
   "cell_type": "code",
   "execution_count": 12,
   "metadata": {},
   "outputs": [
    {
     "data": {
      "text/html": [
       "<table>\n",
       "<thead><tr><th scope=col>year</th><th scope=col>month</th><th scope=col>day</th><th scope=col>dep_time</th><th scope=col>sched_dep_time</th><th scope=col>dep_delay</th><th scope=col>arr_time</th><th scope=col>sched_arr_time</th><th scope=col>arr_delay</th><th scope=col>carrier</th><th scope=col>flight</th><th scope=col>tailnum</th><th scope=col>origin</th><th scope=col>dest</th><th scope=col>air_time</th><th scope=col>distance</th><th scope=col>hour</th><th scope=col>minute</th><th scope=col>time_hour</th></tr></thead>\n",
       "<tbody>\n",
       "</tbody>\n",
       "</table>\n"
      ],
      "text/latex": [
       "\\begin{tabular}{r|lllllllllllllllllll}\n",
       " year & month & day & dep\\_time & sched\\_dep\\_time & dep\\_delay & arr\\_time & sched\\_arr\\_time & arr\\_delay & carrier & flight & tailnum & origin & dest & air\\_time & distance & hour & minute & time\\_hour\\\\\n",
       "\\hline\n",
       "\\end{tabular}\n"
      ],
      "text/markdown": [
       "\n",
       "| year | month | day | dep_time | sched_dep_time | dep_delay | arr_time | sched_arr_time | arr_delay | carrier | flight | tailnum | origin | dest | air_time | distance | hour | minute | time_hour |\n",
       "|---|---|---|---|---|---|---|---|---|---|---|---|---|---|---|---|---|---|---|\n",
       "\n"
      ],
      "text/plain": [
       "     year month day dep_time sched_dep_time dep_delay arr_time sched_arr_time\n",
       "     arr_delay carrier flight tailnum origin dest air_time distance hour minute\n",
       "     time_hour"
      ]
     },
     "metadata": {},
     "output_type": "display_data"
    }
   ],
   "source": [
    "distance_na"
   ]
  },
  {
   "cell_type": "code",
   "execution_count": 13,
   "metadata": {},
   "outputs": [
    {
     "data": {
      "text/html": [
       "<table>\n",
       "<thead><tr><th scope=col>n</th></tr></thead>\n",
       "<tbody>\n",
       "\t<tr><td>0</td></tr>\n",
       "</tbody>\n",
       "</table>\n"
      ],
      "text/latex": [
       "\\begin{tabular}{r|l}\n",
       " n\\\\\n",
       "\\hline\n",
       "\t 0\\\\\n",
       "\\end{tabular}\n"
      ],
      "text/markdown": [
       "\n",
       "| n |\n",
       "|---|\n",
       "| 0 |\n",
       "\n"
      ],
      "text/plain": [
       "  n\n",
       "1 0"
      ]
     },
     "metadata": {},
     "output_type": "display_data"
    }
   ],
   "source": [
    "count(distance_na)"
   ]
  },
  {
   "cell_type": "markdown",
   "metadata": {},
   "source": [
    "#### sa durée"
   ]
  },
  {
   "cell_type": "code",
   "execution_count": 14,
   "metadata": {},
   "outputs": [],
   "source": [
    "air_time_na <- filter(flights, is.na(flights$air_time) == TRUE)"
   ]
  },
  {
   "cell_type": "code",
   "execution_count": 15,
   "metadata": {},
   "outputs": [
    {
     "data": {
      "text/html": [
       "<table>\n",
       "<thead><tr><th scope=col>year</th><th scope=col>month</th><th scope=col>day</th><th scope=col>dep_time</th><th scope=col>sched_dep_time</th><th scope=col>dep_delay</th><th scope=col>arr_time</th><th scope=col>sched_arr_time</th><th scope=col>arr_delay</th><th scope=col>carrier</th><th scope=col>flight</th><th scope=col>tailnum</th><th scope=col>origin</th><th scope=col>dest</th><th scope=col>air_time</th><th scope=col>distance</th><th scope=col>hour</th><th scope=col>minute</th><th scope=col>time_hour</th></tr></thead>\n",
       "<tbody>\n",
       "\t<tr><td>2013               </td><td>1                  </td><td>1                  </td><td>1525               </td><td>1530               </td><td> -5                </td><td>1934               </td><td>1805               </td><td>NA                 </td><td>MQ                 </td><td>4525               </td><td>N719MQ             </td><td>LGA                </td><td>XNA                </td><td>NA                 </td><td>1147               </td><td>15                 </td><td>30                 </td><td>2013-01-01 15:00:00</td></tr>\n",
       "\t<tr><td>2013               </td><td>1                  </td><td>1                  </td><td>1528               </td><td>1459               </td><td> 29                </td><td>2002               </td><td>1647               </td><td>NA                 </td><td>EV                 </td><td>3806               </td><td>N17108             </td><td>EWR                </td><td>STL                </td><td>NA                 </td><td> 872               </td><td>14                 </td><td>59                 </td><td>2013-01-01 14:00:00</td></tr>\n",
       "\t<tr><td>2013               </td><td>1                  </td><td>1                  </td><td>1740               </td><td>1745               </td><td> -5                </td><td>2158               </td><td>2020               </td><td>NA                 </td><td>MQ                 </td><td>4413               </td><td>N739MQ             </td><td>LGA                </td><td>XNA                </td><td>NA                 </td><td>1147               </td><td>17                 </td><td>45                 </td><td>2013-01-01 17:00:00</td></tr>\n",
       "\t<tr><td>2013               </td><td>1                  </td><td>1                  </td><td>1807               </td><td>1738               </td><td> 29                </td><td>2251               </td><td>2103               </td><td>NA                 </td><td>UA                 </td><td>1228               </td><td>N31412             </td><td>EWR                </td><td>SAN                </td><td>NA                 </td><td>2425               </td><td>17                 </td><td>38                 </td><td>2013-01-01 17:00:00</td></tr>\n",
       "\t<tr><td>2013               </td><td>1                  </td><td>1                  </td><td>1939               </td><td>1840               </td><td> 59                </td><td>  29               </td><td>2151               </td><td>NA                 </td><td>9E                 </td><td>3325               </td><td>N905XJ             </td><td>JFK                </td><td>DFW                </td><td>NA                 </td><td>1391               </td><td>18                 </td><td>40                 </td><td>2013-01-01 18:00:00</td></tr>\n",
       "\t<tr><td>2013               </td><td>1                  </td><td>1                  </td><td>1952               </td><td>1930               </td><td> 22                </td><td>2358               </td><td>2207               </td><td>NA                 </td><td>EV                 </td><td>4333               </td><td>N11194             </td><td>EWR                </td><td>TUL                </td><td>NA                 </td><td>1215               </td><td>19                 </td><td>30                 </td><td>2013-01-01 19:00:00</td></tr>\n",
       "\t<tr><td>2013               </td><td>1                  </td><td>1                  </td><td>2016               </td><td>1930               </td><td> 46                </td><td>  NA               </td><td>2220               </td><td>NA                 </td><td>EV                 </td><td>4204               </td><td>N14168             </td><td>EWR                </td><td>OKC                </td><td>NA                 </td><td>1325               </td><td>19                 </td><td>30                 </td><td>2013-01-01 19:00:00</td></tr>\n",
       "\t<tr><td>2013               </td><td>1                  </td><td>1                  </td><td>  NA               </td><td>1630               </td><td> NA                </td><td>  NA               </td><td>1815               </td><td>NA                 </td><td>EV                 </td><td>4308               </td><td>N18120             </td><td>EWR                </td><td>RDU                </td><td>NA                 </td><td> 416               </td><td>16                 </td><td>30                 </td><td>2013-01-01 16:00:00</td></tr>\n",
       "\t<tr><td>2013               </td><td>1                  </td><td>1                  </td><td>  NA               </td><td>1935               </td><td> NA                </td><td>  NA               </td><td>2240               </td><td>NA                 </td><td>AA                 </td><td> 791               </td><td>N3EHAA             </td><td>LGA                </td><td>DFW                </td><td>NA                 </td><td>1389               </td><td>19                 </td><td>35                 </td><td>2013-01-01 19:00:00</td></tr>\n",
       "\t<tr><td>2013               </td><td>1                  </td><td>1                  </td><td>  NA               </td><td>1500               </td><td> NA                </td><td>  NA               </td><td>1825               </td><td>NA                 </td><td>AA                 </td><td>1925               </td><td>N3EVAA             </td><td>LGA                </td><td>MIA                </td><td>NA                 </td><td>1096               </td><td>15                 </td><td> 0                 </td><td>2013-01-01 15:00:00</td></tr>\n",
       "\t<tr><td>2013               </td><td>1                  </td><td>1                  </td><td>  NA               </td><td> 600               </td><td> NA                </td><td>  NA               </td><td> 901               </td><td>NA                 </td><td>B6                 </td><td> 125               </td><td>N618JB             </td><td>JFK                </td><td>FLL                </td><td>NA                 </td><td>1069               </td><td> 6                 </td><td> 0                 </td><td>2013-01-01 06:00:00</td></tr>\n",
       "\t<tr><td>2013               </td><td>1                  </td><td>2                  </td><td> 905               </td><td> 822               </td><td> 43                </td><td>1313               </td><td>1045               </td><td>NA                 </td><td>EV                 </td><td>4140               </td><td>N15912             </td><td>EWR                </td><td>XNA                </td><td>NA                 </td><td>1131               </td><td> 8                 </td><td>22                 </td><td>2013-01-02 08:00:00</td></tr>\n",
       "\t<tr><td>2013               </td><td>1                  </td><td>2                  </td><td>1125               </td><td> 925               </td><td>120                </td><td>1445               </td><td>1146               </td><td>NA                 </td><td>9E                 </td><td>3658               </td><td>N8783E             </td><td>LGA                </td><td>GRR                </td><td>NA                 </td><td> 618               </td><td> 9                 </td><td>25                 </td><td>2013-01-02 09:00:00</td></tr>\n",
       "\t<tr><td>2013               </td><td>1                  </td><td>2                  </td><td>1848               </td><td>1840               </td><td>  8                </td><td>2333               </td><td>2151               </td><td>NA                 </td><td>9E                 </td><td>3325               </td><td>N920XJ             </td><td>JFK                </td><td>DFW                </td><td>NA                 </td><td>1391               </td><td>18                 </td><td>40                 </td><td>2013-01-02 18:00:00</td></tr>\n",
       "\t<tr><td>2013               </td><td>1                  </td><td>2                  </td><td>1849               </td><td>1724               </td><td> 85                </td><td>2235               </td><td>1938               </td><td>NA                 </td><td>EV                 </td><td>4321               </td><td>N14998             </td><td>EWR                </td><td>MCI                </td><td>NA                 </td><td>1092               </td><td>17                 </td><td>24                 </td><td>2013-01-02 17:00:00</td></tr>\n",
       "\t<tr><td>2013               </td><td>1                  </td><td>2                  </td><td>1927               </td><td>1930               </td><td> -3                </td><td>2359               </td><td>2306               </td><td>NA                 </td><td>9E                 </td><td>3401               </td><td>N908XJ             </td><td>JFK                </td><td>SAT                </td><td>NA                 </td><td>1587               </td><td>19                 </td><td>30                 </td><td>2013-01-02 19:00:00</td></tr>\n",
       "\t<tr><td>2013               </td><td>1                  </td><td>2                  </td><td>2041               </td><td>2045               </td><td> -4                </td><td>  NA               </td><td>2359               </td><td>NA                 </td><td>B6                 </td><td> 147               </td><td>N630JB             </td><td>JFK                </td><td>RSW                </td><td>NA                 </td><td>1074               </td><td>20                 </td><td>45                 </td><td>2013-01-02 20:00:00</td></tr>\n",
       "\t<tr><td>2013               </td><td>1                  </td><td>2                  </td><td>2145               </td><td>2129               </td><td> 16                </td><td>  NA               </td><td>  33               </td><td>NA                 </td><td>UA                 </td><td>1299               </td><td>N12221             </td><td>EWR                </td><td>RSW                </td><td>NA                 </td><td>1068               </td><td>21                 </td><td>29                 </td><td>2013-01-02 21:00:00</td></tr>\n",
       "\t<tr><td>2013               </td><td>1                  </td><td>2                  </td><td>  NA               </td><td>1540               </td><td> NA                </td><td>  NA               </td><td>1747               </td><td>NA                 </td><td>EV                 </td><td>4352               </td><td>N10575             </td><td>EWR                </td><td>CVG                </td><td>NA                 </td><td> 569               </td><td>15                 </td><td>40                 </td><td>2013-01-02 15:00:00</td></tr>\n",
       "\t<tr><td>2013               </td><td>1                  </td><td>2                  </td><td>  NA               </td><td>1620               </td><td> NA                </td><td>  NA               </td><td>1746               </td><td>NA                 </td><td>EV                 </td><td>4406               </td><td>N13949             </td><td>EWR                </td><td>PIT                </td><td>NA                 </td><td> 319               </td><td>16                 </td><td>20                 </td><td>2013-01-02 16:00:00</td></tr>\n",
       "\t<tr><td>2013               </td><td>1                  </td><td>2                  </td><td>  NA               </td><td>1355               </td><td> NA                </td><td>  NA               </td><td>1459               </td><td>NA                 </td><td>EV                 </td><td>4434               </td><td>N10575             </td><td>EWR                </td><td>MHT                </td><td>NA                 </td><td> 209               </td><td>13                 </td><td>55                 </td><td>2013-01-02 13:00:00</td></tr>\n",
       "\t<tr><td>2013               </td><td>1                  </td><td>2                  </td><td>  NA               </td><td>1420               </td><td> NA                </td><td>  NA               </td><td>1644               </td><td>NA                 </td><td>EV                 </td><td>4935               </td><td>N759EV             </td><td>EWR                </td><td>ATL                </td><td>NA                 </td><td> 746               </td><td>14                 </td><td>20                 </td><td>2013-01-02 14:00:00</td></tr>\n",
       "\t<tr><td>2013               </td><td>1                  </td><td>2                  </td><td>  NA               </td><td>1321               </td><td> NA                </td><td>  NA               </td><td>1536               </td><td>NA                 </td><td>EV                 </td><td>3849               </td><td>N13550             </td><td>EWR                </td><td>IND                </td><td>NA                 </td><td> 645               </td><td>13                 </td><td>21                 </td><td>2013-01-02 13:00:00</td></tr>\n",
       "\t<tr><td>2013               </td><td>1                  </td><td>2                  </td><td>  NA               </td><td>1545               </td><td> NA                </td><td>  NA               </td><td>1910               </td><td>NA                 </td><td>AA                 </td><td> 133               </td><td>NA                 </td><td>JFK                </td><td>LAX                </td><td>NA                 </td><td>2475               </td><td>15                 </td><td>45                 </td><td>2013-01-02 15:00:00</td></tr>\n",
       "\t<tr><td>2013               </td><td>1                  </td><td>2                  </td><td>  NA               </td><td>1330               </td><td> NA                </td><td>  NA               </td><td>1640               </td><td>NA                 </td><td>AA                 </td><td> 753               </td><td>N3FBAA             </td><td>LGA                </td><td>DFW                </td><td>NA                 </td><td>1389               </td><td>13                 </td><td>30                 </td><td>2013-01-02 13:00:00</td></tr>\n",
       "\t<tr><td>2013               </td><td>1                  </td><td>2                  </td><td>  NA               </td><td>1601               </td><td> NA                </td><td>  NA               </td><td>1735               </td><td>NA                 </td><td>UA                 </td><td> 623               </td><td>NA                 </td><td>EWR                </td><td>ORD                </td><td>NA                 </td><td> 719               </td><td>16                 </td><td> 1                 </td><td>2013-01-02 16:00:00</td></tr>\n",
       "\t<tr><td>2013               </td><td>1                  </td><td>3                  </td><td>1025               </td><td>1032               </td><td> -7                </td><td>1521               </td><td>1240               </td><td>NA                 </td><td>EV                 </td><td>4255               </td><td>N34110             </td><td>EWR                </td><td>CHS                </td><td>NA                 </td><td> 628               </td><td>10                 </td><td>32                 </td><td>2013-01-03 10:00:00</td></tr>\n",
       "\t<tr><td>2013               </td><td>1                  </td><td>3                  </td><td>1348               </td><td>1350               </td><td> -2                </td><td>1821               </td><td>1628               </td><td>NA                 </td><td>DL                 </td><td>1705               </td><td>N324NB             </td><td>LGA                </td><td>MSY                </td><td>NA                 </td><td>1183               </td><td>13                 </td><td>50                 </td><td>2013-01-03 13:00:00</td></tr>\n",
       "\t<tr><td>2013               </td><td>1                  </td><td>3                  </td><td>1904               </td><td>1659               </td><td>125                </td><td>2327               </td><td>2046               </td><td>NA                 </td><td>9E                 </td><td>3375               </td><td>N916XJ             </td><td>JFK                </td><td>SAT                </td><td>NA                 </td><td>1587               </td><td>16                 </td><td>59                 </td><td>2013-01-03 16:00:00</td></tr>\n",
       "\t<tr><td>2013               </td><td>1                  </td><td>3                  </td><td>1928               </td><td>1928               </td><td>  0                </td><td>  19               </td><td>2129               </td><td>NA                 </td><td>EV                 </td><td>4532               </td><td>N14171             </td><td>EWR                </td><td>CHS                </td><td>NA                 </td><td> 628               </td><td>19                 </td><td>28                 </td><td>2013-01-03 19:00:00</td></tr>\n",
       "\t<tr><td>...</td><td>...</td><td>...</td><td>...</td><td>...</td><td>...</td><td>...</td><td>...</td><td>...</td><td>...</td><td>...</td><td>...</td><td>...</td><td>...</td><td>...</td><td>...</td><td>...</td><td>...</td><td>...</td></tr>\n",
       "\t<tr><td>2013               </td><td>9                  </td><td>25                 </td><td>  NA               </td><td>1655               </td><td> NA                </td><td>  NA               </td><td>1840               </td><td>NA                 </td><td>MQ                 </td><td>3411               </td><td>N735MQ             </td><td>LGA                </td><td>RDU                </td><td>NA                 </td><td> 431               </td><td>16                 </td><td>55                 </td><td>2013-09-25 16:00:00</td></tr>\n",
       "\t<tr><td>2013               </td><td>9                  </td><td>25                 </td><td>  NA               </td><td>1559               </td><td> NA                </td><td>  NA               </td><td>1719               </td><td>NA                 </td><td>MQ                 </td><td>3748               </td><td>N530MQ             </td><td>EWR                </td><td>ORD                </td><td>NA                 </td><td> 719               </td><td>15                 </td><td>59                 </td><td>2013-09-25 15:00:00</td></tr>\n",
       "\t<tr><td>2013               </td><td>9                  </td><td>26                 </td><td>1331               </td><td>1329               </td><td>  2                </td><td>1923               </td><td>1813               </td><td>NA                 </td><td>UA                 </td><td>  15               </td><td>N67052             </td><td>EWR                </td><td>HNL                </td><td>NA                 </td><td>4963               </td><td>13                 </td><td>29                 </td><td>2013-09-26 13:00:00</td></tr>\n",
       "\t<tr><td>2013               </td><td>9                  </td><td>26                 </td><td>  NA               </td><td> 915               </td><td> NA                </td><td>  NA               </td><td>1141               </td><td>NA                 </td><td>EV                 </td><td>5109               </td><td>N748EV             </td><td>LGA                </td><td>CHS                </td><td>NA                 </td><td> 641               </td><td> 9                 </td><td>15                 </td><td>2013-09-26 09:00:00</td></tr>\n",
       "\t<tr><td>2013               </td><td>9                  </td><td>26                 </td><td>  NA               </td><td>1400               </td><td> NA                </td><td>  NA               </td><td>1512               </td><td>NA                 </td><td>US                 </td><td>2183               </td><td>NA                 </td><td>LGA                </td><td>DCA                </td><td>NA                 </td><td> 214               </td><td>14                 </td><td> 0                 </td><td>2013-09-26 14:00:00</td></tr>\n",
       "\t<tr><td>2013               </td><td>9                  </td><td>26                 </td><td>  NA               </td><td>1240               </td><td> NA                </td><td>  NA               </td><td>1525               </td><td>NA                 </td><td>WN                 </td><td>4720               </td><td>N691WN             </td><td>EWR                </td><td>HOU                </td><td>NA                 </td><td>1411               </td><td>12                 </td><td>40                 </td><td>2013-09-26 12:00:00</td></tr>\n",
       "\t<tr><td>2013               </td><td>9                  </td><td>27                 </td><td>1332               </td><td>1329               </td><td>  3                </td><td>1629               </td><td>1509               </td><td>NA                 </td><td>AA                 </td><td> 331               </td><td>N565AA             </td><td>LGA                </td><td>ORD                </td><td>NA                 </td><td> 733               </td><td>13                 </td><td>29                 </td><td>2013-09-27 13:00:00</td></tr>\n",
       "\t<tr><td>2013               </td><td>9                  </td><td>27                 </td><td>2253               </td><td>1945               </td><td>188                </td><td>  NA               </td><td>2146               </td><td>NA                 </td><td>EV                 </td><td>5306               </td><td>N605QX             </td><td>LGA                </td><td>GSO                </td><td>NA                 </td><td> 461               </td><td>19                 </td><td>45                 </td><td>2013-09-27 19:00:00</td></tr>\n",
       "\t<tr><td>2013               </td><td>9                  </td><td>27                 </td><td>  NA               </td><td> 600               </td><td> NA                </td><td>  NA               </td><td> 730               </td><td>NA                 </td><td>AA                 </td><td> 301               </td><td>N584AA             </td><td>LGA                </td><td>ORD                </td><td>NA                 </td><td> 733               </td><td> 6                 </td><td> 0                 </td><td>2013-09-27 06:00:00</td></tr>\n",
       "\t<tr><td>2013               </td><td>9                  </td><td>27                 </td><td>  NA               </td><td>2100               </td><td> NA                </td><td>  NA               </td><td>2211               </td><td>NA                 </td><td>US                 </td><td>2164               </td><td>NA                 </td><td>LGA                </td><td>BOS                </td><td>NA                 </td><td> 184               </td><td>21                 </td><td> 0                 </td><td>2013-09-27 21:00:00</td></tr>\n",
       "\t<tr><td>2013               </td><td>9                  </td><td>27                 </td><td>  NA               </td><td>1329               </td><td> NA                </td><td>  NA               </td><td>1444               </td><td>NA                 </td><td>MQ                 </td><td>3760               </td><td>N505MQ             </td><td>EWR                </td><td>ORD                </td><td>NA                 </td><td> 719               </td><td>13                 </td><td>29                 </td><td>2013-09-27 13:00:00</td></tr>\n",
       "\t<tr><td>2013               </td><td>9                  </td><td>27                 </td><td>  NA               </td><td>1600               </td><td> NA                </td><td>  NA               </td><td>1739               </td><td>NA                 </td><td>UA                 </td><td> 269               </td><td>NA                 </td><td>LGA                </td><td>ORD                </td><td>NA                 </td><td> 733               </td><td>16                 </td><td> 0                 </td><td>2013-09-27 16:00:00</td></tr>\n",
       "\t<tr><td>2013               </td><td>9                  </td><td>28                 </td><td> 555               </td><td> 600               </td><td> -5                </td><td> 953               </td><td> 753               </td><td>NA                 </td><td>EV                 </td><td>5068               </td><td>N133EV             </td><td>EWR                </td><td>DTW                </td><td>NA                 </td><td> 488               </td><td> 6                 </td><td> 0                 </td><td>2013-09-28 06:00:00</td></tr>\n",
       "\t<tr><td>2013               </td><td>9                  </td><td>28                 </td><td> 847               </td><td> 839               </td><td>  8                </td><td>1130               </td><td> 959               </td><td>NA                 </td><td>EV                 </td><td>4510               </td><td>N14542             </td><td>EWR                </td><td>MKE                </td><td>NA                 </td><td> 725               </td><td> 8                 </td><td>39                 </td><td>2013-09-28 08:00:00</td></tr>\n",
       "\t<tr><td>2013               </td><td>9                  </td><td>28                 </td><td>1010               </td><td>1020               </td><td>-10                </td><td>1344               </td><td>1222               </td><td>NA                 </td><td>EV                 </td><td>4412               </td><td>N12175             </td><td>EWR                </td><td>DSM                </td><td>NA                 </td><td>1017               </td><td>10                 </td><td>20                 </td><td>2013-09-28 10:00:00</td></tr>\n",
       "\t<tr><td>2013               </td><td>9                  </td><td>28                 </td><td>1214               </td><td>1225               </td><td>-11                </td><td>1801               </td><td>1510               </td><td>NA                 </td><td>AA                 </td><td> 300               </td><td>N488AA             </td><td>EWR                </td><td>DFW                </td><td>NA                 </td><td>1372               </td><td>12                 </td><td>25                 </td><td>2013-09-28 12:00:00</td></tr>\n",
       "\t<tr><td>2013               </td><td>9                  </td><td>28                 </td><td>  NA               </td><td>1803               </td><td> NA                </td><td>  NA               </td><td>1927               </td><td>NA                 </td><td>EV                 </td><td>5563               </td><td>N724EV             </td><td>LGA                </td><td>BTV                </td><td>NA                 </td><td> 258               </td><td>18                 </td><td> 3                 </td><td>2013-09-28 18:00:00</td></tr>\n",
       "\t<tr><td>2013               </td><td>9                  </td><td>28                 </td><td>  NA               </td><td> 910               </td><td> NA                </td><td>  NA               </td><td>1220               </td><td>NA                 </td><td>AA                 </td><td>   1               </td><td>N320AA             </td><td>JFK                </td><td>LAX                </td><td>NA                 </td><td>2475               </td><td> 9                 </td><td>10                 </td><td>2013-09-28 09:00:00</td></tr>\n",
       "\t<tr><td>2013               </td><td>9                  </td><td>28                 </td><td>  NA               </td><td>1635               </td><td> NA                </td><td>  NA               </td><td>1827               </td><td>NA                 </td><td>US                 </td><td> 581               </td><td>NA                 </td><td>EWR                </td><td>CLT                </td><td>NA                 </td><td> 529               </td><td>16                 </td><td>35                 </td><td>2013-09-28 16:00:00</td></tr>\n",
       "\t<tr><td>2013               </td><td>9                  </td><td>29                 </td><td>1734               </td><td>1711               </td><td> 23                </td><td>2159               </td><td>2020               </td><td>NA                 </td><td>UA                 </td><td> 327               </td><td>N463UA             </td><td>EWR                </td><td>PDX                </td><td>NA                 </td><td>2434               </td><td>17                 </td><td>11                 </td><td>2013-09-29 17:00:00</td></tr>\n",
       "\t<tr><td>2013               </td><td>9                  </td><td>29                 </td><td>  NA               </td><td>2054               </td><td> NA                </td><td>  NA               </td><td>2302               </td><td>NA                 </td><td>EV                 </td><td>4536               </td><td>N13988             </td><td>EWR                </td><td>CVG                </td><td>NA                 </td><td> 569               </td><td>20                 </td><td>54                 </td><td>2013-09-29 20:00:00</td></tr>\n",
       "\t<tr><td>2013               </td><td>9                  </td><td>29                 </td><td>  NA               </td><td>1830               </td><td> NA                </td><td>  NA               </td><td>2010               </td><td>NA                 </td><td>MQ                 </td><td>3134               </td><td>N508MQ             </td><td>EWR                </td><td>ORD                </td><td>NA                 </td><td> 719               </td><td>18                 </td><td>30                 </td><td>2013-09-29 18:00:00</td></tr>\n",
       "\t<tr><td>2013               </td><td>9                  </td><td>29                 </td><td>  NA               </td><td> 700               </td><td> NA                </td><td>  NA               </td><td> 833               </td><td>NA                 </td><td>UA                 </td><td> 331               </td><td>NA                 </td><td>LGA                </td><td>ORD                </td><td>NA                 </td><td> 733               </td><td> 7                 </td><td> 0                 </td><td>2013-09-29 07:00:00</td></tr>\n",
       "\t<tr><td>2013               </td><td>9                  </td><td>30                 </td><td> 559               </td><td> 600               </td><td> -1                </td><td>  NA               </td><td> 715               </td><td>NA                 </td><td>WN                 </td><td> 464               </td><td>N411WN             </td><td>EWR                </td><td>MDW                </td><td>NA                 </td><td> 711               </td><td> 6                 </td><td> 0                 </td><td>2013-09-30 06:00:00</td></tr>\n",
       "\t<tr><td>2013               </td><td>9                  </td><td>30                 </td><td>  NA               </td><td>1842               </td><td> NA                </td><td>  NA               </td><td>2019               </td><td>NA                 </td><td>EV                 </td><td>5274               </td><td>N740EV             </td><td>LGA                </td><td>BNA                </td><td>NA                 </td><td> 764               </td><td>18                 </td><td>42                 </td><td>2013-09-30 18:00:00</td></tr>\n",
       "\t<tr><td>2013               </td><td>9                  </td><td>30                 </td><td>  NA               </td><td>1455               </td><td> NA                </td><td>  NA               </td><td>1634               </td><td>NA                 </td><td>9E                 </td><td>3393               </td><td>NA                 </td><td>JFK                </td><td>DCA                </td><td>NA                 </td><td> 213               </td><td>14                 </td><td>55                 </td><td>2013-09-30 14:00:00</td></tr>\n",
       "\t<tr><td>2013               </td><td>9                  </td><td>30                 </td><td>  NA               </td><td>2200               </td><td> NA                </td><td>  NA               </td><td>2312               </td><td>NA                 </td><td>9E                 </td><td>3525               </td><td>NA                 </td><td>LGA                </td><td>SYR                </td><td>NA                 </td><td> 198               </td><td>22                 </td><td> 0                 </td><td>2013-09-30 22:00:00</td></tr>\n",
       "\t<tr><td>2013               </td><td>9                  </td><td>30                 </td><td>  NA               </td><td>1210               </td><td> NA                </td><td>  NA               </td><td>1330               </td><td>NA                 </td><td>MQ                 </td><td>3461               </td><td>N535MQ             </td><td>LGA                </td><td>BNA                </td><td>NA                 </td><td> 764               </td><td>12                 </td><td>10                 </td><td>2013-09-30 12:00:00</td></tr>\n",
       "\t<tr><td>2013               </td><td>9                  </td><td>30                 </td><td>  NA               </td><td>1159               </td><td> NA                </td><td>  NA               </td><td>1344               </td><td>NA                 </td><td>MQ                 </td><td>3572               </td><td>N511MQ             </td><td>LGA                </td><td>CLE                </td><td>NA                 </td><td> 419               </td><td>11                 </td><td>59                 </td><td>2013-09-30 11:00:00</td></tr>\n",
       "\t<tr><td>2013               </td><td>9                  </td><td>30                 </td><td>  NA               </td><td> 840               </td><td> NA                </td><td>  NA               </td><td>1020               </td><td>NA                 </td><td>MQ                 </td><td>3531               </td><td>N839MQ             </td><td>LGA                </td><td>RDU                </td><td>NA                 </td><td> 431               </td><td> 8                 </td><td>40                 </td><td>2013-09-30 08:00:00</td></tr>\n",
       "</tbody>\n",
       "</table>\n"
      ],
      "text/latex": [
       "\\begin{tabular}{r|lllllllllllllllllll}\n",
       " year & month & day & dep\\_time & sched\\_dep\\_time & dep\\_delay & arr\\_time & sched\\_arr\\_time & arr\\_delay & carrier & flight & tailnum & origin & dest & air\\_time & distance & hour & minute & time\\_hour\\\\\n",
       "\\hline\n",
       "\t 2013                & 1                   & 1                   & 1525                & 1530                &  -5                 & 1934                & 1805                & NA                  & MQ                  & 4525                & N719MQ              & LGA                 & XNA                 & NA                  & 1147                & 15                  & 30                  & 2013-01-01 15:00:00\\\\\n",
       "\t 2013                & 1                   & 1                   & 1528                & 1459                &  29                 & 2002                & 1647                & NA                  & EV                  & 3806                & N17108              & EWR                 & STL                 & NA                  &  872                & 14                  & 59                  & 2013-01-01 14:00:00\\\\\n",
       "\t 2013                & 1                   & 1                   & 1740                & 1745                &  -5                 & 2158                & 2020                & NA                  & MQ                  & 4413                & N739MQ              & LGA                 & XNA                 & NA                  & 1147                & 17                  & 45                  & 2013-01-01 17:00:00\\\\\n",
       "\t 2013                & 1                   & 1                   & 1807                & 1738                &  29                 & 2251                & 2103                & NA                  & UA                  & 1228                & N31412              & EWR                 & SAN                 & NA                  & 2425                & 17                  & 38                  & 2013-01-01 17:00:00\\\\\n",
       "\t 2013                & 1                   & 1                   & 1939                & 1840                &  59                 &   29                & 2151                & NA                  & 9E                  & 3325                & N905XJ              & JFK                 & DFW                 & NA                  & 1391                & 18                  & 40                  & 2013-01-01 18:00:00\\\\\n",
       "\t 2013                & 1                   & 1                   & 1952                & 1930                &  22                 & 2358                & 2207                & NA                  & EV                  & 4333                & N11194              & EWR                 & TUL                 & NA                  & 1215                & 19                  & 30                  & 2013-01-01 19:00:00\\\\\n",
       "\t 2013                & 1                   & 1                   & 2016                & 1930                &  46                 &   NA                & 2220                & NA                  & EV                  & 4204                & N14168              & EWR                 & OKC                 & NA                  & 1325                & 19                  & 30                  & 2013-01-01 19:00:00\\\\\n",
       "\t 2013                & 1                   & 1                   &   NA                & 1630                &  NA                 &   NA                & 1815                & NA                  & EV                  & 4308                & N18120              & EWR                 & RDU                 & NA                  &  416                & 16                  & 30                  & 2013-01-01 16:00:00\\\\\n",
       "\t 2013                & 1                   & 1                   &   NA                & 1935                &  NA                 &   NA                & 2240                & NA                  & AA                  &  791                & N3EHAA              & LGA                 & DFW                 & NA                  & 1389                & 19                  & 35                  & 2013-01-01 19:00:00\\\\\n",
       "\t 2013                & 1                   & 1                   &   NA                & 1500                &  NA                 &   NA                & 1825                & NA                  & AA                  & 1925                & N3EVAA              & LGA                 & MIA                 & NA                  & 1096                & 15                  &  0                  & 2013-01-01 15:00:00\\\\\n",
       "\t 2013                & 1                   & 1                   &   NA                &  600                &  NA                 &   NA                &  901                & NA                  & B6                  &  125                & N618JB              & JFK                 & FLL                 & NA                  & 1069                &  6                  &  0                  & 2013-01-01 06:00:00\\\\\n",
       "\t 2013                & 1                   & 2                   &  905                &  822                &  43                 & 1313                & 1045                & NA                  & EV                  & 4140                & N15912              & EWR                 & XNA                 & NA                  & 1131                &  8                  & 22                  & 2013-01-02 08:00:00\\\\\n",
       "\t 2013                & 1                   & 2                   & 1125                &  925                & 120                 & 1445                & 1146                & NA                  & 9E                  & 3658                & N8783E              & LGA                 & GRR                 & NA                  &  618                &  9                  & 25                  & 2013-01-02 09:00:00\\\\\n",
       "\t 2013                & 1                   & 2                   & 1848                & 1840                &   8                 & 2333                & 2151                & NA                  & 9E                  & 3325                & N920XJ              & JFK                 & DFW                 & NA                  & 1391                & 18                  & 40                  & 2013-01-02 18:00:00\\\\\n",
       "\t 2013                & 1                   & 2                   & 1849                & 1724                &  85                 & 2235                & 1938                & NA                  & EV                  & 4321                & N14998              & EWR                 & MCI                 & NA                  & 1092                & 17                  & 24                  & 2013-01-02 17:00:00\\\\\n",
       "\t 2013                & 1                   & 2                   & 1927                & 1930                &  -3                 & 2359                & 2306                & NA                  & 9E                  & 3401                & N908XJ              & JFK                 & SAT                 & NA                  & 1587                & 19                  & 30                  & 2013-01-02 19:00:00\\\\\n",
       "\t 2013                & 1                   & 2                   & 2041                & 2045                &  -4                 &   NA                & 2359                & NA                  & B6                  &  147                & N630JB              & JFK                 & RSW                 & NA                  & 1074                & 20                  & 45                  & 2013-01-02 20:00:00\\\\\n",
       "\t 2013                & 1                   & 2                   & 2145                & 2129                &  16                 &   NA                &   33                & NA                  & UA                  & 1299                & N12221              & EWR                 & RSW                 & NA                  & 1068                & 21                  & 29                  & 2013-01-02 21:00:00\\\\\n",
       "\t 2013                & 1                   & 2                   &   NA                & 1540                &  NA                 &   NA                & 1747                & NA                  & EV                  & 4352                & N10575              & EWR                 & CVG                 & NA                  &  569                & 15                  & 40                  & 2013-01-02 15:00:00\\\\\n",
       "\t 2013                & 1                   & 2                   &   NA                & 1620                &  NA                 &   NA                & 1746                & NA                  & EV                  & 4406                & N13949              & EWR                 & PIT                 & NA                  &  319                & 16                  & 20                  & 2013-01-02 16:00:00\\\\\n",
       "\t 2013                & 1                   & 2                   &   NA                & 1355                &  NA                 &   NA                & 1459                & NA                  & EV                  & 4434                & N10575              & EWR                 & MHT                 & NA                  &  209                & 13                  & 55                  & 2013-01-02 13:00:00\\\\\n",
       "\t 2013                & 1                   & 2                   &   NA                & 1420                &  NA                 &   NA                & 1644                & NA                  & EV                  & 4935                & N759EV              & EWR                 & ATL                 & NA                  &  746                & 14                  & 20                  & 2013-01-02 14:00:00\\\\\n",
       "\t 2013                & 1                   & 2                   &   NA                & 1321                &  NA                 &   NA                & 1536                & NA                  & EV                  & 3849                & N13550              & EWR                 & IND                 & NA                  &  645                & 13                  & 21                  & 2013-01-02 13:00:00\\\\\n",
       "\t 2013                & 1                   & 2                   &   NA                & 1545                &  NA                 &   NA                & 1910                & NA                  & AA                  &  133                & NA                  & JFK                 & LAX                 & NA                  & 2475                & 15                  & 45                  & 2013-01-02 15:00:00\\\\\n",
       "\t 2013                & 1                   & 2                   &   NA                & 1330                &  NA                 &   NA                & 1640                & NA                  & AA                  &  753                & N3FBAA              & LGA                 & DFW                 & NA                  & 1389                & 13                  & 30                  & 2013-01-02 13:00:00\\\\\n",
       "\t 2013                & 1                   & 2                   &   NA                & 1601                &  NA                 &   NA                & 1735                & NA                  & UA                  &  623                & NA                  & EWR                 & ORD                 & NA                  &  719                & 16                  &  1                  & 2013-01-02 16:00:00\\\\\n",
       "\t 2013                & 1                   & 3                   & 1025                & 1032                &  -7                 & 1521                & 1240                & NA                  & EV                  & 4255                & N34110              & EWR                 & CHS                 & NA                  &  628                & 10                  & 32                  & 2013-01-03 10:00:00\\\\\n",
       "\t 2013                & 1                   & 3                   & 1348                & 1350                &  -2                 & 1821                & 1628                & NA                  & DL                  & 1705                & N324NB              & LGA                 & MSY                 & NA                  & 1183                & 13                  & 50                  & 2013-01-03 13:00:00\\\\\n",
       "\t 2013                & 1                   & 3                   & 1904                & 1659                & 125                 & 2327                & 2046                & NA                  & 9E                  & 3375                & N916XJ              & JFK                 & SAT                 & NA                  & 1587                & 16                  & 59                  & 2013-01-03 16:00:00\\\\\n",
       "\t 2013                & 1                   & 3                   & 1928                & 1928                &   0                 &   19                & 2129                & NA                  & EV                  & 4532                & N14171              & EWR                 & CHS                 & NA                  &  628                & 19                  & 28                  & 2013-01-03 19:00:00\\\\\n",
       "\t ... & ... & ... & ... & ... & ... & ... & ... & ... & ... & ... & ... & ... & ... & ... & ... & ... & ... & ...\\\\\n",
       "\t 2013                & 9                   & 25                  &   NA                & 1655                &  NA                 &   NA                & 1840                & NA                  & MQ                  & 3411                & N735MQ              & LGA                 & RDU                 & NA                  &  431                & 16                  & 55                  & 2013-09-25 16:00:00\\\\\n",
       "\t 2013                & 9                   & 25                  &   NA                & 1559                &  NA                 &   NA                & 1719                & NA                  & MQ                  & 3748                & N530MQ              & EWR                 & ORD                 & NA                  &  719                & 15                  & 59                  & 2013-09-25 15:00:00\\\\\n",
       "\t 2013                & 9                   & 26                  & 1331                & 1329                &   2                 & 1923                & 1813                & NA                  & UA                  &   15                & N67052              & EWR                 & HNL                 & NA                  & 4963                & 13                  & 29                  & 2013-09-26 13:00:00\\\\\n",
       "\t 2013                & 9                   & 26                  &   NA                &  915                &  NA                 &   NA                & 1141                & NA                  & EV                  & 5109                & N748EV              & LGA                 & CHS                 & NA                  &  641                &  9                  & 15                  & 2013-09-26 09:00:00\\\\\n",
       "\t 2013                & 9                   & 26                  &   NA                & 1400                &  NA                 &   NA                & 1512                & NA                  & US                  & 2183                & NA                  & LGA                 & DCA                 & NA                  &  214                & 14                  &  0                  & 2013-09-26 14:00:00\\\\\n",
       "\t 2013                & 9                   & 26                  &   NA                & 1240                &  NA                 &   NA                & 1525                & NA                  & WN                  & 4720                & N691WN              & EWR                 & HOU                 & NA                  & 1411                & 12                  & 40                  & 2013-09-26 12:00:00\\\\\n",
       "\t 2013                & 9                   & 27                  & 1332                & 1329                &   3                 & 1629                & 1509                & NA                  & AA                  &  331                & N565AA              & LGA                 & ORD                 & NA                  &  733                & 13                  & 29                  & 2013-09-27 13:00:00\\\\\n",
       "\t 2013                & 9                   & 27                  & 2253                & 1945                & 188                 &   NA                & 2146                & NA                  & EV                  & 5306                & N605QX              & LGA                 & GSO                 & NA                  &  461                & 19                  & 45                  & 2013-09-27 19:00:00\\\\\n",
       "\t 2013                & 9                   & 27                  &   NA                &  600                &  NA                 &   NA                &  730                & NA                  & AA                  &  301                & N584AA              & LGA                 & ORD                 & NA                  &  733                &  6                  &  0                  & 2013-09-27 06:00:00\\\\\n",
       "\t 2013                & 9                   & 27                  &   NA                & 2100                &  NA                 &   NA                & 2211                & NA                  & US                  & 2164                & NA                  & LGA                 & BOS                 & NA                  &  184                & 21                  &  0                  & 2013-09-27 21:00:00\\\\\n",
       "\t 2013                & 9                   & 27                  &   NA                & 1329                &  NA                 &   NA                & 1444                & NA                  & MQ                  & 3760                & N505MQ              & EWR                 & ORD                 & NA                  &  719                & 13                  & 29                  & 2013-09-27 13:00:00\\\\\n",
       "\t 2013                & 9                   & 27                  &   NA                & 1600                &  NA                 &   NA                & 1739                & NA                  & UA                  &  269                & NA                  & LGA                 & ORD                 & NA                  &  733                & 16                  &  0                  & 2013-09-27 16:00:00\\\\\n",
       "\t 2013                & 9                   & 28                  &  555                &  600                &  -5                 &  953                &  753                & NA                  & EV                  & 5068                & N133EV              & EWR                 & DTW                 & NA                  &  488                &  6                  &  0                  & 2013-09-28 06:00:00\\\\\n",
       "\t 2013                & 9                   & 28                  &  847                &  839                &   8                 & 1130                &  959                & NA                  & EV                  & 4510                & N14542              & EWR                 & MKE                 & NA                  &  725                &  8                  & 39                  & 2013-09-28 08:00:00\\\\\n",
       "\t 2013                & 9                   & 28                  & 1010                & 1020                & -10                 & 1344                & 1222                & NA                  & EV                  & 4412                & N12175              & EWR                 & DSM                 & NA                  & 1017                & 10                  & 20                  & 2013-09-28 10:00:00\\\\\n",
       "\t 2013                & 9                   & 28                  & 1214                & 1225                & -11                 & 1801                & 1510                & NA                  & AA                  &  300                & N488AA              & EWR                 & DFW                 & NA                  & 1372                & 12                  & 25                  & 2013-09-28 12:00:00\\\\\n",
       "\t 2013                & 9                   & 28                  &   NA                & 1803                &  NA                 &   NA                & 1927                & NA                  & EV                  & 5563                & N724EV              & LGA                 & BTV                 & NA                  &  258                & 18                  &  3                  & 2013-09-28 18:00:00\\\\\n",
       "\t 2013                & 9                   & 28                  &   NA                &  910                &  NA                 &   NA                & 1220                & NA                  & AA                  &    1                & N320AA              & JFK                 & LAX                 & NA                  & 2475                &  9                  & 10                  & 2013-09-28 09:00:00\\\\\n",
       "\t 2013                & 9                   & 28                  &   NA                & 1635                &  NA                 &   NA                & 1827                & NA                  & US                  &  581                & NA                  & EWR                 & CLT                 & NA                  &  529                & 16                  & 35                  & 2013-09-28 16:00:00\\\\\n",
       "\t 2013                & 9                   & 29                  & 1734                & 1711                &  23                 & 2159                & 2020                & NA                  & UA                  &  327                & N463UA              & EWR                 & PDX                 & NA                  & 2434                & 17                  & 11                  & 2013-09-29 17:00:00\\\\\n",
       "\t 2013                & 9                   & 29                  &   NA                & 2054                &  NA                 &   NA                & 2302                & NA                  & EV                  & 4536                & N13988              & EWR                 & CVG                 & NA                  &  569                & 20                  & 54                  & 2013-09-29 20:00:00\\\\\n",
       "\t 2013                & 9                   & 29                  &   NA                & 1830                &  NA                 &   NA                & 2010                & NA                  & MQ                  & 3134                & N508MQ              & EWR                 & ORD                 & NA                  &  719                & 18                  & 30                  & 2013-09-29 18:00:00\\\\\n",
       "\t 2013                & 9                   & 29                  &   NA                &  700                &  NA                 &   NA                &  833                & NA                  & UA                  &  331                & NA                  & LGA                 & ORD                 & NA                  &  733                &  7                  &  0                  & 2013-09-29 07:00:00\\\\\n",
       "\t 2013                & 9                   & 30                  &  559                &  600                &  -1                 &   NA                &  715                & NA                  & WN                  &  464                & N411WN              & EWR                 & MDW                 & NA                  &  711                &  6                  &  0                  & 2013-09-30 06:00:00\\\\\n",
       "\t 2013                & 9                   & 30                  &   NA                & 1842                &  NA                 &   NA                & 2019                & NA                  & EV                  & 5274                & N740EV              & LGA                 & BNA                 & NA                  &  764                & 18                  & 42                  & 2013-09-30 18:00:00\\\\\n",
       "\t 2013                & 9                   & 30                  &   NA                & 1455                &  NA                 &   NA                & 1634                & NA                  & 9E                  & 3393                & NA                  & JFK                 & DCA                 & NA                  &  213                & 14                  & 55                  & 2013-09-30 14:00:00\\\\\n",
       "\t 2013                & 9                   & 30                  &   NA                & 2200                &  NA                 &   NA                & 2312                & NA                  & 9E                  & 3525                & NA                  & LGA                 & SYR                 & NA                  &  198                & 22                  &  0                  & 2013-09-30 22:00:00\\\\\n",
       "\t 2013                & 9                   & 30                  &   NA                & 1210                &  NA                 &   NA                & 1330                & NA                  & MQ                  & 3461                & N535MQ              & LGA                 & BNA                 & NA                  &  764                & 12                  & 10                  & 2013-09-30 12:00:00\\\\\n",
       "\t 2013                & 9                   & 30                  &   NA                & 1159                &  NA                 &   NA                & 1344                & NA                  & MQ                  & 3572                & N511MQ              & LGA                 & CLE                 & NA                  &  419                & 11                  & 59                  & 2013-09-30 11:00:00\\\\\n",
       "\t 2013                & 9                   & 30                  &   NA                &  840                &  NA                 &   NA                & 1020                & NA                  & MQ                  & 3531                & N839MQ              & LGA                 & RDU                 & NA                  &  431                &  8                  & 40                  & 2013-09-30 08:00:00\\\\\n",
       "\\end{tabular}\n"
      ],
      "text/markdown": [
       "\n",
       "| year | month | day | dep_time | sched_dep_time | dep_delay | arr_time | sched_arr_time | arr_delay | carrier | flight | tailnum | origin | dest | air_time | distance | hour | minute | time_hour |\n",
       "|---|---|---|---|---|---|---|---|---|---|---|---|---|---|---|---|---|---|---|\n",
       "| 2013                | 1                   | 1                   | 1525                | 1530                |  -5                 | 1934                | 1805                | NA                  | MQ                  | 4525                | N719MQ              | LGA                 | XNA                 | NA                  | 1147                | 15                  | 30                  | 2013-01-01 15:00:00 |\n",
       "| 2013                | 1                   | 1                   | 1528                | 1459                |  29                 | 2002                | 1647                | NA                  | EV                  | 3806                | N17108              | EWR                 | STL                 | NA                  |  872                | 14                  | 59                  | 2013-01-01 14:00:00 |\n",
       "| 2013                | 1                   | 1                   | 1740                | 1745                |  -5                 | 2158                | 2020                | NA                  | MQ                  | 4413                | N739MQ              | LGA                 | XNA                 | NA                  | 1147                | 17                  | 45                  | 2013-01-01 17:00:00 |\n",
       "| 2013                | 1                   | 1                   | 1807                | 1738                |  29                 | 2251                | 2103                | NA                  | UA                  | 1228                | N31412              | EWR                 | SAN                 | NA                  | 2425                | 17                  | 38                  | 2013-01-01 17:00:00 |\n",
       "| 2013                | 1                   | 1                   | 1939                | 1840                |  59                 |   29                | 2151                | NA                  | 9E                  | 3325                | N905XJ              | JFK                 | DFW                 | NA                  | 1391                | 18                  | 40                  | 2013-01-01 18:00:00 |\n",
       "| 2013                | 1                   | 1                   | 1952                | 1930                |  22                 | 2358                | 2207                | NA                  | EV                  | 4333                | N11194              | EWR                 | TUL                 | NA                  | 1215                | 19                  | 30                  | 2013-01-01 19:00:00 |\n",
       "| 2013                | 1                   | 1                   | 2016                | 1930                |  46                 |   NA                | 2220                | NA                  | EV                  | 4204                | N14168              | EWR                 | OKC                 | NA                  | 1325                | 19                  | 30                  | 2013-01-01 19:00:00 |\n",
       "| 2013                | 1                   | 1                   |   NA                | 1630                |  NA                 |   NA                | 1815                | NA                  | EV                  | 4308                | N18120              | EWR                 | RDU                 | NA                  |  416                | 16                  | 30                  | 2013-01-01 16:00:00 |\n",
       "| 2013                | 1                   | 1                   |   NA                | 1935                |  NA                 |   NA                | 2240                | NA                  | AA                  |  791                | N3EHAA              | LGA                 | DFW                 | NA                  | 1389                | 19                  | 35                  | 2013-01-01 19:00:00 |\n",
       "| 2013                | 1                   | 1                   |   NA                | 1500                |  NA                 |   NA                | 1825                | NA                  | AA                  | 1925                | N3EVAA              | LGA                 | MIA                 | NA                  | 1096                | 15                  |  0                  | 2013-01-01 15:00:00 |\n",
       "| 2013                | 1                   | 1                   |   NA                |  600                |  NA                 |   NA                |  901                | NA                  | B6                  |  125                | N618JB              | JFK                 | FLL                 | NA                  | 1069                |  6                  |  0                  | 2013-01-01 06:00:00 |\n",
       "| 2013                | 1                   | 2                   |  905                |  822                |  43                 | 1313                | 1045                | NA                  | EV                  | 4140                | N15912              | EWR                 | XNA                 | NA                  | 1131                |  8                  | 22                  | 2013-01-02 08:00:00 |\n",
       "| 2013                | 1                   | 2                   | 1125                |  925                | 120                 | 1445                | 1146                | NA                  | 9E                  | 3658                | N8783E              | LGA                 | GRR                 | NA                  |  618                |  9                  | 25                  | 2013-01-02 09:00:00 |\n",
       "| 2013                | 1                   | 2                   | 1848                | 1840                |   8                 | 2333                | 2151                | NA                  | 9E                  | 3325                | N920XJ              | JFK                 | DFW                 | NA                  | 1391                | 18                  | 40                  | 2013-01-02 18:00:00 |\n",
       "| 2013                | 1                   | 2                   | 1849                | 1724                |  85                 | 2235                | 1938                | NA                  | EV                  | 4321                | N14998              | EWR                 | MCI                 | NA                  | 1092                | 17                  | 24                  | 2013-01-02 17:00:00 |\n",
       "| 2013                | 1                   | 2                   | 1927                | 1930                |  -3                 | 2359                | 2306                | NA                  | 9E                  | 3401                | N908XJ              | JFK                 | SAT                 | NA                  | 1587                | 19                  | 30                  | 2013-01-02 19:00:00 |\n",
       "| 2013                | 1                   | 2                   | 2041                | 2045                |  -4                 |   NA                | 2359                | NA                  | B6                  |  147                | N630JB              | JFK                 | RSW                 | NA                  | 1074                | 20                  | 45                  | 2013-01-02 20:00:00 |\n",
       "| 2013                | 1                   | 2                   | 2145                | 2129                |  16                 |   NA                |   33                | NA                  | UA                  | 1299                | N12221              | EWR                 | RSW                 | NA                  | 1068                | 21                  | 29                  | 2013-01-02 21:00:00 |\n",
       "| 2013                | 1                   | 2                   |   NA                | 1540                |  NA                 |   NA                | 1747                | NA                  | EV                  | 4352                | N10575              | EWR                 | CVG                 | NA                  |  569                | 15                  | 40                  | 2013-01-02 15:00:00 |\n",
       "| 2013                | 1                   | 2                   |   NA                | 1620                |  NA                 |   NA                | 1746                | NA                  | EV                  | 4406                | N13949              | EWR                 | PIT                 | NA                  |  319                | 16                  | 20                  | 2013-01-02 16:00:00 |\n",
       "| 2013                | 1                   | 2                   |   NA                | 1355                |  NA                 |   NA                | 1459                | NA                  | EV                  | 4434                | N10575              | EWR                 | MHT                 | NA                  |  209                | 13                  | 55                  | 2013-01-02 13:00:00 |\n",
       "| 2013                | 1                   | 2                   |   NA                | 1420                |  NA                 |   NA                | 1644                | NA                  | EV                  | 4935                | N759EV              | EWR                 | ATL                 | NA                  |  746                | 14                  | 20                  | 2013-01-02 14:00:00 |\n",
       "| 2013                | 1                   | 2                   |   NA                | 1321                |  NA                 |   NA                | 1536                | NA                  | EV                  | 3849                | N13550              | EWR                 | IND                 | NA                  |  645                | 13                  | 21                  | 2013-01-02 13:00:00 |\n",
       "| 2013                | 1                   | 2                   |   NA                | 1545                |  NA                 |   NA                | 1910                | NA                  | AA                  |  133                | NA                  | JFK                 | LAX                 | NA                  | 2475                | 15                  | 45                  | 2013-01-02 15:00:00 |\n",
       "| 2013                | 1                   | 2                   |   NA                | 1330                |  NA                 |   NA                | 1640                | NA                  | AA                  |  753                | N3FBAA              | LGA                 | DFW                 | NA                  | 1389                | 13                  | 30                  | 2013-01-02 13:00:00 |\n",
       "| 2013                | 1                   | 2                   |   NA                | 1601                |  NA                 |   NA                | 1735                | NA                  | UA                  |  623                | NA                  | EWR                 | ORD                 | NA                  |  719                | 16                  |  1                  | 2013-01-02 16:00:00 |\n",
       "| 2013                | 1                   | 3                   | 1025                | 1032                |  -7                 | 1521                | 1240                | NA                  | EV                  | 4255                | N34110              | EWR                 | CHS                 | NA                  |  628                | 10                  | 32                  | 2013-01-03 10:00:00 |\n",
       "| 2013                | 1                   | 3                   | 1348                | 1350                |  -2                 | 1821                | 1628                | NA                  | DL                  | 1705                | N324NB              | LGA                 | MSY                 | NA                  | 1183                | 13                  | 50                  | 2013-01-03 13:00:00 |\n",
       "| 2013                | 1                   | 3                   | 1904                | 1659                | 125                 | 2327                | 2046                | NA                  | 9E                  | 3375                | N916XJ              | JFK                 | SAT                 | NA                  | 1587                | 16                  | 59                  | 2013-01-03 16:00:00 |\n",
       "| 2013                | 1                   | 3                   | 1928                | 1928                |   0                 |   19                | 2129                | NA                  | EV                  | 4532                | N14171              | EWR                 | CHS                 | NA                  |  628                | 19                  | 28                  | 2013-01-03 19:00:00 |\n",
       "| ... | ... | ... | ... | ... | ... | ... | ... | ... | ... | ... | ... | ... | ... | ... | ... | ... | ... | ... |\n",
       "| 2013                | 9                   | 25                  |   NA                | 1655                |  NA                 |   NA                | 1840                | NA                  | MQ                  | 3411                | N735MQ              | LGA                 | RDU                 | NA                  |  431                | 16                  | 55                  | 2013-09-25 16:00:00 |\n",
       "| 2013                | 9                   | 25                  |   NA                | 1559                |  NA                 |   NA                | 1719                | NA                  | MQ                  | 3748                | N530MQ              | EWR                 | ORD                 | NA                  |  719                | 15                  | 59                  | 2013-09-25 15:00:00 |\n",
       "| 2013                | 9                   | 26                  | 1331                | 1329                |   2                 | 1923                | 1813                | NA                  | UA                  |   15                | N67052              | EWR                 | HNL                 | NA                  | 4963                | 13                  | 29                  | 2013-09-26 13:00:00 |\n",
       "| 2013                | 9                   | 26                  |   NA                |  915                |  NA                 |   NA                | 1141                | NA                  | EV                  | 5109                | N748EV              | LGA                 | CHS                 | NA                  |  641                |  9                  | 15                  | 2013-09-26 09:00:00 |\n",
       "| 2013                | 9                   | 26                  |   NA                | 1400                |  NA                 |   NA                | 1512                | NA                  | US                  | 2183                | NA                  | LGA                 | DCA                 | NA                  |  214                | 14                  |  0                  | 2013-09-26 14:00:00 |\n",
       "| 2013                | 9                   | 26                  |   NA                | 1240                |  NA                 |   NA                | 1525                | NA                  | WN                  | 4720                | N691WN              | EWR                 | HOU                 | NA                  | 1411                | 12                  | 40                  | 2013-09-26 12:00:00 |\n",
       "| 2013                | 9                   | 27                  | 1332                | 1329                |   3                 | 1629                | 1509                | NA                  | AA                  |  331                | N565AA              | LGA                 | ORD                 | NA                  |  733                | 13                  | 29                  | 2013-09-27 13:00:00 |\n",
       "| 2013                | 9                   | 27                  | 2253                | 1945                | 188                 |   NA                | 2146                | NA                  | EV                  | 5306                | N605QX              | LGA                 | GSO                 | NA                  |  461                | 19                  | 45                  | 2013-09-27 19:00:00 |\n",
       "| 2013                | 9                   | 27                  |   NA                |  600                |  NA                 |   NA                |  730                | NA                  | AA                  |  301                | N584AA              | LGA                 | ORD                 | NA                  |  733                |  6                  |  0                  | 2013-09-27 06:00:00 |\n",
       "| 2013                | 9                   | 27                  |   NA                | 2100                |  NA                 |   NA                | 2211                | NA                  | US                  | 2164                | NA                  | LGA                 | BOS                 | NA                  |  184                | 21                  |  0                  | 2013-09-27 21:00:00 |\n",
       "| 2013                | 9                   | 27                  |   NA                | 1329                |  NA                 |   NA                | 1444                | NA                  | MQ                  | 3760                | N505MQ              | EWR                 | ORD                 | NA                  |  719                | 13                  | 29                  | 2013-09-27 13:00:00 |\n",
       "| 2013                | 9                   | 27                  |   NA                | 1600                |  NA                 |   NA                | 1739                | NA                  | UA                  |  269                | NA                  | LGA                 | ORD                 | NA                  |  733                | 16                  |  0                  | 2013-09-27 16:00:00 |\n",
       "| 2013                | 9                   | 28                  |  555                |  600                |  -5                 |  953                |  753                | NA                  | EV                  | 5068                | N133EV              | EWR                 | DTW                 | NA                  |  488                |  6                  |  0                  | 2013-09-28 06:00:00 |\n",
       "| 2013                | 9                   | 28                  |  847                |  839                |   8                 | 1130                |  959                | NA                  | EV                  | 4510                | N14542              | EWR                 | MKE                 | NA                  |  725                |  8                  | 39                  | 2013-09-28 08:00:00 |\n",
       "| 2013                | 9                   | 28                  | 1010                | 1020                | -10                 | 1344                | 1222                | NA                  | EV                  | 4412                | N12175              | EWR                 | DSM                 | NA                  | 1017                | 10                  | 20                  | 2013-09-28 10:00:00 |\n",
       "| 2013                | 9                   | 28                  | 1214                | 1225                | -11                 | 1801                | 1510                | NA                  | AA                  |  300                | N488AA              | EWR                 | DFW                 | NA                  | 1372                | 12                  | 25                  | 2013-09-28 12:00:00 |\n",
       "| 2013                | 9                   | 28                  |   NA                | 1803                |  NA                 |   NA                | 1927                | NA                  | EV                  | 5563                | N724EV              | LGA                 | BTV                 | NA                  |  258                | 18                  |  3                  | 2013-09-28 18:00:00 |\n",
       "| 2013                | 9                   | 28                  |   NA                |  910                |  NA                 |   NA                | 1220                | NA                  | AA                  |    1                | N320AA              | JFK                 | LAX                 | NA                  | 2475                |  9                  | 10                  | 2013-09-28 09:00:00 |\n",
       "| 2013                | 9                   | 28                  |   NA                | 1635                |  NA                 |   NA                | 1827                | NA                  | US                  |  581                | NA                  | EWR                 | CLT                 | NA                  |  529                | 16                  | 35                  | 2013-09-28 16:00:00 |\n",
       "| 2013                | 9                   | 29                  | 1734                | 1711                |  23                 | 2159                | 2020                | NA                  | UA                  |  327                | N463UA              | EWR                 | PDX                 | NA                  | 2434                | 17                  | 11                  | 2013-09-29 17:00:00 |\n",
       "| 2013                | 9                   | 29                  |   NA                | 2054                |  NA                 |   NA                | 2302                | NA                  | EV                  | 4536                | N13988              | EWR                 | CVG                 | NA                  |  569                | 20                  | 54                  | 2013-09-29 20:00:00 |\n",
       "| 2013                | 9                   | 29                  |   NA                | 1830                |  NA                 |   NA                | 2010                | NA                  | MQ                  | 3134                | N508MQ              | EWR                 | ORD                 | NA                  |  719                | 18                  | 30                  | 2013-09-29 18:00:00 |\n",
       "| 2013                | 9                   | 29                  |   NA                |  700                |  NA                 |   NA                |  833                | NA                  | UA                  |  331                | NA                  | LGA                 | ORD                 | NA                  |  733                |  7                  |  0                  | 2013-09-29 07:00:00 |\n",
       "| 2013                | 9                   | 30                  |  559                |  600                |  -1                 |   NA                |  715                | NA                  | WN                  |  464                | N411WN              | EWR                 | MDW                 | NA                  |  711                |  6                  |  0                  | 2013-09-30 06:00:00 |\n",
       "| 2013                | 9                   | 30                  |   NA                | 1842                |  NA                 |   NA                | 2019                | NA                  | EV                  | 5274                | N740EV              | LGA                 | BNA                 | NA                  |  764                | 18                  | 42                  | 2013-09-30 18:00:00 |\n",
       "| 2013                | 9                   | 30                  |   NA                | 1455                |  NA                 |   NA                | 1634                | NA                  | 9E                  | 3393                | NA                  | JFK                 | DCA                 | NA                  |  213                | 14                  | 55                  | 2013-09-30 14:00:00 |\n",
       "| 2013                | 9                   | 30                  |   NA                | 2200                |  NA                 |   NA                | 2312                | NA                  | 9E                  | 3525                | NA                  | LGA                 | SYR                 | NA                  |  198                | 22                  |  0                  | 2013-09-30 22:00:00 |\n",
       "| 2013                | 9                   | 30                  |   NA                | 1210                |  NA                 |   NA                | 1330                | NA                  | MQ                  | 3461                | N535MQ              | LGA                 | BNA                 | NA                  |  764                | 12                  | 10                  | 2013-09-30 12:00:00 |\n",
       "| 2013                | 9                   | 30                  |   NA                | 1159                |  NA                 |   NA                | 1344                | NA                  | MQ                  | 3572                | N511MQ              | LGA                 | CLE                 | NA                  |  419                | 11                  | 59                  | 2013-09-30 11:00:00 |\n",
       "| 2013                | 9                   | 30                  |   NA                |  840                |  NA                 |   NA                | 1020                | NA                  | MQ                  | 3531                | N839MQ              | LGA                 | RDU                 | NA                  |  431                |  8                  | 40                  | 2013-09-30 08:00:00 |\n",
       "\n"
      ],
      "text/plain": [
       "     year month day dep_time sched_dep_time dep_delay arr_time sched_arr_time\n",
       "1    2013 1     1   1525     1530            -5       1934     1805          \n",
       "2    2013 1     1   1528     1459            29       2002     1647          \n",
       "3    2013 1     1   1740     1745            -5       2158     2020          \n",
       "4    2013 1     1   1807     1738            29       2251     2103          \n",
       "5    2013 1     1   1939     1840            59         29     2151          \n",
       "6    2013 1     1   1952     1930            22       2358     2207          \n",
       "7    2013 1     1   2016     1930            46         NA     2220          \n",
       "8    2013 1     1     NA     1630            NA         NA     1815          \n",
       "9    2013 1     1     NA     1935            NA         NA     2240          \n",
       "10   2013 1     1     NA     1500            NA         NA     1825          \n",
       "11   2013 1     1     NA      600            NA         NA      901          \n",
       "12   2013 1     2    905      822            43       1313     1045          \n",
       "13   2013 1     2   1125      925           120       1445     1146          \n",
       "14   2013 1     2   1848     1840             8       2333     2151          \n",
       "15   2013 1     2   1849     1724            85       2235     1938          \n",
       "16   2013 1     2   1927     1930            -3       2359     2306          \n",
       "17   2013 1     2   2041     2045            -4         NA     2359          \n",
       "18   2013 1     2   2145     2129            16         NA       33          \n",
       "19   2013 1     2     NA     1540            NA         NA     1747          \n",
       "20   2013 1     2     NA     1620            NA         NA     1746          \n",
       "21   2013 1     2     NA     1355            NA         NA     1459          \n",
       "22   2013 1     2     NA     1420            NA         NA     1644          \n",
       "23   2013 1     2     NA     1321            NA         NA     1536          \n",
       "24   2013 1     2     NA     1545            NA         NA     1910          \n",
       "25   2013 1     2     NA     1330            NA         NA     1640          \n",
       "26   2013 1     2     NA     1601            NA         NA     1735          \n",
       "27   2013 1     3   1025     1032            -7       1521     1240          \n",
       "28   2013 1     3   1348     1350            -2       1821     1628          \n",
       "29   2013 1     3   1904     1659           125       2327     2046          \n",
       "30   2013 1     3   1928     1928             0         19     2129          \n",
       "...  ...  ...   ... ...      ...            ...       ...      ...           \n",
       "9401 2013 9     25    NA     1655            NA         NA     1840          \n",
       "9402 2013 9     25    NA     1559            NA         NA     1719          \n",
       "9403 2013 9     26  1331     1329             2       1923     1813          \n",
       "9404 2013 9     26    NA      915            NA         NA     1141          \n",
       "9405 2013 9     26    NA     1400            NA         NA     1512          \n",
       "9406 2013 9     26    NA     1240            NA         NA     1525          \n",
       "9407 2013 9     27  1332     1329             3       1629     1509          \n",
       "9408 2013 9     27  2253     1945           188         NA     2146          \n",
       "9409 2013 9     27    NA      600            NA         NA      730          \n",
       "9410 2013 9     27    NA     2100            NA         NA     2211          \n",
       "9411 2013 9     27    NA     1329            NA         NA     1444          \n",
       "9412 2013 9     27    NA     1600            NA         NA     1739          \n",
       "9413 2013 9     28   555      600            -5        953      753          \n",
       "9414 2013 9     28   847      839             8       1130      959          \n",
       "9415 2013 9     28  1010     1020           -10       1344     1222          \n",
       "9416 2013 9     28  1214     1225           -11       1801     1510          \n",
       "9417 2013 9     28    NA     1803            NA         NA     1927          \n",
       "9418 2013 9     28    NA      910            NA         NA     1220          \n",
       "9419 2013 9     28    NA     1635            NA         NA     1827          \n",
       "9420 2013 9     29  1734     1711            23       2159     2020          \n",
       "9421 2013 9     29    NA     2054            NA         NA     2302          \n",
       "9422 2013 9     29    NA     1830            NA         NA     2010          \n",
       "9423 2013 9     29    NA      700            NA         NA      833          \n",
       "9424 2013 9     30   559      600            -1         NA      715          \n",
       "9425 2013 9     30    NA     1842            NA         NA     2019          \n",
       "9426 2013 9     30    NA     1455            NA         NA     1634          \n",
       "9427 2013 9     30    NA     2200            NA         NA     2312          \n",
       "9428 2013 9     30    NA     1210            NA         NA     1330          \n",
       "9429 2013 9     30    NA     1159            NA         NA     1344          \n",
       "9430 2013 9     30    NA      840            NA         NA     1020          \n",
       "     arr_delay carrier flight tailnum origin dest air_time distance hour minute\n",
       "1    NA        MQ      4525   N719MQ  LGA    XNA  NA       1147     15   30    \n",
       "2    NA        EV      3806   N17108  EWR    STL  NA        872     14   59    \n",
       "3    NA        MQ      4413   N739MQ  LGA    XNA  NA       1147     17   45    \n",
       "4    NA        UA      1228   N31412  EWR    SAN  NA       2425     17   38    \n",
       "5    NA        9E      3325   N905XJ  JFK    DFW  NA       1391     18   40    \n",
       "6    NA        EV      4333   N11194  EWR    TUL  NA       1215     19   30    \n",
       "7    NA        EV      4204   N14168  EWR    OKC  NA       1325     19   30    \n",
       "8    NA        EV      4308   N18120  EWR    RDU  NA        416     16   30    \n",
       "9    NA        AA       791   N3EHAA  LGA    DFW  NA       1389     19   35    \n",
       "10   NA        AA      1925   N3EVAA  LGA    MIA  NA       1096     15    0    \n",
       "11   NA        B6       125   N618JB  JFK    FLL  NA       1069      6    0    \n",
       "12   NA        EV      4140   N15912  EWR    XNA  NA       1131      8   22    \n",
       "13   NA        9E      3658   N8783E  LGA    GRR  NA        618      9   25    \n",
       "14   NA        9E      3325   N920XJ  JFK    DFW  NA       1391     18   40    \n",
       "15   NA        EV      4321   N14998  EWR    MCI  NA       1092     17   24    \n",
       "16   NA        9E      3401   N908XJ  JFK    SAT  NA       1587     19   30    \n",
       "17   NA        B6       147   N630JB  JFK    RSW  NA       1074     20   45    \n",
       "18   NA        UA      1299   N12221  EWR    RSW  NA       1068     21   29    \n",
       "19   NA        EV      4352   N10575  EWR    CVG  NA        569     15   40    \n",
       "20   NA        EV      4406   N13949  EWR    PIT  NA        319     16   20    \n",
       "21   NA        EV      4434   N10575  EWR    MHT  NA        209     13   55    \n",
       "22   NA        EV      4935   N759EV  EWR    ATL  NA        746     14   20    \n",
       "23   NA        EV      3849   N13550  EWR    IND  NA        645     13   21    \n",
       "24   NA        AA       133   NA      JFK    LAX  NA       2475     15   45    \n",
       "25   NA        AA       753   N3FBAA  LGA    DFW  NA       1389     13   30    \n",
       "26   NA        UA       623   NA      EWR    ORD  NA        719     16    1    \n",
       "27   NA        EV      4255   N34110  EWR    CHS  NA        628     10   32    \n",
       "28   NA        DL      1705   N324NB  LGA    MSY  NA       1183     13   50    \n",
       "29   NA        9E      3375   N916XJ  JFK    SAT  NA       1587     16   59    \n",
       "30   NA        EV      4532   N14171  EWR    CHS  NA        628     19   28    \n",
       "...  ...       ...     ...    ...     ...    ...  ...      ...      ...  ...   \n",
       "9401 NA        MQ      3411   N735MQ  LGA    RDU  NA        431     16   55    \n",
       "9402 NA        MQ      3748   N530MQ  EWR    ORD  NA        719     15   59    \n",
       "9403 NA        UA        15   N67052  EWR    HNL  NA       4963     13   29    \n",
       "9404 NA        EV      5109   N748EV  LGA    CHS  NA        641      9   15    \n",
       "9405 NA        US      2183   NA      LGA    DCA  NA        214     14    0    \n",
       "9406 NA        WN      4720   N691WN  EWR    HOU  NA       1411     12   40    \n",
       "9407 NA        AA       331   N565AA  LGA    ORD  NA        733     13   29    \n",
       "9408 NA        EV      5306   N605QX  LGA    GSO  NA        461     19   45    \n",
       "9409 NA        AA       301   N584AA  LGA    ORD  NA        733      6    0    \n",
       "9410 NA        US      2164   NA      LGA    BOS  NA        184     21    0    \n",
       "9411 NA        MQ      3760   N505MQ  EWR    ORD  NA        719     13   29    \n",
       "9412 NA        UA       269   NA      LGA    ORD  NA        733     16    0    \n",
       "9413 NA        EV      5068   N133EV  EWR    DTW  NA        488      6    0    \n",
       "9414 NA        EV      4510   N14542  EWR    MKE  NA        725      8   39    \n",
       "9415 NA        EV      4412   N12175  EWR    DSM  NA       1017     10   20    \n",
       "9416 NA        AA       300   N488AA  EWR    DFW  NA       1372     12   25    \n",
       "9417 NA        EV      5563   N724EV  LGA    BTV  NA        258     18    3    \n",
       "9418 NA        AA         1   N320AA  JFK    LAX  NA       2475      9   10    \n",
       "9419 NA        US       581   NA      EWR    CLT  NA        529     16   35    \n",
       "9420 NA        UA       327   N463UA  EWR    PDX  NA       2434     17   11    \n",
       "9421 NA        EV      4536   N13988  EWR    CVG  NA        569     20   54    \n",
       "9422 NA        MQ      3134   N508MQ  EWR    ORD  NA        719     18   30    \n",
       "9423 NA        UA       331   NA      LGA    ORD  NA        733      7    0    \n",
       "9424 NA        WN       464   N411WN  EWR    MDW  NA        711      6    0    \n",
       "9425 NA        EV      5274   N740EV  LGA    BNA  NA        764     18   42    \n",
       "9426 NA        9E      3393   NA      JFK    DCA  NA        213     14   55    \n",
       "9427 NA        9E      3525   NA      LGA    SYR  NA        198     22    0    \n",
       "9428 NA        MQ      3461   N535MQ  LGA    BNA  NA        764     12   10    \n",
       "9429 NA        MQ      3572   N511MQ  LGA    CLE  NA        419     11   59    \n",
       "9430 NA        MQ      3531   N839MQ  LGA    RDU  NA        431      8   40    \n",
       "     time_hour          \n",
       "1    2013-01-01 15:00:00\n",
       "2    2013-01-01 14:00:00\n",
       "3    2013-01-01 17:00:00\n",
       "4    2013-01-01 17:00:00\n",
       "5    2013-01-01 18:00:00\n",
       "6    2013-01-01 19:00:00\n",
       "7    2013-01-01 19:00:00\n",
       "8    2013-01-01 16:00:00\n",
       "9    2013-01-01 19:00:00\n",
       "10   2013-01-01 15:00:00\n",
       "11   2013-01-01 06:00:00\n",
       "12   2013-01-02 08:00:00\n",
       "13   2013-01-02 09:00:00\n",
       "14   2013-01-02 18:00:00\n",
       "15   2013-01-02 17:00:00\n",
       "16   2013-01-02 19:00:00\n",
       "17   2013-01-02 20:00:00\n",
       "18   2013-01-02 21:00:00\n",
       "19   2013-01-02 15:00:00\n",
       "20   2013-01-02 16:00:00\n",
       "21   2013-01-02 13:00:00\n",
       "22   2013-01-02 14:00:00\n",
       "23   2013-01-02 13:00:00\n",
       "24   2013-01-02 15:00:00\n",
       "25   2013-01-02 13:00:00\n",
       "26   2013-01-02 16:00:00\n",
       "27   2013-01-03 10:00:00\n",
       "28   2013-01-03 13:00:00\n",
       "29   2013-01-03 16:00:00\n",
       "30   2013-01-03 19:00:00\n",
       "...  ...                \n",
       "9401 2013-09-25 16:00:00\n",
       "9402 2013-09-25 15:00:00\n",
       "9403 2013-09-26 13:00:00\n",
       "9404 2013-09-26 09:00:00\n",
       "9405 2013-09-26 14:00:00\n",
       "9406 2013-09-26 12:00:00\n",
       "9407 2013-09-27 13:00:00\n",
       "9408 2013-09-27 19:00:00\n",
       "9409 2013-09-27 06:00:00\n",
       "9410 2013-09-27 21:00:00\n",
       "9411 2013-09-27 13:00:00\n",
       "9412 2013-09-27 16:00:00\n",
       "9413 2013-09-28 06:00:00\n",
       "9414 2013-09-28 08:00:00\n",
       "9415 2013-09-28 10:00:00\n",
       "9416 2013-09-28 12:00:00\n",
       "9417 2013-09-28 18:00:00\n",
       "9418 2013-09-28 09:00:00\n",
       "9419 2013-09-28 16:00:00\n",
       "9420 2013-09-29 17:00:00\n",
       "9421 2013-09-29 20:00:00\n",
       "9422 2013-09-29 18:00:00\n",
       "9423 2013-09-29 07:00:00\n",
       "9424 2013-09-30 06:00:00\n",
       "9425 2013-09-30 18:00:00\n",
       "9426 2013-09-30 14:00:00\n",
       "9427 2013-09-30 22:00:00\n",
       "9428 2013-09-30 12:00:00\n",
       "9429 2013-09-30 11:00:00\n",
       "9430 2013-09-30 08:00:00"
      ]
     },
     "metadata": {},
     "output_type": "display_data"
    }
   ],
   "source": [
    "air_time_na"
   ]
  },
  {
   "cell_type": "code",
   "execution_count": 16,
   "metadata": {},
   "outputs": [
    {
     "data": {
      "text/html": [
       "<table>\n",
       "<thead><tr><th scope=col>n</th></tr></thead>\n",
       "<tbody>\n",
       "\t<tr><td>9430</td></tr>\n",
       "</tbody>\n",
       "</table>\n"
      ],
      "text/latex": [
       "\\begin{tabular}{r|l}\n",
       " n\\\\\n",
       "\\hline\n",
       "\t 9430\\\\\n",
       "\\end{tabular}\n"
      ],
      "text/markdown": [
       "\n",
       "| n |\n",
       "|---|\n",
       "| 9430 |\n",
       "\n"
      ],
      "text/plain": [
       "  n   \n",
       "1 9430"
      ]
     },
     "metadata": {},
     "output_type": "display_data"
    }
   ],
   "source": [
    "count(air_time_na)"
   ]
  },
  {
   "cell_type": "markdown",
   "metadata": {},
   "source": [
    "#### retard au départ"
   ]
  },
  {
   "cell_type": "code",
   "execution_count": 17,
   "metadata": {},
   "outputs": [],
   "source": [
    "dep_delay_na <- filter(flights, is.na(flights$dep_delay) == TRUE)"
   ]
  },
  {
   "cell_type": "code",
   "execution_count": 18,
   "metadata": {},
   "outputs": [
    {
     "data": {
      "text/html": [
       "<table>\n",
       "<thead><tr><th scope=col>n</th></tr></thead>\n",
       "<tbody>\n",
       "\t<tr><td>8255</td></tr>\n",
       "</tbody>\n",
       "</table>\n"
      ],
      "text/latex": [
       "\\begin{tabular}{r|l}\n",
       " n\\\\\n",
       "\\hline\n",
       "\t 8255\\\\\n",
       "\\end{tabular}\n"
      ],
      "text/markdown": [
       "\n",
       "| n |\n",
       "|---|\n",
       "| 8255 |\n",
       "\n"
      ],
      "text/plain": [
       "  n   \n",
       "1 8255"
      ]
     },
     "metadata": {},
     "output_type": "display_data"
    }
   ],
   "source": [
    "count(dep_delay_na)"
   ]
  },
  {
   "cell_type": "markdown",
   "metadata": {},
   "source": [
    "#### retard à l’arrivée"
   ]
  },
  {
   "cell_type": "code",
   "execution_count": 19,
   "metadata": {},
   "outputs": [],
   "source": [
    "arr_delay_na <- filter(flights, is.na(flights$arr_delay) == TRUE)"
   ]
  },
  {
   "cell_type": "code",
   "execution_count": 20,
   "metadata": {},
   "outputs": [
    {
     "data": {
      "text/html": [
       "<table>\n",
       "<thead><tr><th scope=col>n</th></tr></thead>\n",
       "<tbody>\n",
       "\t<tr><td>9430</td></tr>\n",
       "</tbody>\n",
       "</table>\n"
      ],
      "text/latex": [
       "\\begin{tabular}{r|l}\n",
       " n\\\\\n",
       "\\hline\n",
       "\t 9430\\\\\n",
       "\\end{tabular}\n"
      ],
      "text/markdown": [
       "\n",
       "| n |\n",
       "|---|\n",
       "| 9430 |\n",
       "\n"
      ],
      "text/plain": [
       "  n   \n",
       "1 9430"
      ]
     },
     "metadata": {},
     "output_type": "display_data"
    }
   ],
   "source": [
    "count(arr_delay_na)"
   ]
  },
  {
   "cell_type": "markdown",
   "metadata": {},
   "source": [
    "Dataframe"
   ]
  },
  {
   "cell_type": "code",
   "execution_count": 21,
   "metadata": {},
   "outputs": [],
   "source": [
    "fl_na <- rbind(distance_na, air_time_na, dep_delay_na, arr_delay_na)"
   ]
  },
  {
   "cell_type": "code",
   "execution_count": 22,
   "metadata": {},
   "outputs": [
    {
     "data": {
      "text/html": [
       "<table>\n",
       "<thead><tr><th scope=col>n</th></tr></thead>\n",
       "<tbody>\n",
       "\t<tr><td>27115</td></tr>\n",
       "</tbody>\n",
       "</table>\n"
      ],
      "text/latex": [
       "\\begin{tabular}{r|l}\n",
       " n\\\\\n",
       "\\hline\n",
       "\t 27115\\\\\n",
       "\\end{tabular}\n"
      ],
      "text/markdown": [
       "\n",
       "| n |\n",
       "|---|\n",
       "| 27115 |\n",
       "\n"
      ],
      "text/plain": [
       "  n    \n",
       "1 27115"
      ]
     },
     "metadata": {},
     "output_type": "display_data"
    }
   ],
   "source": [
    "count(fl_na)"
   ]
  },
  {
   "cell_type": "code",
   "execution_count": 23,
   "metadata": {},
   "outputs": [],
   "source": [
    "fl_na <- unique(fl_na)"
   ]
  },
  {
   "cell_type": "code",
   "execution_count": 24,
   "metadata": {},
   "outputs": [
    {
     "data": {
      "text/html": [
       "<table>\n",
       "<thead><tr><th scope=col>n</th></tr></thead>\n",
       "<tbody>\n",
       "\t<tr><td>9430</td></tr>\n",
       "</tbody>\n",
       "</table>\n"
      ],
      "text/latex": [
       "\\begin{tabular}{r|l}\n",
       " n\\\\\n",
       "\\hline\n",
       "\t 9430\\\\\n",
       "\\end{tabular}\n"
      ],
      "text/markdown": [
       "\n",
       "| n |\n",
       "|---|\n",
       "| 9430 |\n",
       "\n"
      ],
      "text/plain": [
       "  n   \n",
       "1 9430"
      ]
     },
     "metadata": {},
     "output_type": "display_data"
    }
   ],
   "source": [
    "count(fl_na)"
   ]
  },
  {
   "cell_type": "code",
   "execution_count": 25,
   "metadata": {},
   "outputs": [
    {
     "data": {
      "text/html": [
       "<table>\n",
       "<thead><tr><th scope=col>year</th><th scope=col>month</th><th scope=col>day</th><th scope=col>dep_time</th><th scope=col>sched_dep_time</th><th scope=col>dep_delay</th><th scope=col>arr_time</th><th scope=col>sched_arr_time</th><th scope=col>arr_delay</th><th scope=col>carrier</th><th scope=col>flight</th><th scope=col>tailnum</th><th scope=col>origin</th><th scope=col>dest</th><th scope=col>air_time</th><th scope=col>distance</th><th scope=col>hour</th><th scope=col>minute</th><th scope=col>time_hour</th></tr></thead>\n",
       "<tbody>\n",
       "\t<tr><td>2013               </td><td>1                  </td><td>1                  </td><td>1525               </td><td>1530               </td><td>-5                 </td><td>1934               </td><td>1805               </td><td>NA                 </td><td>MQ                 </td><td>4525               </td><td>N719MQ             </td><td>LGA                </td><td>XNA                </td><td>NA                 </td><td>1147               </td><td>15                 </td><td>30                 </td><td>2013-01-01 15:00:00</td></tr>\n",
       "\t<tr><td>2013               </td><td>1                  </td><td>1                  </td><td>1528               </td><td>1459               </td><td>29                 </td><td>2002               </td><td>1647               </td><td>NA                 </td><td>EV                 </td><td>3806               </td><td>N17108             </td><td>EWR                </td><td>STL                </td><td>NA                 </td><td> 872               </td><td>14                 </td><td>59                 </td><td>2013-01-01 14:00:00</td></tr>\n",
       "\t<tr><td>2013               </td><td>1                  </td><td>1                  </td><td>1740               </td><td>1745               </td><td>-5                 </td><td>2158               </td><td>2020               </td><td>NA                 </td><td>MQ                 </td><td>4413               </td><td>N739MQ             </td><td>LGA                </td><td>XNA                </td><td>NA                 </td><td>1147               </td><td>17                 </td><td>45                 </td><td>2013-01-01 17:00:00</td></tr>\n",
       "\t<tr><td>2013               </td><td>1                  </td><td>1                  </td><td>1807               </td><td>1738               </td><td>29                 </td><td>2251               </td><td>2103               </td><td>NA                 </td><td>UA                 </td><td>1228               </td><td>N31412             </td><td>EWR                </td><td>SAN                </td><td>NA                 </td><td>2425               </td><td>17                 </td><td>38                 </td><td>2013-01-01 17:00:00</td></tr>\n",
       "\t<tr><td>2013               </td><td>1                  </td><td>1                  </td><td>1939               </td><td>1840               </td><td>59                 </td><td>  29               </td><td>2151               </td><td>NA                 </td><td>9E                 </td><td>3325               </td><td>N905XJ             </td><td>JFK                </td><td>DFW                </td><td>NA                 </td><td>1391               </td><td>18                 </td><td>40                 </td><td>2013-01-01 18:00:00</td></tr>\n",
       "\t<tr><td>2013               </td><td>1                  </td><td>1                  </td><td>1952               </td><td>1930               </td><td>22                 </td><td>2358               </td><td>2207               </td><td>NA                 </td><td>EV                 </td><td>4333               </td><td>N11194             </td><td>EWR                </td><td>TUL                </td><td>NA                 </td><td>1215               </td><td>19                 </td><td>30                 </td><td>2013-01-01 19:00:00</td></tr>\n",
       "</tbody>\n",
       "</table>\n"
      ],
      "text/latex": [
       "\\begin{tabular}{r|lllllllllllllllllll}\n",
       " year & month & day & dep\\_time & sched\\_dep\\_time & dep\\_delay & arr\\_time & sched\\_arr\\_time & arr\\_delay & carrier & flight & tailnum & origin & dest & air\\_time & distance & hour & minute & time\\_hour\\\\\n",
       "\\hline\n",
       "\t 2013                & 1                   & 1                   & 1525                & 1530                & -5                  & 1934                & 1805                & NA                  & MQ                  & 4525                & N719MQ              & LGA                 & XNA                 & NA                  & 1147                & 15                  & 30                  & 2013-01-01 15:00:00\\\\\n",
       "\t 2013                & 1                   & 1                   & 1528                & 1459                & 29                  & 2002                & 1647                & NA                  & EV                  & 3806                & N17108              & EWR                 & STL                 & NA                  &  872                & 14                  & 59                  & 2013-01-01 14:00:00\\\\\n",
       "\t 2013                & 1                   & 1                   & 1740                & 1745                & -5                  & 2158                & 2020                & NA                  & MQ                  & 4413                & N739MQ              & LGA                 & XNA                 & NA                  & 1147                & 17                  & 45                  & 2013-01-01 17:00:00\\\\\n",
       "\t 2013                & 1                   & 1                   & 1807                & 1738                & 29                  & 2251                & 2103                & NA                  & UA                  & 1228                & N31412              & EWR                 & SAN                 & NA                  & 2425                & 17                  & 38                  & 2013-01-01 17:00:00\\\\\n",
       "\t 2013                & 1                   & 1                   & 1939                & 1840                & 59                  &   29                & 2151                & NA                  & 9E                  & 3325                & N905XJ              & JFK                 & DFW                 & NA                  & 1391                & 18                  & 40                  & 2013-01-01 18:00:00\\\\\n",
       "\t 2013                & 1                   & 1                   & 1952                & 1930                & 22                  & 2358                & 2207                & NA                  & EV                  & 4333                & N11194              & EWR                 & TUL                 & NA                  & 1215                & 19                  & 30                  & 2013-01-01 19:00:00\\\\\n",
       "\\end{tabular}\n"
      ],
      "text/markdown": [
       "\n",
       "| year | month | day | dep_time | sched_dep_time | dep_delay | arr_time | sched_arr_time | arr_delay | carrier | flight | tailnum | origin | dest | air_time | distance | hour | minute | time_hour |\n",
       "|---|---|---|---|---|---|---|---|---|---|---|---|---|---|---|---|---|---|---|\n",
       "| 2013                | 1                   | 1                   | 1525                | 1530                | -5                  | 1934                | 1805                | NA                  | MQ                  | 4525                | N719MQ              | LGA                 | XNA                 | NA                  | 1147                | 15                  | 30                  | 2013-01-01 15:00:00 |\n",
       "| 2013                | 1                   | 1                   | 1528                | 1459                | 29                  | 2002                | 1647                | NA                  | EV                  | 3806                | N17108              | EWR                 | STL                 | NA                  |  872                | 14                  | 59                  | 2013-01-01 14:00:00 |\n",
       "| 2013                | 1                   | 1                   | 1740                | 1745                | -5                  | 2158                | 2020                | NA                  | MQ                  | 4413                | N739MQ              | LGA                 | XNA                 | NA                  | 1147                | 17                  | 45                  | 2013-01-01 17:00:00 |\n",
       "| 2013                | 1                   | 1                   | 1807                | 1738                | 29                  | 2251                | 2103                | NA                  | UA                  | 1228                | N31412              | EWR                 | SAN                 | NA                  | 2425                | 17                  | 38                  | 2013-01-01 17:00:00 |\n",
       "| 2013                | 1                   | 1                   | 1939                | 1840                | 59                  |   29                | 2151                | NA                  | 9E                  | 3325                | N905XJ              | JFK                 | DFW                 | NA                  | 1391                | 18                  | 40                  | 2013-01-01 18:00:00 |\n",
       "| 2013                | 1                   | 1                   | 1952                | 1930                | 22                  | 2358                | 2207                | NA                  | EV                  | 4333                | N11194              | EWR                 | TUL                 | NA                  | 1215                | 19                  | 30                  | 2013-01-01 19:00:00 |\n",
       "\n"
      ],
      "text/plain": [
       "  year month day dep_time sched_dep_time dep_delay arr_time sched_arr_time\n",
       "1 2013 1     1   1525     1530           -5        1934     1805          \n",
       "2 2013 1     1   1528     1459           29        2002     1647          \n",
       "3 2013 1     1   1740     1745           -5        2158     2020          \n",
       "4 2013 1     1   1807     1738           29        2251     2103          \n",
       "5 2013 1     1   1939     1840           59          29     2151          \n",
       "6 2013 1     1   1952     1930           22        2358     2207          \n",
       "  arr_delay carrier flight tailnum origin dest air_time distance hour minute\n",
       "1 NA        MQ      4525   N719MQ  LGA    XNA  NA       1147     15   30    \n",
       "2 NA        EV      3806   N17108  EWR    STL  NA        872     14   59    \n",
       "3 NA        MQ      4413   N739MQ  LGA    XNA  NA       1147     17   45    \n",
       "4 NA        UA      1228   N31412  EWR    SAN  NA       2425     17   38    \n",
       "5 NA        9E      3325   N905XJ  JFK    DFW  NA       1391     18   40    \n",
       "6 NA        EV      4333   N11194  EWR    TUL  NA       1215     19   30    \n",
       "  time_hour          \n",
       "1 2013-01-01 15:00:00\n",
       "2 2013-01-01 14:00:00\n",
       "3 2013-01-01 17:00:00\n",
       "4 2013-01-01 17:00:00\n",
       "5 2013-01-01 18:00:00\n",
       "6 2013-01-01 19:00:00"
      ]
     },
     "metadata": {},
     "output_type": "display_data"
    }
   ],
   "source": [
    "head(fl_na)"
   ]
  },
  {
   "cell_type": "code",
   "execution_count": 26,
   "metadata": {},
   "outputs": [
    {
     "data": {
      "text/html": [
       "<dl class=dl-horizontal>\n",
       "\t<dt>year</dt>\n",
       "\t\t<dd>0</dd>\n",
       "\t<dt>month</dt>\n",
       "\t\t<dd>0</dd>\n",
       "\t<dt>day</dt>\n",
       "\t\t<dd>0</dd>\n",
       "\t<dt>dep_time</dt>\n",
       "\t\t<dd>8255</dd>\n",
       "\t<dt>sched_dep_time</dt>\n",
       "\t\t<dd>0</dd>\n",
       "\t<dt>dep_delay</dt>\n",
       "\t\t<dd>8255</dd>\n",
       "\t<dt>arr_time</dt>\n",
       "\t\t<dd>8713</dd>\n",
       "\t<dt>sched_arr_time</dt>\n",
       "\t\t<dd>0</dd>\n",
       "\t<dt>arr_delay</dt>\n",
       "\t\t<dd>9430</dd>\n",
       "\t<dt>carrier</dt>\n",
       "\t\t<dd>0</dd>\n",
       "\t<dt>flight</dt>\n",
       "\t\t<dd>0</dd>\n",
       "\t<dt>tailnum</dt>\n",
       "\t\t<dd>2512</dd>\n",
       "\t<dt>origin</dt>\n",
       "\t\t<dd>0</dd>\n",
       "\t<dt>dest</dt>\n",
       "\t\t<dd>0</dd>\n",
       "\t<dt>air_time</dt>\n",
       "\t\t<dd>9430</dd>\n",
       "\t<dt>distance</dt>\n",
       "\t\t<dd>0</dd>\n",
       "\t<dt>hour</dt>\n",
       "\t\t<dd>0</dd>\n",
       "\t<dt>minute</dt>\n",
       "\t\t<dd>0</dd>\n",
       "\t<dt>time_hour</dt>\n",
       "\t\t<dd>0</dd>\n",
       "</dl>\n"
      ],
      "text/latex": [
       "\\begin{description*}\n",
       "\\item[year] 0\n",
       "\\item[month] 0\n",
       "\\item[day] 0\n",
       "\\item[dep\\textbackslash{}\\_time] 8255\n",
       "\\item[sched\\textbackslash{}\\_dep\\textbackslash{}\\_time] 0\n",
       "\\item[dep\\textbackslash{}\\_delay] 8255\n",
       "\\item[arr\\textbackslash{}\\_time] 8713\n",
       "\\item[sched\\textbackslash{}\\_arr\\textbackslash{}\\_time] 0\n",
       "\\item[arr\\textbackslash{}\\_delay] 9430\n",
       "\\item[carrier] 0\n",
       "\\item[flight] 0\n",
       "\\item[tailnum] 2512\n",
       "\\item[origin] 0\n",
       "\\item[dest] 0\n",
       "\\item[air\\textbackslash{}\\_time] 9430\n",
       "\\item[distance] 0\n",
       "\\item[hour] 0\n",
       "\\item[minute] 0\n",
       "\\item[time\\textbackslash{}\\_hour] 0\n",
       "\\end{description*}\n"
      ],
      "text/markdown": [
       "year\n",
       ":   0month\n",
       ":   0day\n",
       ":   0dep_time\n",
       ":   8255sched_dep_time\n",
       ":   0dep_delay\n",
       ":   8255arr_time\n",
       ":   8713sched_arr_time\n",
       ":   0arr_delay\n",
       ":   9430carrier\n",
       ":   0flight\n",
       ":   0tailnum\n",
       ":   2512origin\n",
       ":   0dest\n",
       ":   0air_time\n",
       ":   9430distance\n",
       ":   0hour\n",
       ":   0minute\n",
       ":   0time_hour\n",
       ":   0\n",
       "\n"
      ],
      "text/plain": [
       "          year          month            day       dep_time sched_dep_time \n",
       "             0              0              0           8255              0 \n",
       "     dep_delay       arr_time sched_arr_time      arr_delay        carrier \n",
       "          8255           8713              0           9430              0 \n",
       "        flight        tailnum         origin           dest       air_time \n",
       "             0           2512              0              0           9430 \n",
       "      distance           hour         minute      time_hour \n",
       "             0              0              0              0 "
      ]
     },
     "metadata": {},
     "output_type": "display_data"
    }
   ],
   "source": [
    "flights_NA <- sapply(flights, function(x) sum(is.na(x)))\n",
    "flights_NA"
   ]
  },
  {
   "cell_type": "markdown",
   "metadata": {},
   "source": [
    "#### À quoi sont dûs ces valeurs manquantes?"
   ]
  },
  {
   "cell_type": "markdown",
   "metadata": {},
   "source": [
    "Les colonnes dep_delay et arr_delay n'ont pas été calculées\n",
    "les valeurs de la colonne air_time ne sont pas fournis"
   ]
  },
  {
   "cell_type": "markdown",
   "metadata": {},
   "source": [
    "#### Comment les traiter\n",
    "(les sortir de la table ou remplacer la valeur manquante par une autre valeur)?"
   ]
  },
  {
   "cell_type": "markdown",
   "metadata": {},
   "source": [
    "* On peut calculer dep_delay et arr_delay \n",
    "* On ne peut pas calculer air_time car cette durée ne correspond pas à la différence entre l'heure de départ et l'heure d'arrivée"
   ]
  },
  {
   "cell_type": "markdown",
   "metadata": {},
   "source": [
    "On supprime toutes les lignes avec la fonction"
   ]
  },
  {
   "cell_type": "code",
   "execution_count": 27,
   "metadata": {},
   "outputs": [],
   "source": [
    "na.rm = TRUE"
   ]
  },
  {
   "cell_type": "markdown",
   "metadata": {},
   "source": [
    "Pour info les fonctions pour calculer les valeurs manquantes"
   ]
  },
  {
   "cell_type": "code",
   "execution_count": null,
   "metadata": {},
   "outputs": [],
   "source": [
    "! les fonctions ci-dessous sont fausses car il faut compter en minutes (sur 60)"
   ]
  },
  {
   "cell_type": "code",
   "execution_count": 35,
   "metadata": {},
   "outputs": [],
   "source": [
    "fl_na$dep_delay <- fl_na$dep_time - fl_na$sched_dep_time"
   ]
  },
  {
   "cell_type": "code",
   "execution_count": 36,
   "metadata": {},
   "outputs": [],
   "source": [
    "fl_na$arr_delay <- fl_na$arr_time - fl_na$sched_arr_time"
   ]
  },
  {
   "cell_type": "code",
   "execution_count": 39,
   "metadata": {},
   "outputs": [
    {
     "data": {
      "text/html": [
       "<table>\n",
       "<thead><tr><th scope=col>year</th><th scope=col>month</th><th scope=col>day</th><th scope=col>dep_time</th><th scope=col>sched_dep_time</th><th scope=col>dep_delay</th><th scope=col>arr_time</th><th scope=col>sched_arr_time</th><th scope=col>arr_delay</th><th scope=col>carrier</th><th scope=col>flight</th><th scope=col>tailnum</th><th scope=col>origin</th><th scope=col>dest</th><th scope=col>air_time</th><th scope=col>distance</th><th scope=col>hour</th><th scope=col>minute</th><th scope=col>time_hour</th></tr></thead>\n",
       "<tbody>\n",
       "\t<tr><td>2013               </td><td>1                  </td><td>1                  </td><td>1525               </td><td>1530               </td><td>-5                 </td><td>1934               </td><td>1805               </td><td>NA                 </td><td>MQ                 </td><td>4525               </td><td>N719MQ             </td><td>LGA                </td><td>XNA                </td><td>NA                 </td><td>1147               </td><td>15                 </td><td>30                 </td><td>2013-01-01 15:00:00</td></tr>\n",
       "\t<tr><td>2013               </td><td>1                  </td><td>1                  </td><td>1528               </td><td>1459               </td><td>29                 </td><td>2002               </td><td>1647               </td><td>NA                 </td><td>EV                 </td><td>3806               </td><td>N17108             </td><td>EWR                </td><td>STL                </td><td>NA                 </td><td> 872               </td><td>14                 </td><td>59                 </td><td>2013-01-01 14:00:00</td></tr>\n",
       "\t<tr><td>2013               </td><td>1                  </td><td>1                  </td><td>1740               </td><td>1745               </td><td>-5                 </td><td>2158               </td><td>2020               </td><td>NA                 </td><td>MQ                 </td><td>4413               </td><td>N739MQ             </td><td>LGA                </td><td>XNA                </td><td>NA                 </td><td>1147               </td><td>17                 </td><td>45                 </td><td>2013-01-01 17:00:00</td></tr>\n",
       "\t<tr><td>2013               </td><td>1                  </td><td>1                  </td><td>1807               </td><td>1738               </td><td>29                 </td><td>2251               </td><td>2103               </td><td>NA                 </td><td>UA                 </td><td>1228               </td><td>N31412             </td><td>EWR                </td><td>SAN                </td><td>NA                 </td><td>2425               </td><td>17                 </td><td>38                 </td><td>2013-01-01 17:00:00</td></tr>\n",
       "\t<tr><td>2013               </td><td>1                  </td><td>1                  </td><td>1939               </td><td>1840               </td><td>59                 </td><td>  29               </td><td>2151               </td><td>NA                 </td><td>9E                 </td><td>3325               </td><td>N905XJ             </td><td>JFK                </td><td>DFW                </td><td>NA                 </td><td>1391               </td><td>18                 </td><td>40                 </td><td>2013-01-01 18:00:00</td></tr>\n",
       "\t<tr><td>2013               </td><td>1                  </td><td>1                  </td><td>1952               </td><td>1930               </td><td>22                 </td><td>2358               </td><td>2207               </td><td>NA                 </td><td>EV                 </td><td>4333               </td><td>N11194             </td><td>EWR                </td><td>TUL                </td><td>NA                 </td><td>1215               </td><td>19                 </td><td>30                 </td><td>2013-01-01 19:00:00</td></tr>\n",
       "</tbody>\n",
       "</table>\n"
      ],
      "text/latex": [
       "\\begin{tabular}{r|lllllllllllllllllll}\n",
       " year & month & day & dep\\_time & sched\\_dep\\_time & dep\\_delay & arr\\_time & sched\\_arr\\_time & arr\\_delay & carrier & flight & tailnum & origin & dest & air\\_time & distance & hour & minute & time\\_hour\\\\\n",
       "\\hline\n",
       "\t 2013                & 1                   & 1                   & 1525                & 1530                & -5                  & 1934                & 1805                & NA                  & MQ                  & 4525                & N719MQ              & LGA                 & XNA                 & NA                  & 1147                & 15                  & 30                  & 2013-01-01 15:00:00\\\\\n",
       "\t 2013                & 1                   & 1                   & 1528                & 1459                & 29                  & 2002                & 1647                & NA                  & EV                  & 3806                & N17108              & EWR                 & STL                 & NA                  &  872                & 14                  & 59                  & 2013-01-01 14:00:00\\\\\n",
       "\t 2013                & 1                   & 1                   & 1740                & 1745                & -5                  & 2158                & 2020                & NA                  & MQ                  & 4413                & N739MQ              & LGA                 & XNA                 & NA                  & 1147                & 17                  & 45                  & 2013-01-01 17:00:00\\\\\n",
       "\t 2013                & 1                   & 1                   & 1807                & 1738                & 29                  & 2251                & 2103                & NA                  & UA                  & 1228                & N31412              & EWR                 & SAN                 & NA                  & 2425                & 17                  & 38                  & 2013-01-01 17:00:00\\\\\n",
       "\t 2013                & 1                   & 1                   & 1939                & 1840                & 59                  &   29                & 2151                & NA                  & 9E                  & 3325                & N905XJ              & JFK                 & DFW                 & NA                  & 1391                & 18                  & 40                  & 2013-01-01 18:00:00\\\\\n",
       "\t 2013                & 1                   & 1                   & 1952                & 1930                & 22                  & 2358                & 2207                & NA                  & EV                  & 4333                & N11194              & EWR                 & TUL                 & NA                  & 1215                & 19                  & 30                  & 2013-01-01 19:00:00\\\\\n",
       "\\end{tabular}\n"
      ],
      "text/markdown": [
       "\n",
       "| year | month | day | dep_time | sched_dep_time | dep_delay | arr_time | sched_arr_time | arr_delay | carrier | flight | tailnum | origin | dest | air_time | distance | hour | minute | time_hour |\n",
       "|---|---|---|---|---|---|---|---|---|---|---|---|---|---|---|---|---|---|---|\n",
       "| 2013                | 1                   | 1                   | 1525                | 1530                | -5                  | 1934                | 1805                | NA                  | MQ                  | 4525                | N719MQ              | LGA                 | XNA                 | NA                  | 1147                | 15                  | 30                  | 2013-01-01 15:00:00 |\n",
       "| 2013                | 1                   | 1                   | 1528                | 1459                | 29                  | 2002                | 1647                | NA                  | EV                  | 3806                | N17108              | EWR                 | STL                 | NA                  |  872                | 14                  | 59                  | 2013-01-01 14:00:00 |\n",
       "| 2013                | 1                   | 1                   | 1740                | 1745                | -5                  | 2158                | 2020                | NA                  | MQ                  | 4413                | N739MQ              | LGA                 | XNA                 | NA                  | 1147                | 17                  | 45                  | 2013-01-01 17:00:00 |\n",
       "| 2013                | 1                   | 1                   | 1807                | 1738                | 29                  | 2251                | 2103                | NA                  | UA                  | 1228                | N31412              | EWR                 | SAN                 | NA                  | 2425                | 17                  | 38                  | 2013-01-01 17:00:00 |\n",
       "| 2013                | 1                   | 1                   | 1939                | 1840                | 59                  |   29                | 2151                | NA                  | 9E                  | 3325                | N905XJ              | JFK                 | DFW                 | NA                  | 1391                | 18                  | 40                  | 2013-01-01 18:00:00 |\n",
       "| 2013                | 1                   | 1                   | 1952                | 1930                | 22                  | 2358                | 2207                | NA                  | EV                  | 4333                | N11194              | EWR                 | TUL                 | NA                  | 1215                | 19                  | 30                  | 2013-01-01 19:00:00 |\n",
       "\n"
      ],
      "text/plain": [
       "  year month day dep_time sched_dep_time dep_delay arr_time sched_arr_time\n",
       "1 2013 1     1   1525     1530           -5        1934     1805          \n",
       "2 2013 1     1   1528     1459           29        2002     1647          \n",
       "3 2013 1     1   1740     1745           -5        2158     2020          \n",
       "4 2013 1     1   1807     1738           29        2251     2103          \n",
       "5 2013 1     1   1939     1840           59          29     2151          \n",
       "6 2013 1     1   1952     1930           22        2358     2207          \n",
       "  arr_delay carrier flight tailnum origin dest air_time distance hour minute\n",
       "1 NA        MQ      4525   N719MQ  LGA    XNA  NA       1147     15   30    \n",
       "2 NA        EV      3806   N17108  EWR    STL  NA        872     14   59    \n",
       "3 NA        MQ      4413   N739MQ  LGA    XNA  NA       1147     17   45    \n",
       "4 NA        UA      1228   N31412  EWR    SAN  NA       2425     17   38    \n",
       "5 NA        9E      3325   N905XJ  JFK    DFW  NA       1391     18   40    \n",
       "6 NA        EV      4333   N11194  EWR    TUL  NA       1215     19   30    \n",
       "  time_hour          \n",
       "1 2013-01-01 15:00:00\n",
       "2 2013-01-01 14:00:00\n",
       "3 2013-01-01 17:00:00\n",
       "4 2013-01-01 17:00:00\n",
       "5 2013-01-01 18:00:00\n",
       "6 2013-01-01 19:00:00"
      ]
     },
     "metadata": {},
     "output_type": "display_data"
    }
   ],
   "source": [
    "head(fl_na)"
   ]
  },
  {
   "cell_type": "code",
   "execution_count": 28,
   "metadata": {},
   "outputs": [
    {
     "ename": "ERROR",
     "evalue": "Error: objet 'x' introuvable\n",
     "output_type": "error",
     "traceback": [
      "Error: objet 'x' introuvable\nTraceback:\n",
      "1. filter(fl_na, is.na(x) == TRUE)",
      "2. filter.tbl_df(fl_na, is.na(x) == TRUE)",
      "3. filter_impl(.data, quo)"
     ]
    }
   ],
   "source": [
    "fl_na <- filter(fl_na, is.na(x) == TRUE)"
   ]
  },
  {
   "cell_type": "code",
   "execution_count": 41,
   "metadata": {},
   "outputs": [
    {
     "data": {
      "text/html": [
       "<table>\n",
       "<thead><tr><th scope=col>year</th><th scope=col>month</th><th scope=col>day</th><th scope=col>dep_time</th><th scope=col>sched_dep_time</th><th scope=col>dep_delay</th><th scope=col>arr_time</th><th scope=col>sched_arr_time</th><th scope=col>arr_delay</th><th scope=col>carrier</th><th scope=col>flight</th><th scope=col>tailnum</th><th scope=col>origin</th><th scope=col>dest</th><th scope=col>air_time</th><th scope=col>distance</th><th scope=col>hour</th><th scope=col>minute</th><th scope=col>time_hour</th></tr></thead>\n",
       "<tbody>\n",
       "\t<tr><td>FALSE</td><td>FALSE</td><td>FALSE</td><td>FALSE</td><td>FALSE</td><td>FALSE</td><td>FALSE</td><td>FALSE</td><td>TRUE </td><td>FALSE</td><td>FALSE</td><td>FALSE</td><td>FALSE</td><td>FALSE</td><td>TRUE </td><td>FALSE</td><td>FALSE</td><td>FALSE</td><td>FALSE</td></tr>\n",
       "\t<tr><td>FALSE</td><td>FALSE</td><td>FALSE</td><td>FALSE</td><td>FALSE</td><td>FALSE</td><td>FALSE</td><td>FALSE</td><td>TRUE </td><td>FALSE</td><td>FALSE</td><td>FALSE</td><td>FALSE</td><td>FALSE</td><td>TRUE </td><td>FALSE</td><td>FALSE</td><td>FALSE</td><td>FALSE</td></tr>\n",
       "\t<tr><td>FALSE</td><td>FALSE</td><td>FALSE</td><td>FALSE</td><td>FALSE</td><td>FALSE</td><td>FALSE</td><td>FALSE</td><td>TRUE </td><td>FALSE</td><td>FALSE</td><td>FALSE</td><td>FALSE</td><td>FALSE</td><td>TRUE </td><td>FALSE</td><td>FALSE</td><td>FALSE</td><td>FALSE</td></tr>\n",
       "\t<tr><td>FALSE</td><td>FALSE</td><td>FALSE</td><td>FALSE</td><td>FALSE</td><td>FALSE</td><td>FALSE</td><td>FALSE</td><td>TRUE </td><td>FALSE</td><td>FALSE</td><td>FALSE</td><td>FALSE</td><td>FALSE</td><td>TRUE </td><td>FALSE</td><td>FALSE</td><td>FALSE</td><td>FALSE</td></tr>\n",
       "\t<tr><td>FALSE</td><td>FALSE</td><td>FALSE</td><td>FALSE</td><td>FALSE</td><td>FALSE</td><td>FALSE</td><td>FALSE</td><td>TRUE </td><td>FALSE</td><td>FALSE</td><td>FALSE</td><td>FALSE</td><td>FALSE</td><td>TRUE </td><td>FALSE</td><td>FALSE</td><td>FALSE</td><td>FALSE</td></tr>\n",
       "\t<tr><td>FALSE</td><td>FALSE</td><td>FALSE</td><td>FALSE</td><td>FALSE</td><td>FALSE</td><td>FALSE</td><td>FALSE</td><td>TRUE </td><td>FALSE</td><td>FALSE</td><td>FALSE</td><td>FALSE</td><td>FALSE</td><td>TRUE </td><td>FALSE</td><td>FALSE</td><td>FALSE</td><td>FALSE</td></tr>\n",
       "</tbody>\n",
       "</table>\n"
      ],
      "text/latex": [
       "\\begin{tabular}{lllllllllllllllllll}\n",
       " year & month & day & dep\\_time & sched\\_dep\\_time & dep\\_delay & arr\\_time & sched\\_arr\\_time & arr\\_delay & carrier & flight & tailnum & origin & dest & air\\_time & distance & hour & minute & time\\_hour\\\\\n",
       "\\hline\n",
       "\t FALSE & FALSE & FALSE & FALSE & FALSE & FALSE & FALSE & FALSE & TRUE  & FALSE & FALSE & FALSE & FALSE & FALSE & TRUE  & FALSE & FALSE & FALSE & FALSE\\\\\n",
       "\t FALSE & FALSE & FALSE & FALSE & FALSE & FALSE & FALSE & FALSE & TRUE  & FALSE & FALSE & FALSE & FALSE & FALSE & TRUE  & FALSE & FALSE & FALSE & FALSE\\\\\n",
       "\t FALSE & FALSE & FALSE & FALSE & FALSE & FALSE & FALSE & FALSE & TRUE  & FALSE & FALSE & FALSE & FALSE & FALSE & TRUE  & FALSE & FALSE & FALSE & FALSE\\\\\n",
       "\t FALSE & FALSE & FALSE & FALSE & FALSE & FALSE & FALSE & FALSE & TRUE  & FALSE & FALSE & FALSE & FALSE & FALSE & TRUE  & FALSE & FALSE & FALSE & FALSE\\\\\n",
       "\t FALSE & FALSE & FALSE & FALSE & FALSE & FALSE & FALSE & FALSE & TRUE  & FALSE & FALSE & FALSE & FALSE & FALSE & TRUE  & FALSE & FALSE & FALSE & FALSE\\\\\n",
       "\t FALSE & FALSE & FALSE & FALSE & FALSE & FALSE & FALSE & FALSE & TRUE  & FALSE & FALSE & FALSE & FALSE & FALSE & TRUE  & FALSE & FALSE & FALSE & FALSE\\\\\n",
       "\\end{tabular}\n"
      ],
      "text/markdown": [
       "\n",
       "| year | month | day | dep_time | sched_dep_time | dep_delay | arr_time | sched_arr_time | arr_delay | carrier | flight | tailnum | origin | dest | air_time | distance | hour | minute | time_hour |\n",
       "|---|---|---|---|---|---|---|---|---|---|---|---|---|---|---|---|---|---|---|\n",
       "| FALSE | FALSE | FALSE | FALSE | FALSE | FALSE | FALSE | FALSE | TRUE  | FALSE | FALSE | FALSE | FALSE | FALSE | TRUE  | FALSE | FALSE | FALSE | FALSE |\n",
       "| FALSE | FALSE | FALSE | FALSE | FALSE | FALSE | FALSE | FALSE | TRUE  | FALSE | FALSE | FALSE | FALSE | FALSE | TRUE  | FALSE | FALSE | FALSE | FALSE |\n",
       "| FALSE | FALSE | FALSE | FALSE | FALSE | FALSE | FALSE | FALSE | TRUE  | FALSE | FALSE | FALSE | FALSE | FALSE | TRUE  | FALSE | FALSE | FALSE | FALSE |\n",
       "| FALSE | FALSE | FALSE | FALSE | FALSE | FALSE | FALSE | FALSE | TRUE  | FALSE | FALSE | FALSE | FALSE | FALSE | TRUE  | FALSE | FALSE | FALSE | FALSE |\n",
       "| FALSE | FALSE | FALSE | FALSE | FALSE | FALSE | FALSE | FALSE | TRUE  | FALSE | FALSE | FALSE | FALSE | FALSE | TRUE  | FALSE | FALSE | FALSE | FALSE |\n",
       "| FALSE | FALSE | FALSE | FALSE | FALSE | FALSE | FALSE | FALSE | TRUE  | FALSE | FALSE | FALSE | FALSE | FALSE | TRUE  | FALSE | FALSE | FALSE | FALSE |\n",
       "\n"
      ],
      "text/plain": [
       "     year  month day   dep_time sched_dep_time dep_delay arr_time\n",
       "[1,] FALSE FALSE FALSE FALSE    FALSE          FALSE     FALSE   \n",
       "[2,] FALSE FALSE FALSE FALSE    FALSE          FALSE     FALSE   \n",
       "[3,] FALSE FALSE FALSE FALSE    FALSE          FALSE     FALSE   \n",
       "[4,] FALSE FALSE FALSE FALSE    FALSE          FALSE     FALSE   \n",
       "[5,] FALSE FALSE FALSE FALSE    FALSE          FALSE     FALSE   \n",
       "[6,] FALSE FALSE FALSE FALSE    FALSE          FALSE     FALSE   \n",
       "     sched_arr_time arr_delay carrier flight tailnum origin dest  air_time\n",
       "[1,] FALSE          TRUE      FALSE   FALSE  FALSE   FALSE  FALSE TRUE    \n",
       "[2,] FALSE          TRUE      FALSE   FALSE  FALSE   FALSE  FALSE TRUE    \n",
       "[3,] FALSE          TRUE      FALSE   FALSE  FALSE   FALSE  FALSE TRUE    \n",
       "[4,] FALSE          TRUE      FALSE   FALSE  FALSE   FALSE  FALSE TRUE    \n",
       "[5,] FALSE          TRUE      FALSE   FALSE  FALSE   FALSE  FALSE TRUE    \n",
       "[6,] FALSE          TRUE      FALSE   FALSE  FALSE   FALSE  FALSE TRUE    \n",
       "     distance hour  minute time_hour\n",
       "[1,] FALSE    FALSE FALSE  FALSE    \n",
       "[2,] FALSE    FALSE FALSE  FALSE    \n",
       "[3,] FALSE    FALSE FALSE  FALSE    \n",
       "[4,] FALSE    FALSE FALSE  FALSE    \n",
       "[5,] FALSE    FALSE FALSE  FALSE    \n",
       "[6,] FALSE    FALSE FALSE  FALSE    "
      ]
     },
     "metadata": {},
     "output_type": "display_data"
    }
   ],
   "source": [
    "head(is.na(fl_na))"
   ]
  },
  {
   "cell_type": "markdown",
   "metadata": {},
   "source": [
    "### Statistiques\n",
    "Sur ces variables, présentez des statistiques (moyenne, écart-type, min, max). Observez-vous des différences de ces statistiques selon l’aéroport d’où est parti l’avion?"
   ]
  },
  {
   "cell_type": "markdown",
   "metadata": {},
   "source": [
    "#### Moyenne \n",
    "* variables : distance du vol, sa durée, son retard au départ et à l’arrivée\n",
    "* aéroport départ (origin)"
   ]
  },
  {
   "cell_type": "code",
   "execution_count": 28,
   "metadata": {},
   "outputs": [
    {
     "data": {
      "text/html": [
       "<table>\n",
       "<thead><tr><th scope=col>delay</th></tr></thead>\n",
       "<tbody>\n",
       "\t<tr><td>12.63907</td></tr>\n",
       "</tbody>\n",
       "</table>\n"
      ],
      "text/latex": [
       "\\begin{tabular}{r|l}\n",
       " delay\\\\\n",
       "\\hline\n",
       "\t 12.63907\\\\\n",
       "\\end{tabular}\n"
      ],
      "text/markdown": [
       "\n",
       "| delay |\n",
       "|---|\n",
       "| 12.63907 |\n",
       "\n"
      ],
      "text/plain": [
       "  delay   \n",
       "1 12.63907"
      ]
     },
     "metadata": {},
     "output_type": "display_data"
    }
   ],
   "source": [
    "#moyenne globale\n",
    "summarize(flights, delay=mean(dep_delay, na.rm=TRUE))"
   ]
  },
  {
   "cell_type": "code",
   "execution_count": 29,
   "metadata": {},
   "outputs": [],
   "source": [
    "mean_by_origin <- flights %>% \n",
    "    group_by(origin) %>% \n",
    "    summarize(dist=mean(distance, na.rm=TRUE), \n",
    "              air_time=mean(air_time, na.rm=TRUE), \n",
    "              dep_delay=mean(dep_delay, na.rm=TRUE), \n",
    "              arr_delay=mean(arr_delay, na.rm=TRUE))"
   ]
  },
  {
   "cell_type": "code",
   "execution_count": 30,
   "metadata": {},
   "outputs": [
    {
     "data": {
      "text/html": [
       "<table>\n",
       "<thead><tr><th scope=col>origin</th><th scope=col>dist</th><th scope=col>air_time</th><th scope=col>dep_delay</th><th scope=col>arr_delay</th></tr></thead>\n",
       "<tbody>\n",
       "\t<tr><td>EWR      </td><td>1056.7428</td><td>153.3000 </td><td>15.10795 </td><td>9.107055 </td></tr>\n",
       "\t<tr><td>JFK      </td><td>1266.2491</td><td>178.3490 </td><td>12.11216 </td><td>5.551481 </td></tr>\n",
       "\t<tr><td>LGA      </td><td> 779.8357</td><td>117.8258 </td><td>10.34688 </td><td>5.783488 </td></tr>\n",
       "</tbody>\n",
       "</table>\n"
      ],
      "text/latex": [
       "\\begin{tabular}{r|lllll}\n",
       " origin & dist & air\\_time & dep\\_delay & arr\\_delay\\\\\n",
       "\\hline\n",
       "\t EWR       & 1056.7428 & 153.3000  & 15.10795  & 9.107055 \\\\\n",
       "\t JFK       & 1266.2491 & 178.3490  & 12.11216  & 5.551481 \\\\\n",
       "\t LGA       &  779.8357 & 117.8258  & 10.34688  & 5.783488 \\\\\n",
       "\\end{tabular}\n"
      ],
      "text/markdown": [
       "\n",
       "| origin | dist | air_time | dep_delay | arr_delay |\n",
       "|---|---|---|---|---|\n",
       "| EWR       | 1056.7428 | 153.3000  | 15.10795  | 9.107055  |\n",
       "| JFK       | 1266.2491 | 178.3490  | 12.11216  | 5.551481  |\n",
       "| LGA       |  779.8357 | 117.8258  | 10.34688  | 5.783488  |\n",
       "\n"
      ],
      "text/plain": [
       "  origin dist      air_time dep_delay arr_delay\n",
       "1 EWR    1056.7428 153.3000 15.10795  9.107055 \n",
       "2 JFK    1266.2491 178.3490 12.11216  5.551481 \n",
       "3 LGA     779.8357 117.8258 10.34688  5.783488 "
      ]
     },
     "metadata": {},
     "output_type": "display_data"
    }
   ],
   "source": [
    "mean_by_origin"
   ]
  },
  {
   "cell_type": "markdown",
   "metadata": {},
   "source": [
    "#### écart-type (sd)"
   ]
  },
  {
   "cell_type": "code",
   "execution_count": 31,
   "metadata": {},
   "outputs": [],
   "source": [
    "sd_by_origin <- flights %>% \n",
    "    group_by(origin) %>% \n",
    "    summarize(dist=sd(distance, na.rm=TRUE), \n",
    "              air_time=sd(air_time, na.rm=TRUE), \n",
    "              dep_delay=sd(dep_delay, na.rm=TRUE), \n",
    "              arr_delay=sd(arr_delay, na.rm=TRUE))"
   ]
  },
  {
   "cell_type": "code",
   "execution_count": 32,
   "metadata": {},
   "outputs": [
    {
     "data": {
      "text/html": [
       "<table>\n",
       "<thead><tr><th scope=col>origin</th><th scope=col>dist</th><th scope=col>air_time</th><th scope=col>dep_delay</th><th scope=col>arr_delay</th></tr></thead>\n",
       "<tbody>\n",
       "\t<tr><td>EWR      </td><td>730.2239 </td><td> 93.34380</td><td>41.32370 </td><td>45.52918 </td></tr>\n",
       "\t<tr><td>JFK      </td><td>896.1084 </td><td>113.79430</td><td>39.03507 </td><td>44.27745 </td></tr>\n",
       "\t<tr><td>LGA      </td><td>371.6615 </td><td> 49.39791</td><td>39.99302 </td><td>43.86227 </td></tr>\n",
       "</tbody>\n",
       "</table>\n"
      ],
      "text/latex": [
       "\\begin{tabular}{r|lllll}\n",
       " origin & dist & air\\_time & dep\\_delay & arr\\_delay\\\\\n",
       "\\hline\n",
       "\t EWR       & 730.2239  &  93.34380 & 41.32370  & 45.52918 \\\\\n",
       "\t JFK       & 896.1084  & 113.79430 & 39.03507  & 44.27745 \\\\\n",
       "\t LGA       & 371.6615  &  49.39791 & 39.99302  & 43.86227 \\\\\n",
       "\\end{tabular}\n"
      ],
      "text/markdown": [
       "\n",
       "| origin | dist | air_time | dep_delay | arr_delay |\n",
       "|---|---|---|---|---|\n",
       "| EWR       | 730.2239  |  93.34380 | 41.32370  | 45.52918  |\n",
       "| JFK       | 896.1084  | 113.79430 | 39.03507  | 44.27745  |\n",
       "| LGA       | 371.6615  |  49.39791 | 39.99302  | 43.86227  |\n",
       "\n"
      ],
      "text/plain": [
       "  origin dist     air_time  dep_delay arr_delay\n",
       "1 EWR    730.2239  93.34380 41.32370  45.52918 \n",
       "2 JFK    896.1084 113.79430 39.03507  44.27745 \n",
       "3 LGA    371.6615  49.39791 39.99302  43.86227 "
      ]
     },
     "metadata": {},
     "output_type": "display_data"
    }
   ],
   "source": [
    "sd_by_origin"
   ]
  },
  {
   "cell_type": "markdown",
   "metadata": {},
   "source": [
    "#### min"
   ]
  },
  {
   "cell_type": "code",
   "execution_count": 33,
   "metadata": {},
   "outputs": [],
   "source": [
    "min_by_origin <- flights %>% \n",
    "    group_by(origin) %>% \n",
    "    summarize(dist=min(distance, na.rm=TRUE), \n",
    "              air_time=min(air_time, na.rm=TRUE), \n",
    "              dep_delay=min(dep_delay, na.rm=TRUE), \n",
    "              arr_delay=min(arr_delay, na.rm=TRUE))"
   ]
  },
  {
   "cell_type": "code",
   "execution_count": 34,
   "metadata": {},
   "outputs": [
    {
     "data": {
      "text/html": [
       "<table>\n",
       "<thead><tr><th scope=col>origin</th><th scope=col>dist</th><th scope=col>air_time</th><th scope=col>dep_delay</th><th scope=col>arr_delay</th></tr></thead>\n",
       "<tbody>\n",
       "\t<tr><td>EWR</td><td>17 </td><td>20 </td><td>-25</td><td>-86</td></tr>\n",
       "\t<tr><td>JFK</td><td>94 </td><td>21 </td><td>-43</td><td>-79</td></tr>\n",
       "\t<tr><td>LGA</td><td>96 </td><td>21 </td><td>-33</td><td>-68</td></tr>\n",
       "</tbody>\n",
       "</table>\n"
      ],
      "text/latex": [
       "\\begin{tabular}{r|lllll}\n",
       " origin & dist & air\\_time & dep\\_delay & arr\\_delay\\\\\n",
       "\\hline\n",
       "\t EWR & 17  & 20  & -25 & -86\\\\\n",
       "\t JFK & 94  & 21  & -43 & -79\\\\\n",
       "\t LGA & 96  & 21  & -33 & -68\\\\\n",
       "\\end{tabular}\n"
      ],
      "text/markdown": [
       "\n",
       "| origin | dist | air_time | dep_delay | arr_delay |\n",
       "|---|---|---|---|---|\n",
       "| EWR | 17  | 20  | -25 | -86 |\n",
       "| JFK | 94  | 21  | -43 | -79 |\n",
       "| LGA | 96  | 21  | -33 | -68 |\n",
       "\n"
      ],
      "text/plain": [
       "  origin dist air_time dep_delay arr_delay\n",
       "1 EWR    17   20       -25       -86      \n",
       "2 JFK    94   21       -43       -79      \n",
       "3 LGA    96   21       -33       -68      "
      ]
     },
     "metadata": {},
     "output_type": "display_data"
    }
   ],
   "source": [
    "min_by_origin"
   ]
  },
  {
   "cell_type": "markdown",
   "metadata": {},
   "source": [
    "#### max"
   ]
  },
  {
   "cell_type": "code",
   "execution_count": 35,
   "metadata": {},
   "outputs": [],
   "source": [
    "max_by_origin <- flights  %>%\n",
    "    group_by(origin)  %>% \n",
    "    summarize(dist=max(distance, na.rm=TRUE), \n",
    "              air_time=max(air_time, na.rm=TRUE), \n",
    "              dep_delay=max(dep_delay, na.rm=TRUE), \n",
    "              arr_delay=max(arr_delay, na.rm=TRUE))"
   ]
  },
  {
   "cell_type": "code",
   "execution_count": 36,
   "metadata": {},
   "outputs": [
    {
     "data": {
      "text/html": [
       "<table>\n",
       "<thead><tr><th scope=col>origin</th><th scope=col>dist</th><th scope=col>air_time</th><th scope=col>dep_delay</th><th scope=col>arr_delay</th></tr></thead>\n",
       "<tbody>\n",
       "\t<tr><td>EWR </td><td>4963</td><td>695 </td><td>1126</td><td>1109</td></tr>\n",
       "\t<tr><td>JFK </td><td>4983</td><td>691 </td><td>1301</td><td>1272</td></tr>\n",
       "\t<tr><td>LGA </td><td>1620</td><td>331 </td><td> 911</td><td> 915</td></tr>\n",
       "</tbody>\n",
       "</table>\n"
      ],
      "text/latex": [
       "\\begin{tabular}{r|lllll}\n",
       " origin & dist & air\\_time & dep\\_delay & arr\\_delay\\\\\n",
       "\\hline\n",
       "\t EWR  & 4963 & 695  & 1126 & 1109\\\\\n",
       "\t JFK  & 4983 & 691  & 1301 & 1272\\\\\n",
       "\t LGA  & 1620 & 331  &  911 &  915\\\\\n",
       "\\end{tabular}\n"
      ],
      "text/markdown": [
       "\n",
       "| origin | dist | air_time | dep_delay | arr_delay |\n",
       "|---|---|---|---|---|\n",
       "| EWR  | 4963 | 695  | 1126 | 1109 |\n",
       "| JFK  | 4983 | 691  | 1301 | 1272 |\n",
       "| LGA  | 1620 | 331  |  911 |  915 |\n",
       "\n"
      ],
      "text/plain": [
       "  origin dist air_time dep_delay arr_delay\n",
       "1 EWR    4963 695      1126      1109     \n",
       "2 JFK    4983 691      1301      1272     \n",
       "3 LGA    1620 331       911       915     "
      ]
     },
     "metadata": {},
     "output_type": "display_data"
    }
   ],
   "source": [
    "max_by_origin"
   ]
  },
  {
   "cell_type": "markdown",
   "metadata": {},
   "source": [
    "## Rapprochement avec des données météo"
   ]
  },
  {
   "cell_type": "markdown",
   "metadata": {},
   "source": [
    "### base weather\n",
    "De la même manière, parcourez la base weather et proposez un traitement des valeurs manquantes."
   ]
  },
  {
   "cell_type": "code",
   "execution_count": 5,
   "metadata": {},
   "outputs": [
    {
     "data": {
      "text/html": [
       "<ol class=list-inline>\n",
       "\t<li>'origin'</li>\n",
       "\t<li>'year'</li>\n",
       "\t<li>'month'</li>\n",
       "\t<li>'day'</li>\n",
       "\t<li>'hour'</li>\n",
       "\t<li>'temp'</li>\n",
       "\t<li>'dewp'</li>\n",
       "\t<li>'humid'</li>\n",
       "\t<li>'wind_dir'</li>\n",
       "\t<li>'wind_speed'</li>\n",
       "\t<li>'wind_gust'</li>\n",
       "\t<li>'precip'</li>\n",
       "\t<li>'pressure'</li>\n",
       "\t<li>'visib'</li>\n",
       "\t<li>'time_hour'</li>\n",
       "</ol>\n"
      ],
      "text/latex": [
       "\\begin{enumerate*}\n",
       "\\item 'origin'\n",
       "\\item 'year'\n",
       "\\item 'month'\n",
       "\\item 'day'\n",
       "\\item 'hour'\n",
       "\\item 'temp'\n",
       "\\item 'dewp'\n",
       "\\item 'humid'\n",
       "\\item 'wind\\_dir'\n",
       "\\item 'wind\\_speed'\n",
       "\\item 'wind\\_gust'\n",
       "\\item 'precip'\n",
       "\\item 'pressure'\n",
       "\\item 'visib'\n",
       "\\item 'time\\_hour'\n",
       "\\end{enumerate*}\n"
      ],
      "text/markdown": [
       "1. 'origin'\n",
       "2. 'year'\n",
       "3. 'month'\n",
       "4. 'day'\n",
       "5. 'hour'\n",
       "6. 'temp'\n",
       "7. 'dewp'\n",
       "8. 'humid'\n",
       "9. 'wind_dir'\n",
       "10. 'wind_speed'\n",
       "11. 'wind_gust'\n",
       "12. 'precip'\n",
       "13. 'pressure'\n",
       "14. 'visib'\n",
       "15. 'time_hour'\n",
       "\n",
       "\n"
      ],
      "text/plain": [
       " [1] \"origin\"     \"year\"       \"month\"      \"day\"        \"hour\"      \n",
       " [6] \"temp\"       \"dewp\"       \"humid\"      \"wind_dir\"   \"wind_speed\"\n",
       "[11] \"wind_gust\"  \"precip\"     \"pressure\"   \"visib\"      \"time_hour\" "
      ]
     },
     "metadata": {},
     "output_type": "display_data"
    }
   ],
   "source": [
    "colnames(weather)"
   ]
  },
  {
   "cell_type": "code",
   "execution_count": 37,
   "metadata": {},
   "outputs": [
    {
     "data": {
      "text/html": [
       "<table>\n",
       "<thead><tr><th scope=col>origin</th><th scope=col>year</th><th scope=col>month</th><th scope=col>day</th><th scope=col>hour</th><th scope=col>temp</th><th scope=col>dewp</th><th scope=col>humid</th><th scope=col>wind_dir</th><th scope=col>wind_speed</th><th scope=col>wind_gust</th><th scope=col>precip</th><th scope=col>pressure</th><th scope=col>visib</th><th scope=col>time_hour</th></tr></thead>\n",
       "<tbody>\n",
       "\t<tr><td>EWR                </td><td>2013               </td><td>1                  </td><td>1                  </td><td>1                  </td><td>39.02              </td><td>26.06              </td><td>59.37              </td><td>270                </td><td>10.35702           </td><td>NA                 </td><td>0                  </td><td>1012.0             </td><td>10                 </td><td>2013-01-01 01:00:00</td></tr>\n",
       "\t<tr><td>EWR                </td><td>2013               </td><td>1                  </td><td>1                  </td><td>2                  </td><td>39.02              </td><td>26.96              </td><td>61.63              </td><td>250                </td><td> 8.05546           </td><td>NA                 </td><td>0                  </td><td>1012.3             </td><td>10                 </td><td>2013-01-01 02:00:00</td></tr>\n",
       "\t<tr><td>EWR                </td><td>2013               </td><td>1                  </td><td>1                  </td><td>3                  </td><td>39.02              </td><td>28.04              </td><td>64.43              </td><td>240                </td><td>11.50780           </td><td>NA                 </td><td>0                  </td><td>1012.5             </td><td>10                 </td><td>2013-01-01 03:00:00</td></tr>\n",
       "\t<tr><td>EWR                </td><td>2013               </td><td>1                  </td><td>1                  </td><td>4                  </td><td>39.92              </td><td>28.04              </td><td>62.21              </td><td>250                </td><td>12.65858           </td><td>NA                 </td><td>0                  </td><td>1012.2             </td><td>10                 </td><td>2013-01-01 04:00:00</td></tr>\n",
       "\t<tr><td>EWR                </td><td>2013               </td><td>1                  </td><td>1                  </td><td>5                  </td><td>39.02              </td><td>28.04              </td><td>64.43              </td><td>260                </td><td>12.65858           </td><td>NA                 </td><td>0                  </td><td>1011.9             </td><td>10                 </td><td>2013-01-01 05:00:00</td></tr>\n",
       "\t<tr><td>EWR                </td><td>2013               </td><td>1                  </td><td>1                  </td><td>6                  </td><td>37.94              </td><td>28.04              </td><td>67.21              </td><td>240                </td><td>11.50780           </td><td>NA                 </td><td>0                  </td><td>1012.4             </td><td>10                 </td><td>2013-01-01 06:00:00</td></tr>\n",
       "</tbody>\n",
       "</table>\n"
      ],
      "text/latex": [
       "\\begin{tabular}{r|lllllllllllllll}\n",
       " origin & year & month & day & hour & temp & dewp & humid & wind\\_dir & wind\\_speed & wind\\_gust & precip & pressure & visib & time\\_hour\\\\\n",
       "\\hline\n",
       "\t EWR                 & 2013                & 1                   & 1                   & 1                   & 39.02               & 26.06               & 59.37               & 270                 & 10.35702            & NA                  & 0                   & 1012.0              & 10                  & 2013-01-01 01:00:00\\\\\n",
       "\t EWR                 & 2013                & 1                   & 1                   & 2                   & 39.02               & 26.96               & 61.63               & 250                 &  8.05546            & NA                  & 0                   & 1012.3              & 10                  & 2013-01-01 02:00:00\\\\\n",
       "\t EWR                 & 2013                & 1                   & 1                   & 3                   & 39.02               & 28.04               & 64.43               & 240                 & 11.50780            & NA                  & 0                   & 1012.5              & 10                  & 2013-01-01 03:00:00\\\\\n",
       "\t EWR                 & 2013                & 1                   & 1                   & 4                   & 39.92               & 28.04               & 62.21               & 250                 & 12.65858            & NA                  & 0                   & 1012.2              & 10                  & 2013-01-01 04:00:00\\\\\n",
       "\t EWR                 & 2013                & 1                   & 1                   & 5                   & 39.02               & 28.04               & 64.43               & 260                 & 12.65858            & NA                  & 0                   & 1011.9              & 10                  & 2013-01-01 05:00:00\\\\\n",
       "\t EWR                 & 2013                & 1                   & 1                   & 6                   & 37.94               & 28.04               & 67.21               & 240                 & 11.50780            & NA                  & 0                   & 1012.4              & 10                  & 2013-01-01 06:00:00\\\\\n",
       "\\end{tabular}\n"
      ],
      "text/markdown": [
       "\n",
       "| origin | year | month | day | hour | temp | dewp | humid | wind_dir | wind_speed | wind_gust | precip | pressure | visib | time_hour |\n",
       "|---|---|---|---|---|---|---|---|---|---|---|---|---|---|---|\n",
       "| EWR                 | 2013                | 1                   | 1                   | 1                   | 39.02               | 26.06               | 59.37               | 270                 | 10.35702            | NA                  | 0                   | 1012.0              | 10                  | 2013-01-01 01:00:00 |\n",
       "| EWR                 | 2013                | 1                   | 1                   | 2                   | 39.02               | 26.96               | 61.63               | 250                 |  8.05546            | NA                  | 0                   | 1012.3              | 10                  | 2013-01-01 02:00:00 |\n",
       "| EWR                 | 2013                | 1                   | 1                   | 3                   | 39.02               | 28.04               | 64.43               | 240                 | 11.50780            | NA                  | 0                   | 1012.5              | 10                  | 2013-01-01 03:00:00 |\n",
       "| EWR                 | 2013                | 1                   | 1                   | 4                   | 39.92               | 28.04               | 62.21               | 250                 | 12.65858            | NA                  | 0                   | 1012.2              | 10                  | 2013-01-01 04:00:00 |\n",
       "| EWR                 | 2013                | 1                   | 1                   | 5                   | 39.02               | 28.04               | 64.43               | 260                 | 12.65858            | NA                  | 0                   | 1011.9              | 10                  | 2013-01-01 05:00:00 |\n",
       "| EWR                 | 2013                | 1                   | 1                   | 6                   | 37.94               | 28.04               | 67.21               | 240                 | 11.50780            | NA                  | 0                   | 1012.4              | 10                  | 2013-01-01 06:00:00 |\n",
       "\n"
      ],
      "text/plain": [
       "  origin year month day hour temp  dewp  humid wind_dir wind_speed wind_gust\n",
       "1 EWR    2013 1     1   1    39.02 26.06 59.37 270      10.35702   NA       \n",
       "2 EWR    2013 1     1   2    39.02 26.96 61.63 250       8.05546   NA       \n",
       "3 EWR    2013 1     1   3    39.02 28.04 64.43 240      11.50780   NA       \n",
       "4 EWR    2013 1     1   4    39.92 28.04 62.21 250      12.65858   NA       \n",
       "5 EWR    2013 1     1   5    39.02 28.04 64.43 260      12.65858   NA       \n",
       "6 EWR    2013 1     1   6    37.94 28.04 67.21 240      11.50780   NA       \n",
       "  precip pressure visib time_hour          \n",
       "1 0      1012.0   10    2013-01-01 01:00:00\n",
       "2 0      1012.3   10    2013-01-01 02:00:00\n",
       "3 0      1012.5   10    2013-01-01 03:00:00\n",
       "4 0      1012.2   10    2013-01-01 04:00:00\n",
       "5 0      1011.9   10    2013-01-01 05:00:00\n",
       "6 0      1012.4   10    2013-01-01 06:00:00"
      ]
     },
     "metadata": {},
     "output_type": "display_data"
    }
   ],
   "source": [
    "head(nycflights13::weather)"
   ]
  },
  {
   "cell_type": "code",
   "execution_count": 38,
   "metadata": {},
   "outputs": [
    {
     "name": "stdout",
     "output_type": "stream",
     "text": [
      "Observations: 26,115\n",
      "Variables: 15\n",
      "$ origin     <chr> \"EWR\", \"EWR\", \"EWR\", \"EWR\", \"EWR\", \"EWR\", \"EWR\", \"EWR\", ...\n",
      "$ year       <int> 2013, 2013, 2013, 2013, 2013, 2013, 2013, 2013, 2013, 20...\n",
      "$ month      <int> 1, 1, 1, 1, 1, 1, 1, 1, 1, 1, 1, 1, 1, 1, 1, 1, 1, 1, 1,...\n",
      "$ day        <int> 1, 1, 1, 1, 1, 1, 1, 1, 1, 1, 1, 1, 1, 1, 1, 1, 1, 1, 1,...\n",
      "$ hour       <int> 1, 2, 3, 4, 5, 6, 7, 8, 9, 10, 11, 13, 14, 15, 16, 17, 1...\n",
      "$ temp       <dbl> 39.02, 39.02, 39.02, 39.92, 39.02, 37.94, 39.02, 39.92, ...\n",
      "$ dewp       <dbl> 26.06, 26.96, 28.04, 28.04, 28.04, 28.04, 28.04, 28.04, ...\n",
      "$ humid      <dbl> 59.37, 61.63, 64.43, 62.21, 64.43, 67.21, 64.43, 62.21, ...\n",
      "$ wind_dir   <dbl> 270, 250, 240, 250, 260, 240, 240, 250, 260, 260, 260, 3...\n",
      "$ wind_speed <dbl> 10.35702, 8.05546, 11.50780, 12.65858, 12.65858, 11.5078...\n",
      "$ wind_gust  <dbl> NA, NA, NA, NA, NA, NA, NA, NA, NA, NA, NA, NA, NA, NA, ...\n",
      "$ precip     <dbl> 0, 0, 0, 0, 0, 0, 0, 0, 0, 0, 0, 0, 0, 0, 0, 0, 0, 0, 0,...\n",
      "$ pressure   <dbl> 1012.0, 1012.3, 1012.5, 1012.2, 1011.9, 1012.4, 1012.2, ...\n",
      "$ visib      <dbl> 10, 10, 10, 10, 10, 10, 10, 10, 10, 10, 10, 10, 10, 10, ...\n",
      "$ time_hour  <dttm> 2013-01-01 01:00:00, 2013-01-01 02:00:00, 2013-01-01 03...\n"
     ]
    }
   ],
   "source": [
    "glimpse(weather)"
   ]
  },
  {
   "cell_type": "code",
   "execution_count": 39,
   "metadata": {},
   "outputs": [
    {
     "data": {
      "text/html": [
       "<dl class=dl-horizontal>\n",
       "\t<dt>origin</dt>\n",
       "\t\t<dd>0</dd>\n",
       "\t<dt>year</dt>\n",
       "\t\t<dd>0</dd>\n",
       "\t<dt>month</dt>\n",
       "\t\t<dd>0</dd>\n",
       "\t<dt>day</dt>\n",
       "\t\t<dd>0</dd>\n",
       "\t<dt>hour</dt>\n",
       "\t\t<dd>0</dd>\n",
       "\t<dt>temp</dt>\n",
       "\t\t<dd>1</dd>\n",
       "\t<dt>dewp</dt>\n",
       "\t\t<dd>1</dd>\n",
       "\t<dt>humid</dt>\n",
       "\t\t<dd>1</dd>\n",
       "\t<dt>wind_dir</dt>\n",
       "\t\t<dd>460</dd>\n",
       "\t<dt>wind_speed</dt>\n",
       "\t\t<dd>4</dd>\n",
       "\t<dt>wind_gust</dt>\n",
       "\t\t<dd>20778</dd>\n",
       "\t<dt>precip</dt>\n",
       "\t\t<dd>0</dd>\n",
       "\t<dt>pressure</dt>\n",
       "\t\t<dd>2729</dd>\n",
       "\t<dt>visib</dt>\n",
       "\t\t<dd>0</dd>\n",
       "\t<dt>time_hour</dt>\n",
       "\t\t<dd>0</dd>\n",
       "</dl>\n"
      ],
      "text/latex": [
       "\\begin{description*}\n",
       "\\item[origin] 0\n",
       "\\item[year] 0\n",
       "\\item[month] 0\n",
       "\\item[day] 0\n",
       "\\item[hour] 0\n",
       "\\item[temp] 1\n",
       "\\item[dewp] 1\n",
       "\\item[humid] 1\n",
       "\\item[wind\\textbackslash{}\\_dir] 460\n",
       "\\item[wind\\textbackslash{}\\_speed] 4\n",
       "\\item[wind\\textbackslash{}\\_gust] 20778\n",
       "\\item[precip] 0\n",
       "\\item[pressure] 2729\n",
       "\\item[visib] 0\n",
       "\\item[time\\textbackslash{}\\_hour] 0\n",
       "\\end{description*}\n"
      ],
      "text/markdown": [
       "origin\n",
       ":   0year\n",
       ":   0month\n",
       ":   0day\n",
       ":   0hour\n",
       ":   0temp\n",
       ":   1dewp\n",
       ":   1humid\n",
       ":   1wind_dir\n",
       ":   460wind_speed\n",
       ":   4wind_gust\n",
       ":   20778precip\n",
       ":   0pressure\n",
       ":   2729visib\n",
       ":   0time_hour\n",
       ":   0\n",
       "\n"
      ],
      "text/plain": [
       "    origin       year      month        day       hour       temp       dewp \n",
       "         0          0          0          0          0          1          1 \n",
       "     humid   wind_dir wind_speed  wind_gust     precip   pressure      visib \n",
       "         1        460          4      20778          0       2729          0 \n",
       " time_hour \n",
       "         0 "
      ]
     },
     "metadata": {},
     "output_type": "display_data"
    }
   ],
   "source": [
    "weather_NA <- sapply(weather, function(x) sum(is.na(x)))\n",
    "weather_NA"
   ]
  },
  {
   "cell_type": "code",
   "execution_count": null,
   "metadata": {},
   "outputs": [],
   "source": [
    "na.rm = TRUE"
   ]
  },
  {
   "cell_type": "code",
   "execution_count": 84,
   "metadata": {},
   "outputs": [
    {
     "data": {
      "text/plain": [
       "    origin               year          month             day       \n",
       " Length:26115       Min.   :2013   Min.   : 1.000   Min.   : 1.00  \n",
       " Class :character   1st Qu.:2013   1st Qu.: 4.000   1st Qu.: 8.00  \n",
       " Mode  :character   Median :2013   Median : 7.000   Median :16.00  \n",
       "                    Mean   :2013   Mean   : 6.504   Mean   :15.68  \n",
       "                    3rd Qu.:2013   3rd Qu.: 9.000   3rd Qu.:23.00  \n",
       "                    Max.   :2013   Max.   :12.000   Max.   :31.00  \n",
       "                                                                   \n",
       "      hour            temp             dewp           humid       \n",
       " Min.   : 0.00   Min.   : 10.94   Min.   :-9.94   Min.   : 12.74  \n",
       " 1st Qu.: 6.00   1st Qu.: 39.92   1st Qu.:26.06   1st Qu.: 47.05  \n",
       " Median :11.00   Median : 55.40   Median :42.08   Median : 61.79  \n",
       " Mean   :11.49   Mean   : 55.26   Mean   :41.44   Mean   : 62.53  \n",
       " 3rd Qu.:17.00   3rd Qu.: 69.98   3rd Qu.:57.92   3rd Qu.: 78.79  \n",
       " Max.   :23.00   Max.   :100.04   Max.   :78.08   Max.   :100.00  \n",
       "                 NA's   :1        NA's   :1       NA's   :1       \n",
       "    wind_dir       wind_speed         wind_gust          precip        \n",
       " Min.   :  0.0   Min.   :   0.000   Min.   : 0.000   Min.   :0.000000  \n",
       " 1st Qu.:120.0   1st Qu.:   6.905   1st Qu.: 0.000   1st Qu.:0.000000  \n",
       " Median :220.0   Median :  10.357   Median : 0.000   Median :0.000000  \n",
       " Mean   :199.8   Mean   :  10.518   Mean   : 5.209   Mean   :0.004469  \n",
       " 3rd Qu.:290.0   3rd Qu.:  13.809   3rd Qu.: 0.000   3rd Qu.:0.000000  \n",
       " Max.   :360.0   Max.   :1048.361   Max.   :66.745   Max.   :1.210000  \n",
       " NA's   :460     NA's   :4                                             \n",
       "    pressure          visib          time_hour                  \n",
       " Min.   : 983.8   Min.   : 0.000   Min.   :2013-01-01 01:00:00  \n",
       " 1st Qu.:1012.9   1st Qu.:10.000   1st Qu.:2013-04-01 21:30:00  \n",
       " Median :1017.6   Median :10.000   Median :2013-07-01 14:00:00  \n",
       " Mean   :1017.9   Mean   : 9.255   Mean   :2013-07-01 18:26:37  \n",
       " 3rd Qu.:1023.0   3rd Qu.:10.000   3rd Qu.:2013-09-30 13:00:00  \n",
       " Max.   :1042.1   Max.   :10.000   Max.   :2013-12-30 18:00:00  \n",
       " NA's   :2729                                                   "
      ]
     },
     "metadata": {},
     "output_type": "display_data"
    }
   ],
   "source": [
    "summary(weather)"
   ]
  },
  {
   "cell_type": "markdown",
   "metadata": {},
   "source": [
    "### Sortez des statistiques sur les variables qui vous semblent pouvoir impacter le retard des avions, sur toute la base puis selon l’aéroport."
   ]
  },
  {
   "cell_type": "markdown",
   "metadata": {},
   "source": [
    "Un corrélogramme représente le graphique d’une matrice de corrélation. Le corrélogramme est très important pour mettre en évidence les variables les plus corrélées. Dans cet type de graphique, les coefficients de corrélation sont colorés en fonction de leur valeur. La matrice de corrélation peut être aussi réordonnée en fonction du degré de corrélation entre les variables. Le package corrplot de R est utilisé dans ce document."
   ]
  },
  {
   "cell_type": "markdown",
   "metadata": {},
   "source": [
    "http://www.sthda.com/french/wiki/visualiser-une-matrice-de-correlation-par-un-correlogramme"
   ]
  },
  {
   "cell_type": "code",
   "execution_count": 83,
   "metadata": {},
   "outputs": [
    {
     "data": {
      "image/png": "[encoded data removed]",
      "text/plain": [
       "Plot with title \"Correlation\n",
       "         entre les parametres météo et les retards\""
      ]
     },
     "metadata": {},
     "output_type": "display_data"
    }
   ],
   "source": [
    "flights$hour <- ifelse(flights$hour == 24, 0, flights$hour)\n",
    "flights_weather <- inner_join(flights, weather, by = c(\"origin\" = \"origin\", \"time_hour\" = \"time_hour\"))\n",
    "flights_weather$arr_delay <- ifelse(flights_weather$arr_delay >= 0,\n",
    "                                    flights_weather$arr_delay, 0)\n",
    "flights_weather$dep_delay <- ifelse(flights_weather$dep_delay >= 0,\n",
    "                                    flights_weather$dep_delay, 0)\n",
    "\n",
    "\n",
    "\n",
    "flights_weather$total_delay <- flights_weather$arr_delay + flights_weather$dep_delay\n",
    "weather$wind_gust[is.na(weather$wind_gust)] <- 0\n",
    "cor_data <- select(flights_weather,arr_delay, dep_delay,total_delay, temp, dewp, humid,\n",
    "                   wind_dir, wind_speed, wind_gust, precip, pressure, visib)\n",
    "cor_data <- cor_data[!cor_data$dep_delay <= 10,]\n",
    "cor_data <- cor_data[!cor_data$arr_delay <= 10,]\n",
    "corrplot(cor(na.omit(cor_data)), method = \"number\", type = \"upper\", order=\"hclust\",\n",
    "         tl.srt = 25, tl.col = \"Black\", tl.cex = 1, title = \"Correlation\n",
    "         entre les parametres météo et les retards\", mar =c(0, 0, 4, 0) + 0.1)"
   ]
  },
  {
   "cell_type": "markdown",
   "metadata": {},
   "source": [
    "#### day"
   ]
  },
  {
   "cell_type": "code",
   "execution_count": 76,
   "metadata": {},
   "outputs": [
    {
     "data": {
      "text/html": [
       "<table>\n",
       "<thead><tr><th scope=col>day</th><th scope=col>avg_delay</th></tr></thead>\n",
       "<tbody>\n",
       "\t<tr><td> 8       </td><td>40.832950</td></tr>\n",
       "\t<tr><td>22       </td><td>36.116989</td></tr>\n",
       "\t<tr><td>23       </td><td>34.138017</td></tr>\n",
       "\t<tr><td>10       </td><td>33.036514</td></tr>\n",
       "\t<tr><td>12       </td><td>26.316738</td></tr>\n",
       "\t<tr><td>11       </td><td>26.309286</td></tr>\n",
       "\t<tr><td>24       </td><td>25.737473</td></tr>\n",
       "\t<tr><td>19       </td><td>25.403336</td></tr>\n",
       "\t<tr><td>18       </td><td>24.965716</td></tr>\n",
       "\t<tr><td>25       </td><td>24.524466</td></tr>\n",
       "\t<tr><td>28       </td><td>23.926781</td></tr>\n",
       "\t<tr><td> 7       </td><td>23.896900</td></tr>\n",
       "\t<tr><td>17       </td><td>23.605112</td></tr>\n",
       "\t<tr><td> 9       </td><td>23.592193</td></tr>\n",
       "\t<tr><td>13       </td><td>22.901398</td></tr>\n",
       "\t<tr><td> 1       </td><td>21.536355</td></tr>\n",
       "\t<tr><td> 2       </td><td>20.883606</td></tr>\n",
       "\t<tr><td>27       </td><td>15.415182</td></tr>\n",
       "\t<tr><td> 3       </td><td>15.281214</td></tr>\n",
       "\t<tr><td>26       </td><td>13.404101</td></tr>\n",
       "\t<tr><td>31       </td><td>12.865746</td></tr>\n",
       "\t<tr><td>16       </td><td>12.475657</td></tr>\n",
       "\t<tr><td>14       </td><td>12.194987</td></tr>\n",
       "\t<tr><td>21       </td><td>11.896045</td></tr>\n",
       "\t<tr><td>30       </td><td>10.716131</td></tr>\n",
       "\t<tr><td>20       </td><td> 9.940030</td></tr>\n",
       "\t<tr><td>29       </td><td> 8.328306</td></tr>\n",
       "\t<tr><td> 5       </td><td> 8.313330</td></tr>\n",
       "\t<tr><td>15       </td><td> 5.542129</td></tr>\n",
       "\t<tr><td> 6       </td><td> 5.241340</td></tr>\n",
       "\t<tr><td> 4       </td><td> 4.006931</td></tr>\n",
       "</tbody>\n",
       "</table>\n"
      ],
      "text/latex": [
       "\\begin{tabular}{r|ll}\n",
       " day & avg\\_delay\\\\\n",
       "\\hline\n",
       "\t  8        & 40.832950\\\\\n",
       "\t 22        & 36.116989\\\\\n",
       "\t 23        & 34.138017\\\\\n",
       "\t 10        & 33.036514\\\\\n",
       "\t 12        & 26.316738\\\\\n",
       "\t 11        & 26.309286\\\\\n",
       "\t 24        & 25.737473\\\\\n",
       "\t 19        & 25.403336\\\\\n",
       "\t 18        & 24.965716\\\\\n",
       "\t 25        & 24.524466\\\\\n",
       "\t 28        & 23.926781\\\\\n",
       "\t  7        & 23.896900\\\\\n",
       "\t 17        & 23.605112\\\\\n",
       "\t  9        & 23.592193\\\\\n",
       "\t 13        & 22.901398\\\\\n",
       "\t  1        & 21.536355\\\\\n",
       "\t  2        & 20.883606\\\\\n",
       "\t 27        & 15.415182\\\\\n",
       "\t  3        & 15.281214\\\\\n",
       "\t 26        & 13.404101\\\\\n",
       "\t 31        & 12.865746\\\\\n",
       "\t 16        & 12.475657\\\\\n",
       "\t 14        & 12.194987\\\\\n",
       "\t 21        & 11.896045\\\\\n",
       "\t 30        & 10.716131\\\\\n",
       "\t 20        &  9.940030\\\\\n",
       "\t 29        &  8.328306\\\\\n",
       "\t  5        &  8.313330\\\\\n",
       "\t 15        &  5.542129\\\\\n",
       "\t  6        &  5.241340\\\\\n",
       "\t  4        &  4.006931\\\\\n",
       "\\end{tabular}\n"
      ],
      "text/markdown": [
       "\n",
       "| day | avg_delay |\n",
       "|---|---|\n",
       "|  8        | 40.832950 |\n",
       "| 22        | 36.116989 |\n",
       "| 23        | 34.138017 |\n",
       "| 10        | 33.036514 |\n",
       "| 12        | 26.316738 |\n",
       "| 11        | 26.309286 |\n",
       "| 24        | 25.737473 |\n",
       "| 19        | 25.403336 |\n",
       "| 18        | 24.965716 |\n",
       "| 25        | 24.524466 |\n",
       "| 28        | 23.926781 |\n",
       "|  7        | 23.896900 |\n",
       "| 17        | 23.605112 |\n",
       "|  9        | 23.592193 |\n",
       "| 13        | 22.901398 |\n",
       "|  1        | 21.536355 |\n",
       "|  2        | 20.883606 |\n",
       "| 27        | 15.415182 |\n",
       "|  3        | 15.281214 |\n",
       "| 26        | 13.404101 |\n",
       "| 31        | 12.865746 |\n",
       "| 16        | 12.475657 |\n",
       "| 14        | 12.194987 |\n",
       "| 21        | 11.896045 |\n",
       "| 30        | 10.716131 |\n",
       "| 20        |  9.940030 |\n",
       "| 29        |  8.328306 |\n",
       "|  5        |  8.313330 |\n",
       "| 15        |  5.542129 |\n",
       "|  6        |  5.241340 |\n",
       "|  4        |  4.006931 |\n",
       "\n"
      ],
      "text/plain": [
       "   day avg_delay\n",
       "1   8  40.832950\n",
       "2  22  36.116989\n",
       "3  23  34.138017\n",
       "4  10  33.036514\n",
       "5  12  26.316738\n",
       "6  11  26.309286\n",
       "7  24  25.737473\n",
       "8  19  25.403336\n",
       "9  18  24.965716\n",
       "10 25  24.524466\n",
       "11 28  23.926781\n",
       "12  7  23.896900\n",
       "13 17  23.605112\n",
       "14  9  23.592193\n",
       "15 13  22.901398\n",
       "16  1  21.536355\n",
       "17  2  20.883606\n",
       "18 27  15.415182\n",
       "19  3  15.281214\n",
       "20 26  13.404101\n",
       "21 31  12.865746\n",
       "22 16  12.475657\n",
       "23 14  12.194987\n",
       "24 21  11.896045\n",
       "25 30  10.716131\n",
       "26 20   9.940030\n",
       "27 29   8.328306\n",
       "28  5   8.313330\n",
       "29 15   5.542129\n",
       "30  6   5.241340\n",
       "31  4   4.006931"
      ]
     },
     "metadata": {},
     "output_type": "display_data"
    }
   ],
   "source": [
    "flights %>%\n",
    "  select(day, arr_delay, dep_delay) %>% \n",
    "  group_by(day) %>% \n",
    "  summarise(avg_delay =  mean(arr_delay, na.rm = TRUE) + \n",
    "              mean(dep_delay, na.rm = TRUE)) %>% \n",
    "  arrange(-avg_delay)"
   ]
  },
  {
   "cell_type": "markdown",
   "metadata": {},
   "source": [
    "#### temp"
   ]
  },
  {
   "cell_type": "code",
   "execution_count": 21,
   "metadata": {},
   "outputs": [
    {
     "name": "stderr",
     "output_type": "stream",
     "text": [
      "`stat_bin()` using `bins = 30`. Pick better value with `binwidth`.\n"
     ]
    },
    {
     "data": {
      "image/png": "[encoded data removed]",
      "text/plain": [
       "plot without title"
      ]
     },
     "metadata": {},
     "output_type": "display_data"
    }
   ],
   "source": [
    "weather %>%\n",
    "      filter(month == 7) %>%\n",
    "      ggplot(aes(x = temp)) +\n",
    "      geom_histogram() +\n",
    "      labs(x = \"Temperature\", y = \"Counts\", title = \"Distribution of temperature in July, 2013\")"
   ]
  },
  {
   "cell_type": "code",
   "execution_count": 9,
   "metadata": {},
   "outputs": [
    {
     "name": "stderr",
     "output_type": "stream",
     "text": [
      "`stat_bin()` using `bins = 30`. Pick better value with `binwidth`.\n",
      "Warning message:\n",
      "\"Removed 1 rows containing non-finite values (stat_bin).\""
     ]
    },
    {
     "data": {
      "image/png": "[encoded data removed]",
      "text/plain": [
       "plot without title"
      ]
     },
     "metadata": {},
     "output_type": "display_data"
    }
   ],
   "source": [
    "ggplot(data = weather, mapping = aes(x = temp)) +\n",
    "  geom_histogram(color = \"white\", fill = \"steelblue\")"
   ]
  },
  {
   "cell_type": "code",
   "execution_count": 60,
   "metadata": {},
   "outputs": [
    {
     "data": {
      "text/html": [
       "<table>\n",
       "<thead><tr><th scope=col>month</th><th scope=col>IQR</th></tr></thead>\n",
       "<tbody>\n",
       "\t<tr><td>11   </td><td>16.02</td></tr>\n",
       "\t<tr><td>12   </td><td>14.04</td></tr>\n",
       "\t<tr><td> 1   </td><td>13.77</td></tr>\n",
       "\t<tr><td> 9   </td><td>12.06</td></tr>\n",
       "\t<tr><td> 4   </td><td>12.06</td></tr>\n",
       "\t<tr><td> 5   </td><td>11.88</td></tr>\n",
       "\t<tr><td> 6   </td><td>10.98</td></tr>\n",
       "\t<tr><td>10   </td><td>10.98</td></tr>\n",
       "\t<tr><td> 2   </td><td>10.08</td></tr>\n",
       "\t<tr><td> 7   </td><td> 9.18</td></tr>\n",
       "\t<tr><td> 3   </td><td> 9.00</td></tr>\n",
       "\t<tr><td> 8   </td><td> 7.02</td></tr>\n",
       "</tbody>\n",
       "</table>\n"
      ],
      "text/latex": [
       "\\begin{tabular}{r|ll}\n",
       " month & IQR\\\\\n",
       "\\hline\n",
       "\t 11    & 16.02\\\\\n",
       "\t 12    & 14.04\\\\\n",
       "\t  1    & 13.77\\\\\n",
       "\t  9    & 12.06\\\\\n",
       "\t  4    & 12.06\\\\\n",
       "\t  5    & 11.88\\\\\n",
       "\t  6    & 10.98\\\\\n",
       "\t 10    & 10.98\\\\\n",
       "\t  2    & 10.08\\\\\n",
       "\t  7    &  9.18\\\\\n",
       "\t  3    &  9.00\\\\\n",
       "\t  8    &  7.02\\\\\n",
       "\\end{tabular}\n"
      ],
      "text/markdown": [
       "\n",
       "| month | IQR |\n",
       "|---|---|\n",
       "| 11    | 16.02 |\n",
       "| 12    | 14.04 |\n",
       "|  1    | 13.77 |\n",
       "|  9    | 12.06 |\n",
       "|  4    | 12.06 |\n",
       "|  5    | 11.88 |\n",
       "|  6    | 10.98 |\n",
       "| 10    | 10.98 |\n",
       "|  2    | 10.08 |\n",
       "|  7    |  9.18 |\n",
       "|  3    |  9.00 |\n",
       "|  8    |  7.02 |\n",
       "\n"
      ],
      "text/plain": [
       "   month IQR  \n",
       "1  11    16.02\n",
       "2  12    14.04\n",
       "3   1    13.77\n",
       "4   9    12.06\n",
       "5   4    12.06\n",
       "6   5    11.88\n",
       "7   6    10.98\n",
       "8  10    10.98\n",
       "9   2    10.08\n",
       "10  7     9.18\n",
       "11  3     9.00\n",
       "12  8     7.02"
      ]
     },
     "metadata": {},
     "output_type": "display_data"
    }
   ],
   "source": [
    "weather %>%\n",
    "  group_by(month) %>%\n",
    "  summarize(IQR = IQR(temp, na.rm=TRUE)) %>%\n",
    "  arrange(desc(IQR))"
   ]
  },
  {
   "cell_type": "code",
   "execution_count": 83,
   "metadata": {},
   "outputs": [
    {
     "name": "stderr",
     "output_type": "stream",
     "text": [
      "Warning message:\n",
      "\"Removed 660 rows containing missing values (geom_point).\""
     ]
    },
    {
     "data": {
      "image/png": "[encoded data removed]",
      "text/plain": [
       "plot without title"
      ]
     },
     "metadata": {},
     "output_type": "display_data"
    }
   ],
   "source": [
    "mypal <- RColorBrewer::brewer.pal(6, \"Greens\")\n",
    "mypal <- c(mypal,  rev(mypal))  \n",
    "\n",
    "ggplot(weather, aes(x=wind_speed, y=temp,  col=hour)) + geom_jitter() +xlim(0, 50)+ facet_wrap(~ month)+scale_color_gradientn(colors=mypal)+xlab(\"wind_speed (mph)\")+ylab(\"temp (F)\")"
   ]
  },
  {
   "cell_type": "markdown",
   "metadata": {},
   "source": [
    "#### Point de rosée : dewp (dewpoint in F) "
   ]
  },
  {
   "cell_type": "markdown",
   "metadata": {},
   "source": [
    "https://fr.wikipedia.org/wiki/Point_de_ros%C3%A9e"
   ]
  },
  {
   "cell_type": "code",
   "execution_count": 11,
   "metadata": {},
   "outputs": [
    {
     "ename": "ERROR",
     "evalue": "Error in eval(lhs, parent, parent): objet 'sfweather_hr' introuvable\n",
     "output_type": "error",
     "traceback": [
      "Error in eval(lhs, parent, parent): objet 'sfweather_hr' introuvable\nTraceback:\n",
      "1. sfweather_hr %>% select(FL_DATE, DEWP, HUMID) %>% filter(!is.na(DEWP), \n .     !is.na(HUMID)) %>% gather(key = grp, val = statistics, DEWP, \n .     HUMID)",
      "2. eval(lhs, parent, parent)",
      "3. eval(lhs, parent, parent)"
     ]
    }
   ],
   "source": [
    "sfweather_hr2 <- sfweather_hr %>% \n",
    "  select(FL_DATE, DEWP, HUMID) %>%\n",
    "  filter(!is.na(DEWP), !is.na(HUMID)) %>% \n",
    "  gather(key = grp, val = statistics, DEWP, HUMID) \n",
    "\n",
    "ggplot(sfweather_hr2, aes(x = FL_DATE, y = statistics, color = grp)) +\n",
    "  geom_line() +\n",
    "  geom_smooth()"
   ]
  },
  {
   "cell_type": "markdown",
   "metadata": {},
   "source": [
    "#### humid"
   ]
  },
  {
   "cell_type": "code",
   "execution_count": 22,
   "metadata": {},
   "outputs": [
    {
     "name": "stderr",
     "output_type": "stream",
     "text": [
      "`geom_smooth()` using method = 'gam' and formula 'y ~ s(x, bs = \"cs\")'\n",
      "Warning message:\n",
      "\"Removed 1 rows containing non-finite values (stat_smooth).\"Warning message:\n",
      "\"Removed 1 rows containing missing values (geom_point).\""
     ]
    },
    {
     "data": {
      "image/png": "[encoded data removed]",
      "text/plain": [
       "plot without title"
      ]
     },
     "metadata": {},
     "output_type": "display_data"
    }
   ],
   "source": [
    "weather%>%\n",
    "      ggplot(aes(x = dewp, y = humid)) +\n",
    "      geom_point(size = 1) +\n",
    "      geom_smooth() +\n",
    "      labs(title = \"Relationship between humid and dewp\")"
   ]
  },
  {
   "cell_type": "markdown",
   "metadata": {},
   "source": [
    "#### wind_dir"
   ]
  },
  {
   "cell_type": "code",
   "execution_count": null,
   "metadata": {},
   "outputs": [],
   "source": [
    "wind_data <- select(flights_weather, total_delay, wind_speed)\n",
    "#wind_data <- wind_data[is.na(wind_data)] <- 0\n",
    "wind_data <- wind_data[!wind_data$wind_speed <= 0,]\n",
    "wind_data <- wind_data[!wind_data$total_delay <= 0,]\n",
    "wind_data <- wind_data[!is.na(wind_data$total_delay),]"
   ]
  },
  {
   "cell_type": "code",
   "execution_count": null,
   "metadata": {},
   "outputs": [],
   "source": [
    "w3 %>% \n",
    "ggplot(aes(x = wind_mean, y = total_delay)) +\n",
    "geom_point(color = \"blue\") +\n",
    "geom_smooth()"
   ]
  },
  {
   "cell_type": "markdown",
   "metadata": {},
   "source": [
    "#### wind_speed"
   ]
  },
  {
   "cell_type": "code",
   "execution_count": 5,
   "metadata": {},
   "outputs": [],
   "source": [
    "wind_data <- select(flights_weather, total_delay, wind_speed)\n",
    "#wind_data <- wind_data[is.na(wind_data)] <- 0\n",
    "wind_data <- wind_data[!wind_data$wind_speed <= 0,]\n",
    "wind_data <- wind_data[!wind_data$total_delay <= 0,]\n",
    "wind_data <- wind_data[!is.na(wind_data$total_delay),]\n",
    "#wind_data$total_delay <- wind_data$total_delay[is.na(wind_data$total_delay)] <- 0"
   ]
  },
  {
   "cell_type": "code",
   "execution_count": 81,
   "metadata": {},
   "outputs": [],
   "source": [
    "wind_data <- wind_data %>% \n",
    "    group_by(total_delay)"
   ]
  },
  {
   "cell_type": "code",
   "execution_count": 90,
   "metadata": {},
   "outputs": [
    {
     "data": {
      "image/png": "[encoded data removed]",
      "text/plain": [
       "plot without title"
      ]
     },
     "metadata": {},
     "output_type": "display_data"
    }
   ],
   "source": [
    "wind_data %>% \n",
    "    group_by(total_delay)  %>% \n",
    "ggplot(aes(x = wind_speed, y = total_delay)) +\n",
    "geom_bar(stat=\"identity\", fill=\"steelblue\")"
   ]
  },
  {
   "cell_type": "code",
   "execution_count": 18,
   "metadata": {},
   "outputs": [],
   "source": [
    "w3 <- wind_data %>% \n",
    "    group_by(total_delay)  %>% \n",
    "    summarise(wind_mean = mean(wind_speed, na.rm = TRUE)) "
   ]
  },
  {
   "cell_type": "code",
   "execution_count": 82,
   "metadata": {},
   "outputs": [
    {
     "name": "stderr",
     "output_type": "stream",
     "text": [
      "`geom_smooth()` using method = 'loess' and formula 'y ~ x'\n"
     ]
    },
    {
     "data": {
      "image/png": "[encoded data removed]",
      "text/plain": [
       "plot without title"
      ]
     },
     "metadata": {},
     "output_type": "display_data"
    }
   ],
   "source": [
    "w3 %>% \n",
    "ggplot(aes(x = wind_mean, y = total_delay)) +\n",
    "ggtitle(\"Retards en fonction de la vitesse du vent\") +\n",
    "labs(y=\"Retard moyen\", x = \"Vitesse du vent en mille par heure (mph) 1 mph = 1,60934 km/h\") +\n",
    "geom_point(color = \"blue\") +\n",
    "geom_smooth()"
   ]
  },
  {
   "cell_type": "code",
   "execution_count": 77,
   "metadata": {},
   "outputs": [
    {
     "data": {
      "text/html": [
       "<table>\n",
       "<thead><tr><th scope=col>month</th><th scope=col>day</th><th scope=col>avgdelay</th><th scope=col>totprecip</th><th scope=col>maxwind</th><th scope=col>anyprecip</th></tr></thead>\n",
       "<tbody>\n",
       "\t<tr><td>1        </td><td>1        </td><td>12.651023</td><td>0        </td><td>24.16638 </td><td>No       </td></tr>\n",
       "\t<tr><td>1        </td><td>2        </td><td>12.692888</td><td>0        </td><td>20.71404 </td><td>No       </td></tr>\n",
       "\t<tr><td>1        </td><td>3        </td><td> 5.733333</td><td>0        </td><td>17.26170 </td><td>No       </td></tr>\n",
       "\t<tr><td>1        </td><td>4        </td><td>-1.932819</td><td>0        </td><td>24.16638 </td><td>No       </td></tr>\n",
       "\t<tr><td>1        </td><td>5        </td><td>-1.525802</td><td>0        </td><td>20.71404 </td><td>No       </td></tr>\n",
       "\t<tr><td>1        </td><td>6        </td><td> 4.236429</td><td>0        </td><td>16.11092 </td><td>No       </td></tr>\n",
       "</tbody>\n",
       "</table>\n"
      ],
      "text/latex": [
       "\\begin{tabular}{r|llllll}\n",
       " month & day & avgdelay & totprecip & maxwind & anyprecip\\\\\n",
       "\\hline\n",
       "\t 1         & 1         & 12.651023 & 0         & 24.16638  & No       \\\\\n",
       "\t 1         & 2         & 12.692888 & 0         & 20.71404  & No       \\\\\n",
       "\t 1         & 3         &  5.733333 & 0         & 17.26170  & No       \\\\\n",
       "\t 1         & 4         & -1.932819 & 0         & 24.16638  & No       \\\\\n",
       "\t 1         & 5         & -1.525802 & 0         & 20.71404  & No       \\\\\n",
       "\t 1         & 6         &  4.236429 & 0         & 16.11092  & No       \\\\\n",
       "\\end{tabular}\n"
      ],
      "text/markdown": [
       "\n",
       "| month | day | avgdelay | totprecip | maxwind | anyprecip |\n",
       "|---|---|---|---|---|---|\n",
       "| 1         | 1         | 12.651023 | 0         | 24.16638  | No        |\n",
       "| 1         | 2         | 12.692888 | 0         | 20.71404  | No        |\n",
       "| 1         | 3         |  5.733333 | 0         | 17.26170  | No        |\n",
       "| 1         | 4         | -1.932819 | 0         | 24.16638  | No        |\n",
       "| 1         | 5         | -1.525802 | 0         | 20.71404  | No        |\n",
       "| 1         | 6         |  4.236429 | 0         | 16.11092  | No        |\n",
       "\n"
      ],
      "text/plain": [
       "  month day avgdelay  totprecip maxwind  anyprecip\n",
       "1 1     1   12.651023 0         24.16638 No       \n",
       "2 1     2   12.692888 0         20.71404 No       \n",
       "3 1     3    5.733333 0         17.26170 No       \n",
       "4 1     4   -1.932819 0         24.16638 No       \n",
       "5 1     5   -1.525802 0         20.71404 No       \n",
       "6 1     6    4.236429 0         16.11092 No       "
      ]
     },
     "metadata": {},
     "output_type": "display_data"
    }
   ],
   "source": [
    "avgdelay <- flights %>%\n",
    "  group_by(month, day) %>%\n",
    "  filter(month < 13) %>%\n",
    "  summarise(avgdelay =mean(arr_delay, na.rm=TRUE))\n",
    "precip <- weather %>%\n",
    "  group_by(month, day) %>%\n",
    "  filter(month < 13) %>%\n",
    "  summarise(totprecip =sum(precip), maxwind =max(wind_speed))\n",
    "precip <-mutate(precip, anyprecip =ifelse(totprecip==0, \"No\", \"Yes\"))\n",
    "merged <-left_join(avgdelay, precip, by=c(\"day\", \"month\"))\n",
    "head(merged)"
   ]
  },
  {
   "cell_type": "markdown",
   "metadata": {},
   "source": [
    "#### wind_gust"
   ]
  },
  {
   "cell_type": "code",
   "execution_count": 31,
   "metadata": {},
   "outputs": [],
   "source": [
    "wind_gust <- select(flights_weather, total_delay, wind_gust)\n",
    "wind_gust <- wind_gust[!wind_gust$wind_gust <= 0,]\n",
    "wind_gust <- wind_gust[!wind_gust$total_delay <= 0,]\n",
    "wind_gust <- wind_gust[!is.na(wind_gust$total_delay),]\n",
    "wind_gust <- wind_gust %>% \n",
    "    group_by(total_delay)  %>% \n",
    "    summarise(wind_gust_mean = mean(wind_gust, na.rm = TRUE)) "
   ]
  },
  {
   "cell_type": "code",
   "execution_count": 81,
   "metadata": {},
   "outputs": [
    {
     "name": "stderr",
     "output_type": "stream",
     "text": [
      "`geom_smooth()` using method = 'loess' and formula 'y ~ x'\n"
     ]
    },
    {
     "data": {
      "image/png": "[encoded data removed]",
      "text/plain": [
       "plot without title"
      ]
     },
     "metadata": {},
     "output_type": "display_data"
    }
   ],
   "source": [
    "wind_gust %>% \n",
    "ggplot(aes(x = wind_gust_mean, y = total_delay)) +\n",
    "geom_point(color = \"blue\") +\n",
    "ggtitle(\"Retards en fonction des rafales\") +\n",
    "labs(y=\"Retard moyen\", x = \"Vitesse des rafales en mille par heure (mph) 1 mph = 1,60934 km/h\") +\n",
    "geom_smooth()"
   ]
  },
  {
   "cell_type": "markdown",
   "metadata": {},
   "source": [
    "#### pluie : precip"
   ]
  },
  {
   "cell_type": "code",
   "execution_count": 49,
   "metadata": {},
   "outputs": [],
   "source": [
    "df_precip <- select(flights_weather, total_delay, precip)\n",
    "df_precip <- df_precip[!df_precip$precip <= 0,]\n",
    "df_precip <- df_precip[!df_precip$total_delay <= 0,]\n",
    "df_precip <- df_precip[!is.na(df_precip$total_delay),]\n",
    "df_precip <- df_precip %>% \n",
    "    group_by(total_delay)  %>% \n",
    "    summarise(precip_mean = mean(precip, na.rm = TRUE))\n",
    "#df_visib <- df_visib[df_visib$visib_mean < 10,]"
   ]
  },
  {
   "cell_type": "code",
   "execution_count": 70,
   "metadata": {},
   "outputs": [
    {
     "name": "stderr",
     "output_type": "stream",
     "text": [
      "`geom_smooth()` using method = 'loess' and formula 'y ~ x'\n"
     ]
    },
    {
     "data": {
      "image/png": "[encoded data removed]",
      "text/plain": [
       "plot without title"
      ]
     },
     "metadata": {},
     "output_type": "display_data"
    }
   ],
   "source": [
    "df_precip %>% \n",
    "ggplot(aes(x = precip_mean, y = total_delay)) +\n",
    "geom_point(color = \"blue\") +\n",
    "ggtitle(\"Retards en fonction de la pluie\") +\n",
    "labs(y=\"Retard moyen\", x = \"pluie en pouce (inches) (1 pouce = 25,4 mm)\") +\n",
    "geom_smooth()"
   ]
  },
  {
   "cell_type": "code",
   "execution_count": 64,
   "metadata": {},
   "outputs": [],
   "source": [
    "precip <- weather %>%\n",
    "  group_by(month, day) %>%\n",
    "  filter(month < 13) %>%\n",
    " mutate(totprecip = sum(precip), maxwind = max(wind_speed))"
   ]
  },
  {
   "cell_type": "markdown",
   "metadata": {},
   "source": [
    "#### pressure"
   ]
  },
  {
   "cell_type": "markdown",
   "metadata": {},
   "source": [
    "#### visib"
   ]
  },
  {
   "cell_type": "code",
   "execution_count": 46,
   "metadata": {},
   "outputs": [],
   "source": [
    "df_visib <- select(flights_weather, total_delay, visib)\n",
    "df_visib <- df_visib[!df_visib$visib <= 0,]\n",
    "df_visib <- df_visib[!df_visib$total_delay <= 0,]\n",
    "df_visib <- df_visib[!is.na(df_visib$total_delay),]\n",
    "df_visib <- df_visib %>% \n",
    "    group_by(total_delay)  %>% \n",
    "    summarise(visib_mean = mean(visib, na.rm = TRUE))\n",
    "df_visib <- df_visib[df_visib$visib_mean < 10,]"
   ]
  },
  {
   "cell_type": "code",
   "execution_count": 68,
   "metadata": {},
   "outputs": [
    {
     "name": "stderr",
     "output_type": "stream",
     "text": [
      "`geom_smooth()` using method = 'loess' and formula 'y ~ x'\n"
     ]
    },
    {
     "data": {
      "image/png": "[encoded data removed]",
      "text/plain": [
       "plot without title"
      ]
     },
     "metadata": {},
     "output_type": "display_data"
    }
   ],
   "source": [
    "df_visib %>% \n",
    "ggplot(aes(x = visib_mean, y = total_delay)) +\n",
    "ggtitle(\"Retards en fonction de la visibilité\") +\n",
    "labs(y=\"Retard moyen\", x = \"visibilité de l'aéroport\") +\n",
    "geom_point(color = \"blue\") +\n",
    "geom_smooth()"
   ]
  },
  {
   "cell_type": "markdown",
   "metadata": {},
   "source": [
    "besoin d'utiliser la fonction unite dans tidyr\n",
    "et ajout de la fonction parse_date\n",
    "conda install -c conda-forge r-parsedate"
   ]
  },
  {
   "cell_type": "markdown",
   "metadata": {},
   "source": [
    "https://lokhc.wordpress.com/r-for-data-science-solutions/chapter-13-relational-data/"
   ]
  },
  {
   "cell_type": "code",
   "execution_count": 20,
   "metadata": {},
   "outputs": [
    {
     "ename": "ERROR",
     "evalue": "Error in parse_date(date, \"%Y-%m-%d\"): impossible de trouver la fonction \"parse_date\"\n",
     "output_type": "error",
     "traceback": [
      "Error in parse_date(date, \"%Y-%m-%d\"): impossible de trouver la fonction \"parse_date\"\nTraceback:\n",
      "1. flights %>% group_by(year, month, day) %>% summarize(avg_dep_delay = mean(dep_delay, \n .     na.rm = TRUE), avg_arr_delay = mean(arr_delay, na.rm = TRUE)) %>% \n .     unite(date, year, month, day, sep = \"-\") %>% mutate(date = parse_date(date, \n .     \"%Y-%m-%d\")) %>% gather(key = \"mode\", value = \"delay\", 2:3) %>% \n .     mutate(mode = factor(mode, labels = c(\"Average arrival delay\", \n .         \"Average departure delay\")))",
      "2. withVisible(eval(quote(`_fseq`(`_lhs`)), env, env))",
      "3. eval(quote(`_fseq`(`_lhs`)), env, env)",
      "4. eval(quote(`_fseq`(`_lhs`)), env, env)",
      "5. `_fseq`(`_lhs`)",
      "6. freduce(value, `_function_list`)",
      "7. function_list[[i]](value)",
      "8. mutate(., date = parse_date(date, \"%Y-%m-%d\"))",
      "9. mutate.tbl_df(., date = parse_date(date, \"%Y-%m-%d\"))",
      "10. mutate_impl(.data, dots, caller_env())"
     ]
    }
   ],
   "source": [
    "flights_2day <- flights %>% group_by(year, month, day) %>%\n",
    "  summarize(avg_dep_delay = mean(dep_delay, na.rm = TRUE),\n",
    "            avg_arr_delay = mean(arr_delay, na.rm = TRUE)) %>%\n",
    "  unite(date, year, month, day, sep = '-') %>%\n",
    "  mutate(date = parse_date(date, \"%Y-%m-%d\")) %>%\n",
    "  gather(key = 'mode', value = 'delay', 2:3) %>%\n",
    "  mutate(mode = factor(mode, labels = c('Average arrival delay',\n",
    "                                        'Average departure delay')))\n",
    "\n",
    "weather_2day <- weather %>% group_by(year, month, day) %>%\n",
    "  summarize(avg_wind_speed = mean(wind_speed, na.rm = TRUE),\n",
    "            avg_wind_gust = mean(wind_gust, na.rm = TRUE),\n",
    "            avg_precip = mean(precip, na.rm = TRUE),\n",
    "            avg_visib = mean(visib, na.rm = TRUE)) %>%\n",
    "  unite(date, year, month, day, sep = '-') %>%\n",
    "  mutate(date = parse_date(date, \"%Y-%m-%d\"))\n",
    "\n",
    "flights_2day %>% ggplot() +\n",
    "  geom_point(mapping = aes(x = date, y = delay, color = mode)) +\n",
    "  geom_line(mapping = aes(x = date, y = delay, color = mode)) +\n",
    "  geom_line(data = weather_2day,\n",
    "            mapping = aes(x = date, y = (avg_visib-10)*5, color = 'Average visibility')) +\n",
    "  scale_y_continuous(sec.axis = sec_axis(~./5 + 10,\n",
    "                                         name = \"Average visibility (km)\")) +\n",
    "  facet_wrap(~mode, ncol = 1) +\n",
    "  labs(x = \"Date\",\n",
    "       y = \"Average delay (minutes)\",\n",
    "       color = 'Legend',\n",
    "       title = \"Average delay and average visibility\")"
   ]
  },
  {
   "cell_type": "markdown",
   "metadata": {},
   "source": [
    "#### time_hour"
   ]
  },
  {
   "cell_type": "markdown",
   "metadata": {},
   "source": [
    "### Quel traitement reste-t-il à faire sur la base de données flights pour pouvoir la rapprocher des données météo?"
   ]
  },
  {
   "cell_type": "code",
   "execution_count": null,
   "metadata": {},
   "outputs": [],
   "source": [
    "flights %>% group_by(origin)"
   ]
  },
  {
   "cell_type": "code",
   "execution_count": null,
   "metadata": {},
   "outputs": [],
   "source": [
    "# grouper les vols par heure (moyenne)  ajouter au tableau  \n",
    "# merger sur time_hour (grouper ou merger) sumerize\n",
    "# et origin"
   ]
  },
  {
   "cell_type": "markdown",
   "metadata": {},
   "source": [
    "### Fusion de tables\n",
    "Fusionnez la table flights ainsi transformée et la table weather en utilisant la fonction de merge de dplyr qui vous semble la plus appropriée entre inner_join, left_join, right_join et outer_join."
   ]
  },
  {
   "cell_type": "markdown",
   "metadata": {},
   "source": [
    "### Vérifiez que de nouvelles valeurs manquantes ne sont pas apparues dans cette nouvelle table, si oui traitez-les."
   ]
  },
  {
   "cell_type": "markdown",
   "metadata": {},
   "source": [
    "## Analyse"
   ]
  },
  {
   "cell_type": "markdown",
   "metadata": {},
   "source": [
    "En vous appuyant sur la comparaison des statistiques déjà réalisées et sur au moins 4 représentations graphiques bien choisies, proposez une analyse de l’effet des conditions météorologiques sur les retards des avions. Pensez à définir une problématique en amont, que vous êtes libres de choisir : vous n’êtes pas obligés d’utiliser toutes les variables à disposition!"
   ]
  },
  {
   "cell_type": "code",
   "execution_count": 10,
   "metadata": {},
   "outputs": [
    {
     "data": {
      "image/png": "[encoded data removed]",
      "text/plain": [
       "plot without title"
      ]
     },
     "metadata": {},
     "output_type": "display_data"
    }
   ],
   "source": [
    "ggplot(data = flights, mapping = aes(x = carrier, fill = origin)) +\n",
    "  geom_bar()"
   ]
  },
  {
   "cell_type": "markdown",
   "metadata": {},
   "source": [
    "Export RDS"
   ]
  },
  {
   "cell_type": "code",
   "execution_count": 54,
   "metadata": {},
   "outputs": [],
   "source": [
    "delays_weather <- select(flights_weather,arr_delay, dep_delay,total_delay, temp, dewp, humid,\n",
    "                   wind_dir, wind_speed, wind_gust, precip, pressure, visib)"
   ]
  },
  {
   "cell_type": "code",
   "execution_count": null,
   "metadata": {},
   "outputs": [],
   "source": [
    "delays_weather <-  delays_weather is.na(delays_weather)\n",
    "wind_data <- wind_data[!wind_data$total_delay <= 0,]\n",
    "wind_data <- wind_data[!is.na(wind_data$total_delay),]"
   ]
  },
  {
   "cell_type": "code",
   "execution_count": 65,
   "metadata": {},
   "outputs": [
    {
     "ename": "ERROR",
     "evalue": "Error in delays_weather(, na.rm = TRUE): impossible de trouver la fonction \"delays_weather\"\n",
     "output_type": "error",
     "traceback": [
      "Error in delays_weather(, na.rm = TRUE): impossible de trouver la fonction \"delays_weather\"\nTraceback:\n"
     ]
    }
   ],
   "source": [
    "delays_weather <-  delays_weather (, na.rm=TRUE)"
   ]
  },
  {
   "cell_type": "code",
   "execution_count": 61,
   "metadata": {},
   "outputs": [
    {
     "ename": "ERROR",
     "evalue": "Error in parse(text = x, srcfile = src): <text>:1:21: unexpected symbol\n1: test <- c(1,2,3,NA) is.na\n                        ^\n",
     "output_type": "error",
     "traceback": [
      "Error in parse(text = x, srcfile = src): <text>:1:21: unexpected symbol\n1: test <- c(1,2,3,NA) is.na\n                        ^\nTraceback:\n"
     ]
    }
   ],
   "source": [
    "test <- c(1,2,3,NA) is.na(test)"
   ]
  },
  {
   "cell_type": "code",
   "execution_count": 60,
   "metadata": {},
   "outputs": [
    {
     "ename": "ERROR",
     "evalue": "Error in parse(text = x, srcfile = src): <text>:2:78: unexpected symbol\n1: na_list <- delays_weather(flights_weather,arr_delay, dep_delay,total_delay, temp, dewp, humid,\n2:                    wind_dir, wind_speed, wind_gust, precip, pressure, visib) is.na\n                                                                                ^\n",
     "output_type": "error",
     "traceback": [
      "Error in parse(text = x, srcfile = src): <text>:2:78: unexpected symbol\n1: na_list <- delays_weather(flights_weather,arr_delay, dep_delay,total_delay, temp, dewp, humid,\n2:                    wind_dir, wind_speed, wind_gust, precip, pressure, visib) is.na\n                                                                                ^\nTraceback:\n"
     ]
    }
   ],
   "source": [
    "na_list <- l(flights_weather,arr_delay, dep_delay,total_delay, temp, dewp, humid,\n",
    "                   wind_dir, wind_speed, wind_gust, precip, pressure, visib) is.na(na_list)"
   ]
  },
  {
   "cell_type": "code",
   "execution_count": 55,
   "metadata": {},
   "outputs": [],
   "source": [
    "saveRDS(delays_weather, file = \"delays_weather.rds\")"
   ]
  }
 ],
 "metadata": {
  "kernelspec": {
   "display_name": "R",
   "language": "R",
   "name": "ir"
  },
  "language_info": {
   "codemirror_mode": "r",
   "file_extension": ".r",
   "mimetype": "text/x-r-source",
   "name": "R",
   "pygments_lexer": "r",
   "version": "3.6.1"
  },
  "toc": {
   "base_numbering": 1,
   "nav_menu": {},
   "number_sections": true,
   "sideBar": true,
   "skip_h1_title": false,
   "title_cell": "Table of Contents",
   "title_sidebar": "Contents",
   "toc_cell": true,
   "toc_position": {
    "height": "calc(100% - 180px)",
    "left": "10px",
    "top": "150px",
    "width": "305.533px"
   },
   "toc_section_display": true,
   "toc_window_display": true
  }
 },
 "nbformat": 4,
 "nbformat_minor": 2
}
